{
 "cells": [
  {
   "cell_type": "markdown",
   "metadata": {},
   "source": [
    "# Sentiment Analysis Web App\n",
    "\n",
    "_Deep Learning Nanodegree Program | Deployment_\n",
    "\n",
    "---\n",
    "\n",
    "In this notebook we will use Amazon's SageMaker service to construct a random tree model to predict the sentiment of a movie review. In addition, we will deploy this model to an endpoint and construct a very simple web app which will interact with our model's deployed endpoint.\n",
    "\n",
    "## General Outline\n",
    "\n",
    "Typically, when using a notebook instance with SageMaker, you will proceed through the following steps. Of course, not every step will need to be done with each project. Also, there is quite a lot of room for variation in many of the steps, as you will see throughout these lessons.\n",
    "\n",
    "1. Download or otherwise retrieve the data.\n",
    "2. Process / Prepare the data.\n",
    "3. Upload the processed data to S3.\n",
    "4. Train a chosen model.\n",
    "5. Test the trained model (typically using a batch transform job).\n",
    "6. Deploy the trained model.\n",
    "7. Use the deployed model.\n",
    "\n",
    "In this notebook we will progress through each of the steps above. We will also see that the final step, using the deployed model, can be quite challenging."
   ]
  },
  {
   "cell_type": "markdown",
   "metadata": {},
   "source": [
    "## Step 1: Downloading the data\n",
    "\n",
    "The dataset we are going to use is very popular among researchers in Natural Language Processing, usually referred to as the [IMDb dataset](http://ai.stanford.edu/~amaas/data/sentiment/). It consists of movie reviews from the website [imdb.com](http://www.imdb.com/), each labeled as either '**pos**itive', if the reviewer enjoyed the film, or '**neg**ative' otherwise.\n",
    "\n",
    "> Maas, Andrew L., et al. [Learning Word Vectors for Sentiment Analysis](http://ai.stanford.edu/~amaas/data/sentiment/). In _Proceedings of the 49th Annual Meeting of the Association for Computational Linguistics: Human Language Technologies_. Association for Computational Linguistics, 2011.\n",
    "\n",
    "We begin by using some Jupyter Notebook magic to download and extract the dataset."
   ]
  },
  {
   "cell_type": "code",
   "execution_count": 1,
   "metadata": {},
   "outputs": [
    {
     "name": "stdout",
     "output_type": "stream",
     "text": [
      "mkdir: cannot create directory ‘../data’: File exists\n",
      "--2020-08-25 07:56:21--  http://ai.stanford.edu/~amaas/data/sentiment/aclImdb_v1.tar.gz\n",
      "Resolving ai.stanford.edu (ai.stanford.edu)... 171.64.68.10\n",
      "Connecting to ai.stanford.edu (ai.stanford.edu)|171.64.68.10|:80... connected.\n",
      "HTTP request sent, awaiting response... 200 OK\n",
      "Length: 84125825 (80M) [application/x-gzip]\n",
      "Saving to: ‘../data/aclImdb_v1.tar.gz’\n",
      "\n",
      "../data/aclImdb_v1. 100%[===================>]  80.23M  6.61MB/s    in 17s     \n",
      "\n",
      "2020-08-25 07:56:39 (4.60 MB/s) - ‘../data/aclImdb_v1.tar.gz’ saved [84125825/84125825]\n",
      "\n"
     ]
    }
   ],
   "source": [
    "%mkdir ../data\n",
    "!wget -O ../data/aclImdb_v1.tar.gz http://ai.stanford.edu/~amaas/data/sentiment/aclImdb_v1.tar.gz\n",
    "!tar -zxf ../data/aclImdb_v1.tar.gz -C ../data"
   ]
  },
  {
   "cell_type": "markdown",
   "metadata": {},
   "source": [
    "## Step 2: Preparing and Processing the data\n",
    "\n",
    "The data we have downloaded is split into various files, each of which contains a single review. It will be much easier going forward if we combine these individual files into two large files, one for training and one for testing."
   ]
  },
  {
   "cell_type": "code",
   "execution_count": 1,
   "metadata": {},
   "outputs": [],
   "source": [
    "import os\n",
    "import glob\n",
    "\n",
    "def read_imdb_data(data_dir='../data/aclImdb'):\n",
    "    data = {}\n",
    "    labels = {}\n",
    "    \n",
    "    for data_type in ['train', 'test']:\n",
    "        data[data_type] = {}\n",
    "        labels[data_type] = {}\n",
    "        \n",
    "        for sentiment in ['pos', 'neg']:\n",
    "            data[data_type][sentiment] = []\n",
    "            labels[data_type][sentiment] = []\n",
    "            \n",
    "            path = os.path.join(data_dir, data_type, sentiment, '*.txt')\n",
    "            files = glob.glob(path)\n",
    "            \n",
    "            for f in files:\n",
    "                with open(f) as review:\n",
    "                    data[data_type][sentiment].append(review.read())\n",
    "                    # Here we represent a positive review by '1' and a negative review by '0'\n",
    "                    labels[data_type][sentiment].append(1 if sentiment == 'pos' else 0)\n",
    "                    \n",
    "            assert len(data[data_type][sentiment]) == len(labels[data_type][sentiment]), \\\n",
    "                    \"{}/{} data size does not match labels size\".format(data_type, sentiment)\n",
    "                \n",
    "    return data, labels"
   ]
  },
  {
   "cell_type": "code",
   "execution_count": 2,
   "metadata": {},
   "outputs": [
    {
     "name": "stdout",
     "output_type": "stream",
     "text": [
      "IMDB reviews: train = 12500 pos / 12500 neg, test = 12500 pos / 12500 neg\n"
     ]
    }
   ],
   "source": [
    "data, labels = read_imdb_data()\n",
    "print(\"IMDB reviews: train = {} pos / {} neg, test = {} pos / {} neg\".format(\n",
    "            len(data['train']['pos']), len(data['train']['neg']),\n",
    "            len(data['test']['pos']), len(data['test']['neg'])))"
   ]
  },
  {
   "cell_type": "code",
   "execution_count": 3,
   "metadata": {},
   "outputs": [],
   "source": [
    "from sklearn.utils import shuffle\n",
    "\n",
    "def prepare_imdb_data(data, labels):\n",
    "    \"\"\"Prepare training and test sets from IMDb movie reviews.\"\"\"\n",
    "    \n",
    "    #Combine positive and negative reviews and labels\n",
    "    data_train = data['train']['pos'] + data['train']['neg']\n",
    "    data_test = data['test']['pos'] + data['test']['neg']\n",
    "    labels_train = labels['train']['pos'] + labels['train']['neg']\n",
    "    labels_test = labels['test']['pos'] + labels['test']['neg']\n",
    "    \n",
    "    #Shuffle reviews and corresponding labels within training and test sets\n",
    "    data_train, labels_train = shuffle(data_train, labels_train)\n",
    "    data_test, labels_test = shuffle(data_test, labels_test)\n",
    "    \n",
    "    # Return a unified training data, test data, training labels, test labets\n",
    "    return data_train, data_test, labels_train, labels_test"
   ]
  },
  {
   "cell_type": "code",
   "execution_count": 4,
   "metadata": {},
   "outputs": [
    {
     "name": "stdout",
     "output_type": "stream",
     "text": [
      "IMDb reviews (combined): train = 25000, test = 25000\n"
     ]
    }
   ],
   "source": [
    "train_X, test_X, train_y, test_y = prepare_imdb_data(data, labels)\n",
    "print(\"IMDb reviews (combined): train = {}, test = {}\".format(len(train_X), len(test_X)))"
   ]
  },
  {
   "cell_type": "code",
   "execution_count": 5,
   "metadata": {},
   "outputs": [
    {
     "data": {
      "text/plain": [
       "\"A good deal of running around. A badly conceived adversary with very little complexity. A scientist who works in communications sending off signals into space and receiving them, gets caught up with aliens. Along with his pretty wife, he invades their territory and is given secrets about them. He becomes rather traitorous in the process. Granted, he is given little choice anyway. There is a scene where he gives them everything they want. This is a dull movie with lots of long stretches where little happens. The plot isn't technically bad. It's just that we are usually following a car, a trip through a woods, investigating a building. This is what editing is all about. I suppose the story wouldn't technically support much more. Not much here.\""
      ]
     },
     "execution_count": 5,
     "metadata": {},
     "output_type": "execute_result"
    }
   ],
   "source": [
    "train_X[100]"
   ]
  },
  {
   "cell_type": "markdown",
   "metadata": {},
   "source": [
    "## Processing the data\n",
    "\n",
    "Now that we have our training and testing datasets merged and ready to use, we need to start processing the raw data into something that will be useable by our machine learning algorithm. To begin with, we remove any html formatting and any non-alpha numeric characters that may appear in the reviews. We will do this in a very simplistic way using Python's regular expression module. We will discuss the reason for this rather simplistic pre-processing later on."
   ]
  },
  {
   "cell_type": "code",
   "execution_count": 6,
   "metadata": {},
   "outputs": [],
   "source": [
    "import re\n",
    "\n",
    "REPLACE_NO_SPACE = re.compile(\"(\\.)|(\\;)|(\\:)|(\\!)|(\\')|(\\?)|(\\,)|(\\\")|(\\()|(\\))|(\\[)|(\\])\")\n",
    "REPLACE_WITH_SPACE = re.compile(\"(<br\\s*/><br\\s*/>)|(\\-)|(\\/)\")\n",
    "\n",
    "def review_to_words(review):\n",
    "    words = REPLACE_NO_SPACE.sub(\"\", review.lower())\n",
    "    words = REPLACE_WITH_SPACE.sub(\" \", words)\n",
    "    return words"
   ]
  },
  {
   "cell_type": "code",
   "execution_count": 7,
   "metadata": {},
   "outputs": [
    {
     "data": {
      "text/plain": [
       "'a good deal of running around a badly conceived adversary with very little complexity a scientist who works in communications sending off signals into space and receiving them gets caught up with aliens along with his pretty wife he invades their territory and is given secrets about them he becomes rather traitorous in the process granted he is given little choice anyway there is a scene where he gives them everything they want this is a dull movie with lots of long stretches where little happens the plot isnt technically bad its just that we are usually following a car a trip through a woods investigating a building this is what editing is all about i suppose the story wouldnt technically support much more not much here'"
      ]
     },
     "execution_count": 7,
     "metadata": {},
     "output_type": "execute_result"
    }
   ],
   "source": [
    "review_to_words(train_X[100])"
   ]
  },
  {
   "cell_type": "code",
   "execution_count": 8,
   "metadata": {},
   "outputs": [],
   "source": [
    "import pickle\n",
    "\n",
    "cache_dir = os.path.join(\"../cache\", \"sentiment_web_app\")  # where to store cache files\n",
    "os.makedirs(cache_dir, exist_ok=True)  # ensure cache directory exists\n",
    "\n",
    "def preprocess_data(data_train, data_test, labels_train, labels_test,\n",
    "                    cache_dir=cache_dir, cache_file=\"preprocessed_data.pkl\"):\n",
    "    \"\"\"Convert each review to words; read from cache if available.\"\"\"\n",
    "\n",
    "    # If cache_file is not None, try to read from it first\n",
    "    cache_data = None\n",
    "    if cache_file is not None:\n",
    "        try:\n",
    "            with open(os.path.join(cache_dir, cache_file), \"rb\") as f:\n",
    "                cache_data = pickle.load(f)\n",
    "            print(\"Read preprocessed data from cache file:\", cache_file)\n",
    "        except:\n",
    "            pass  # unable to read from cache, but that's okay\n",
    "    \n",
    "    # If cache is missing, then do the heavy lifting\n",
    "    if cache_data is None:\n",
    "        # Preprocess training and test data to obtain words for each review\n",
    "        #words_train = list(map(review_to_words, data_train))\n",
    "        #words_test = list(map(review_to_words, data_test))\n",
    "        words_train = [review_to_words(review) for review in data_train]\n",
    "        words_test = [review_to_words(review) for review in data_test]\n",
    "        \n",
    "        # Write to cache file for future runs\n",
    "        if cache_file is not None:\n",
    "            cache_data = dict(words_train=words_train, words_test=words_test,\n",
    "                              labels_train=labels_train, labels_test=labels_test)\n",
    "            with open(os.path.join(cache_dir, cache_file), \"wb\") as f:\n",
    "                pickle.dump(cache_data, f)\n",
    "            print(\"Wrote preprocessed data to cache file:\", cache_file)\n",
    "    else:\n",
    "        # Unpack data loaded from cache file\n",
    "        words_train, words_test, labels_train, labels_test = (cache_data['words_train'],\n",
    "                cache_data['words_test'], cache_data['labels_train'], cache_data['labels_test'])\n",
    "    \n",
    "    return words_train, words_test, labels_train, labels_test"
   ]
  },
  {
   "cell_type": "code",
   "execution_count": 9,
   "metadata": {},
   "outputs": [
    {
     "name": "stdout",
     "output_type": "stream",
     "text": [
      "Read preprocessed data from cache file: preprocessed_data.pkl\n"
     ]
    }
   ],
   "source": [
    "# Preprocess data\n",
    "train_X, test_X, train_y, test_y = preprocess_data(train_X, test_X, train_y, test_y)"
   ]
  },
  {
   "cell_type": "markdown",
   "metadata": {},
   "source": [
    "### Extract Bag-of-Words features\n",
    "\n",
    "For the model we will be implementing, rather than using the reviews directly, we are going to transform each review into a Bag-of-Words feature representation. Keep in mind that 'in the wild' we will only have access to the training set so our transformer can only use the training set to construct a representation."
   ]
  },
  {
   "cell_type": "code",
   "execution_count": 10,
   "metadata": {},
   "outputs": [],
   "source": [
    "import numpy as np\n",
    "from sklearn.feature_extraction.text import CountVectorizer\n",
    "import joblib\n",
    "# joblib is an enhanced version of pickle that is more efficient for storing NumPy arrays\n",
    "\n",
    "def extract_BoW_features(words_train, words_test, vocabulary_size=5000,\n",
    "                         cache_dir=cache_dir, cache_file=\"bow_features.pkl\"):\n",
    "    \"\"\"Extract Bag-of-Words for a given set of documents, already preprocessed into words.\"\"\"\n",
    "    \n",
    "    # If cache_file is not None, try to read from it first\n",
    "    cache_data = None\n",
    "    if cache_file is not None:\n",
    "        try:\n",
    "            with open(os.path.join(cache_dir, cache_file), \"rb\") as f:\n",
    "                cache_data = joblib.load(f)\n",
    "            print(\"Read features from cache file:\", cache_file)\n",
    "        except:\n",
    "            pass  # unable to read from cache, but that's okay\n",
    "    \n",
    "    # If cache is missing, then do the heavy lifting\n",
    "    if cache_data is None:\n",
    "        # Fit a vectorizer to training documents and use it to transform them\n",
    "        # NOTE: Training documents have already been preprocessed and tokenized into words;\n",
    "        #       pass in dummy functions to skip those steps, e.g. preprocessor=lambda x: x\n",
    "        vectorizer = CountVectorizer(max_features=vocabulary_size)\n",
    "        features_train = vectorizer.fit_transform(words_train).toarray()\n",
    "\n",
    "        # Apply the same vectorizer to transform the test documents (ignore unknown words)\n",
    "        features_test = vectorizer.transform(words_test).toarray()\n",
    "        \n",
    "        # NOTE: Remember to convert the features using .toarray() for a compact representation\n",
    "        \n",
    "        # Write to cache file for future runs (store vocabulary as well)\n",
    "        if cache_file is not None:\n",
    "            vocabulary = vectorizer.vocabulary_\n",
    "            cache_data = dict(features_train=features_train, features_test=features_test,\n",
    "                             vocabulary=vocabulary)\n",
    "            with open(os.path.join(cache_dir, cache_file), \"wb\") as f:\n",
    "                joblib.dump(cache_data, f)\n",
    "            print(\"Wrote features to cache file:\", cache_file)\n",
    "    else:\n",
    "        # Unpack data loaded from cache file\n",
    "        features_train, features_test, vocabulary = (cache_data['features_train'],\n",
    "                cache_data['features_test'], cache_data['vocabulary'])\n",
    "    \n",
    "    # Return both the extracted features as well as the vocabulary\n",
    "    return features_train, features_test, vocabulary"
   ]
  },
  {
   "cell_type": "code",
   "execution_count": 11,
   "metadata": {},
   "outputs": [
    {
     "name": "stdout",
     "output_type": "stream",
     "text": [
      "Read features from cache file: bow_features.pkl\n"
     ]
    }
   ],
   "source": [
    "# Extract Bag of Words features for both training and test datasets\n",
    "train_X, test_X, vocabulary = extract_BoW_features(train_X, test_X)"
   ]
  },
  {
   "cell_type": "code",
   "execution_count": 12,
   "metadata": {},
   "outputs": [
    {
     "data": {
      "text/plain": [
       "5000"
      ]
     },
     "execution_count": 12,
     "metadata": {},
     "output_type": "execute_result"
    }
   ],
   "source": [
    "len(train_X[100])"
   ]
  },
  {
   "cell_type": "markdown",
   "metadata": {},
   "source": [
    "## Step 3: Upload data to S3\n",
    "\n",
    "Now that we have created the feature representation of our training (and testing) data, it is time to start setting up and using the XGBoost classifier provided by SageMaker.\n",
    "\n",
    "### Writing the datasets\n",
    "\n",
    "The XGBoost classifier that we will be using requires the dataset to be written to a file and stored using Amazon S3. To do this, we will start by splitting the training dataset into two parts, the data we will train the model with and a validation set. Then, we will write those datasets to a file locally and then upload the files to S3. In addition, we will write the test set to a file and upload that file to S3. This is so that we can use SageMakers Batch Transform functionality to test our model once we've fit it."
   ]
  },
  {
   "cell_type": "code",
   "execution_count": 13,
   "metadata": {},
   "outputs": [],
   "source": [
    "import pandas as pd\n",
    "\n",
    "# Earlier we shuffled the training dataset so to make things simple we can just assign\n",
    "# the first 10 000 reviews to the validation set and use the remaining reviews for training.\n",
    "val_X = pd.DataFrame(train_X[:10000])\n",
    "train_X = pd.DataFrame(train_X[10000:])\n",
    "\n",
    "val_y = pd.DataFrame(train_y[:10000])\n",
    "train_y = pd.DataFrame(train_y[10000:])"
   ]
  },
  {
   "cell_type": "markdown",
   "metadata": {},
   "source": [
    "The documentation for the XGBoost algorithm in SageMaker requires that the training and validation datasets should contain no headers or index and that the label should occur first for each sample.\n",
    "\n",
    "For more information about this and other algorithms, the SageMaker developer documentation can be found on __[Amazon's website.](https://docs.aws.amazon.com/sagemaker/latest/dg/)__"
   ]
  },
  {
   "cell_type": "code",
   "execution_count": 14,
   "metadata": {},
   "outputs": [],
   "source": [
    "# First we make sure that the local directory in which we'd like to store the training and validation csv files exists.\n",
    "data_dir = '../data/sentiment_web_app'\n",
    "if not os.path.exists(data_dir):\n",
    "    os.makedirs(data_dir)"
   ]
  },
  {
   "cell_type": "code",
   "execution_count": 15,
   "metadata": {},
   "outputs": [],
   "source": [
    "pd.DataFrame(test_X).to_csv(os.path.join(data_dir, 'test.csv'), header=False, index=False)\n",
    "\n",
    "pd.concat([val_y, val_X], axis=1).to_csv(os.path.join(data_dir, 'validation.csv'), header=False, index=False)\n",
    "pd.concat([train_y, train_X], axis=1).to_csv(os.path.join(data_dir, 'train.csv'), header=False, index=False)"
   ]
  },
  {
   "cell_type": "code",
   "execution_count": 16,
   "metadata": {},
   "outputs": [],
   "source": [
    "# To save a bit of memory we can set text_X, train_X, val_X, train_y and val_y to None.\n",
    "\n",
    "test_X = train_X = val_X = train_y = val_y = None"
   ]
  },
  {
   "cell_type": "markdown",
   "metadata": {},
   "source": [
    "### Uploading Training / Validation files to S3\n",
    "\n",
    "Amazon's S3 service allows us to store files that can be accessed by both the built-in training models such as the XGBoost model we will be using as well as custom models such as the one we will see a little later.\n",
    "\n",
    "For this and most other tasks we will be doing using SageMaker, there are two methods we could use. The first is to use the low level functionality of SageMaker which requires knowing each of the objects involved in the SageMaker environment. The second is to use the high level functionality in which certain choices have been made on the user's behalf. The low level approach benefits from allowing the user a great deal of flexibility while the high level approach makes development much quicker. For our purposes we will opt to use the high level approach although using the low-level approach is certainly an option.\n",
    "\n",
    "Recall the method `upload_data()` which is a member of the object representing our current SageMaker session. What this method does is upload the data to the default bucket (which is created if it does not exist) into the path described by the key_prefix variable. To see this for yourself, once you have uploaded the data files, go to the S3 console and look to see where the files have been uploaded.\n",
    "\n",
    "For additional resources, see the __[SageMaker API documentation](http://sagemaker.readthedocs.io/en/latest/)__ and in addition the __[SageMaker Developer Guide.](https://docs.aws.amazon.com/sagemaker/latest/dg/)__"
   ]
  },
  {
   "cell_type": "code",
   "execution_count": 17,
   "metadata": {},
   "outputs": [],
   "source": [
    "import sagemaker\n",
    "\n",
    "session = sagemaker.Session() # Store the current SageMaker session\n",
    "\n",
    "# S3 prefix (which folder will we use)\n",
    "prefix = 'sentiment-web-app'\n",
    "\n",
    "test_location = session.upload_data(os.path.join(data_dir, 'test.csv'), key_prefix=prefix)\n",
    "val_location = session.upload_data(os.path.join(data_dir, 'validation.csv'), key_prefix=prefix)\n",
    "train_location = session.upload_data(os.path.join(data_dir, 'train.csv'), key_prefix=prefix)"
   ]
  },
  {
   "cell_type": "markdown",
   "metadata": {},
   "source": [
    "## Step 4: Creating the XGBoost model\n",
    "\n",
    "Now that the data has been uploaded it is time to create the XGBoost model. To begin with, we need to do some setup. At this point it is worth discussing what a model is in SageMaker. It is easiest to think of a model of comprising three different objects in the SageMaker ecosystem, which interact with one another.\n",
    "\n",
    "- Model Artifacts\n",
    "- Training Code (Container)\n",
    "- Inference Code (Container)\n",
    "\n",
    "The Model Artifacts are what you might think of as the actual model itself. For example, if you were building a neural network, the model artifacts would be the weights of the various layers. In our case, for an XGBoost model, the artifacts are the actual trees that are created during training.\n",
    "\n",
    "The other two objects, the training code and the inference code are then used to manipulate the training artifacts. More precisely, the training code uses the training data that is provided and creates the model artifacts, while the inference code uses the model artifacts to make predictions on new data.\n",
    "\n",
    "The way that SageMaker runs the training and inference code is by making use of Docker containers. For now, think of a container as being a way of packaging code up so that dependencies aren't an issue."
   ]
  },
  {
   "cell_type": "code",
   "execution_count": 18,
   "metadata": {},
   "outputs": [],
   "source": [
    "from sagemaker import get_execution_role\n",
    "\n",
    "# Our current execution role is required when creating the model as the training\n",
    "# and inference code will need to access the model artifacts.\n",
    "role = get_execution_role()"
   ]
  },
  {
   "cell_type": "code",
   "execution_count": 19,
   "metadata": {},
   "outputs": [
    {
     "name": "stderr",
     "output_type": "stream",
     "text": [
      "'get_image_uri' method will be deprecated in favor of 'ImageURIProvider' class in SageMaker Python SDK v2.\n",
      "There is a more up to date SageMaker XGBoost image. To use the newer image, please set 'repo_version'='1.0-1'. For example:\n",
      "\tget_image_uri(region, 'xgboost', '1.0-1').\n"
     ]
    }
   ],
   "source": [
    "# We need to retrieve the location of the container which is provided by Amazon for using XGBoost.\n",
    "# As a matter of convenience, the training and inference code both use the same container.\n",
    "from sagemaker.amazon.amazon_estimator import get_image_uri\n",
    "\n",
    "container = get_image_uri(session.boto_region_name, 'xgboost')"
   ]
  },
  {
   "cell_type": "code",
   "execution_count": 20,
   "metadata": {},
   "outputs": [
    {
     "name": "stderr",
     "output_type": "stream",
     "text": [
      "Parameter image_name will be renamed to image_uri in SageMaker Python SDK v2.\n"
     ]
    }
   ],
   "source": [
    "# First we create a SageMaker estimator object for our model.\n",
    "xgb = sagemaker.estimator.Estimator(container, # The location of the container we wish to use\n",
    "                                    role,                                    # What is our current IAM Role\n",
    "                                    train_instance_count=1,                  # How many compute instances\n",
    "                                    train_instance_type='ml.m4.xlarge',      # What kind of compute instances\n",
    "                                    output_path='s3://{}/{}/output'.format(session.default_bucket(), prefix),\n",
    "                                    sagemaker_session=session)\n",
    "\n",
    "# And then set the algorithm specific parameters.\n",
    "xgb.set_hyperparameters(max_depth=5,\n",
    "                        eta=0.2,\n",
    "                        gamma=4,\n",
    "                        min_child_weight=6,\n",
    "                        subsample=0.8,\n",
    "                        silent=0,\n",
    "                        objective='binary:logistic',\n",
    "                        early_stopping_rounds=10,\n",
    "                        num_round=500)"
   ]
  },
  {
   "cell_type": "markdown",
   "metadata": {},
   "source": [
    "### Fit the XGBoost model\n",
    "\n",
    "Now that our model has been set up we simply need to attach the training and validation datasets and then ask SageMaker to set up the computation."
   ]
  },
  {
   "cell_type": "code",
   "execution_count": 21,
   "metadata": {},
   "outputs": [
    {
     "name": "stderr",
     "output_type": "stream",
     "text": [
      "'s3_input' class will be renamed to 'TrainingInput' in SageMaker Python SDK v2.\n",
      "'s3_input' class will be renamed to 'TrainingInput' in SageMaker Python SDK v2.\n"
     ]
    }
   ],
   "source": [
    "s3_input_train = sagemaker.s3_input(s3_data=train_location, content_type='csv')\n",
    "s3_input_validation = sagemaker.s3_input(s3_data=val_location, content_type='csv')"
   ]
  },
  {
   "cell_type": "code",
   "execution_count": 22,
   "metadata": {},
   "outputs": [
    {
     "name": "stdout",
     "output_type": "stream",
     "text": [
      "2020-08-25 08:34:12 Starting - Starting the training job...\n",
      "2020-08-25 08:34:14 Starting - Launching requested ML instances......\n",
      "2020-08-25 08:35:36 Starting - Preparing the instances for training......\n",
      "2020-08-25 08:36:25 Downloading - Downloading input data...\n",
      "2020-08-25 08:37:05 Training - Training image download completed. Training in progress.\u001b[34mArguments: train\u001b[0m\n",
      "\u001b[34m[2020-08-25:08:37:06:INFO] Running standalone xgboost training.\u001b[0m\n",
      "\u001b[34m[2020-08-25:08:37:06:INFO] File size need to be processed in the node: 238.5mb. Available memory size in the node: 8484.54mb\u001b[0m\n",
      "\u001b[34m[2020-08-25:08:37:06:INFO] Determined delimiter of CSV input is ','\u001b[0m\n",
      "\u001b[34m[08:37:06] S3DistributionType set as FullyReplicated\u001b[0m\n",
      "\u001b[34m[08:37:08] 15000x5000 matrix with 75000000 entries loaded from /opt/ml/input/data/train?format=csv&label_column=0&delimiter=,\u001b[0m\n",
      "\u001b[34m[2020-08-25:08:37:08:INFO] Determined delimiter of CSV input is ','\u001b[0m\n",
      "\u001b[34m[08:37:08] S3DistributionType set as FullyReplicated\u001b[0m\n",
      "\u001b[34m[08:37:09] 10000x5000 matrix with 50000000 entries loaded from /opt/ml/input/data/validation?format=csv&label_column=0&delimiter=,\u001b[0m\n",
      "\u001b[34m[08:37:12] src/tree/updater_prune.cc:74: tree pruning end, 1 roots, 42 extra nodes, 4 pruned nodes, max_depth=5\u001b[0m\n",
      "\u001b[34m[0]#011train-error:0.308133#011validation-error:0.3106\u001b[0m\n",
      "\u001b[34mMultiple eval metrics have been passed: 'validation-error' will be used for early stopping.\n",
      "\u001b[0m\n",
      "\u001b[34mWill train until validation-error hasn't improved in 10 rounds.\u001b[0m\n",
      "\u001b[34m[08:37:14] src/tree/updater_prune.cc:74: tree pruning end, 1 roots, 42 extra nodes, 4 pruned nodes, max_depth=5\u001b[0m\n",
      "\u001b[34m[1]#011train-error:0.291733#011validation-error:0.2973\u001b[0m\n",
      "\u001b[34m[08:37:15] src/tree/updater_prune.cc:74: tree pruning end, 1 roots, 40 extra nodes, 6 pruned nodes, max_depth=5\u001b[0m\n",
      "\u001b[34m[2]#011train-error:0.285667#011validation-error:0.2932\u001b[0m\n",
      "\u001b[34m[08:37:17] src/tree/updater_prune.cc:74: tree pruning end, 1 roots, 36 extra nodes, 2 pruned nodes, max_depth=5\u001b[0m\n",
      "\u001b[34m[3]#011train-error:0.281#011validation-error:0.2877\u001b[0m\n",
      "\u001b[34m[08:37:18] src/tree/updater_prune.cc:74: tree pruning end, 1 roots, 48 extra nodes, 4 pruned nodes, max_depth=5\u001b[0m\n",
      "\u001b[34m[4]#011train-error:0.262#011validation-error:0.2731\u001b[0m\n",
      "\u001b[34m[08:37:19] src/tree/updater_prune.cc:74: tree pruning end, 1 roots, 36 extra nodes, 8 pruned nodes, max_depth=5\u001b[0m\n",
      "\u001b[34m[5]#011train-error:0.259#011validation-error:0.2711\u001b[0m\n",
      "\u001b[34m[08:37:20] src/tree/updater_prune.cc:74: tree pruning end, 1 roots, 38 extra nodes, 8 pruned nodes, max_depth=5\u001b[0m\n",
      "\u001b[34m[6]#011train-error:0.257#011validation-error:0.2706\u001b[0m\n",
      "\u001b[34m[08:37:22] src/tree/updater_prune.cc:74: tree pruning end, 1 roots, 30 extra nodes, 6 pruned nodes, max_depth=5\u001b[0m\n",
      "\u001b[34m[7]#011train-error:0.246467#011validation-error:0.2596\u001b[0m\n",
      "\u001b[34m[08:37:23] src/tree/updater_prune.cc:74: tree pruning end, 1 roots, 36 extra nodes, 8 pruned nodes, max_depth=5\u001b[0m\n",
      "\u001b[34m[8]#011train-error:0.240933#011validation-error:0.2549\u001b[0m\n",
      "\u001b[34m[08:37:24] src/tree/updater_prune.cc:74: tree pruning end, 1 roots, 36 extra nodes, 6 pruned nodes, max_depth=5\u001b[0m\n",
      "\u001b[34m[9]#011train-error:0.2354#011validation-error:0.2531\u001b[0m\n",
      "\u001b[34m[08:37:26] src/tree/updater_prune.cc:74: tree pruning end, 1 roots, 30 extra nodes, 4 pruned nodes, max_depth=5\u001b[0m\n",
      "\u001b[34m[10]#011train-error:0.225#011validation-error:0.2434\u001b[0m\n",
      "\u001b[34m[08:37:27] src/tree/updater_prune.cc:74: tree pruning end, 1 roots, 32 extra nodes, 6 pruned nodes, max_depth=5\u001b[0m\n",
      "\u001b[34m[11]#011train-error:0.2182#011validation-error:0.2379\u001b[0m\n",
      "\u001b[34m[08:37:28] src/tree/updater_prune.cc:74: tree pruning end, 1 roots, 20 extra nodes, 14 pruned nodes, max_depth=5\u001b[0m\n",
      "\u001b[34m[12]#011train-error:0.216067#011validation-error:0.2336\u001b[0m\n",
      "\u001b[34m[08:37:29] src/tree/updater_prune.cc:74: tree pruning end, 1 roots, 28 extra nodes, 12 pruned nodes, max_depth=5\u001b[0m\n",
      "\u001b[34m[13]#011train-error:0.212133#011validation-error:0.2321\u001b[0m\n",
      "\u001b[34m[08:37:31] src/tree/updater_prune.cc:74: tree pruning end, 1 roots, 24 extra nodes, 6 pruned nodes, max_depth=5\u001b[0m\n",
      "\u001b[34m[14]#011train-error:0.208067#011validation-error:0.2258\u001b[0m\n",
      "\u001b[34m[08:37:32] src/tree/updater_prune.cc:74: tree pruning end, 1 roots, 22 extra nodes, 14 pruned nodes, max_depth=5\u001b[0m\n",
      "\u001b[34m[15]#011train-error:0.207267#011validation-error:0.2239\u001b[0m\n",
      "\u001b[34m[08:37:33] src/tree/updater_prune.cc:74: tree pruning end, 1 roots, 28 extra nodes, 6 pruned nodes, max_depth=5\u001b[0m\n",
      "\u001b[34m[16]#011train-error:0.202133#011validation-error:0.2211\u001b[0m\n",
      "\u001b[34m[08:37:34] src/tree/updater_prune.cc:74: tree pruning end, 1 roots, 30 extra nodes, 8 pruned nodes, max_depth=5\u001b[0m\n",
      "\u001b[34m[17]#011train-error:0.200533#011validation-error:0.2185\u001b[0m\n",
      "\u001b[34m[08:37:36] src/tree/updater_prune.cc:74: tree pruning end, 1 roots, 34 extra nodes, 8 pruned nodes, max_depth=5\u001b[0m\n",
      "\u001b[34m[18]#011train-error:0.197467#011validation-error:0.2188\u001b[0m\n",
      "\u001b[34m[08:37:37] src/tree/updater_prune.cc:74: tree pruning end, 1 roots, 24 extra nodes, 12 pruned nodes, max_depth=5\u001b[0m\n",
      "\u001b[34m[19]#011train-error:0.194267#011validation-error:0.2142\u001b[0m\n",
      "\u001b[34m[08:37:38] src/tree/updater_prune.cc:74: tree pruning end, 1 roots, 30 extra nodes, 10 pruned nodes, max_depth=5\u001b[0m\n",
      "\u001b[34m[20]#011train-error:0.1914#011validation-error:0.2122\u001b[0m\n",
      "\u001b[34m[08:37:40] src/tree/updater_prune.cc:74: tree pruning end, 1 roots, 24 extra nodes, 16 pruned nodes, max_depth=5\u001b[0m\n",
      "\u001b[34m[21]#011train-error:0.189667#011validation-error:0.2087\u001b[0m\n",
      "\u001b[34m[08:37:41] src/tree/updater_prune.cc:74: tree pruning end, 1 roots, 40 extra nodes, 6 pruned nodes, max_depth=5\u001b[0m\n",
      "\u001b[34m[22]#011train-error:0.186867#011validation-error:0.2084\u001b[0m\n",
      "\u001b[34m[08:37:42] src/tree/updater_prune.cc:74: tree pruning end, 1 roots, 28 extra nodes, 10 pruned nodes, max_depth=5\u001b[0m\n",
      "\u001b[34m[23]#011train-error:0.184733#011validation-error:0.2066\u001b[0m\n",
      "\u001b[34m[08:37:43] src/tree/updater_prune.cc:74: tree pruning end, 1 roots, 22 extra nodes, 10 pruned nodes, max_depth=5\u001b[0m\n",
      "\u001b[34m[24]#011train-error:0.181533#011validation-error:0.2039\u001b[0m\n",
      "\u001b[34m[08:37:45] src/tree/updater_prune.cc:74: tree pruning end, 1 roots, 30 extra nodes, 8 pruned nodes, max_depth=5\u001b[0m\n",
      "\u001b[34m[25]#011train-error:0.177867#011validation-error:0.2028\u001b[0m\n",
      "\u001b[34m[08:37:46] src/tree/updater_prune.cc:74: tree pruning end, 1 roots, 24 extra nodes, 10 pruned nodes, max_depth=5\u001b[0m\n",
      "\u001b[34m[26]#011train-error:0.1752#011validation-error:0.201\u001b[0m\n",
      "\u001b[34m[08:37:47] src/tree/updater_prune.cc:74: tree pruning end, 1 roots, 30 extra nodes, 4 pruned nodes, max_depth=5\u001b[0m\n",
      "\u001b[34m[27]#011train-error:0.173933#011validation-error:0.1984\u001b[0m\n",
      "\u001b[34m[08:37:49] src/tree/updater_prune.cc:74: tree pruning end, 1 roots, 30 extra nodes, 8 pruned nodes, max_depth=5\u001b[0m\n",
      "\u001b[34m[28]#011train-error:0.170333#011validation-error:0.1984\u001b[0m\n",
      "\u001b[34m[08:37:50] src/tree/updater_prune.cc:74: tree pruning end, 1 roots, 18 extra nodes, 14 pruned nodes, max_depth=5\u001b[0m\n",
      "\u001b[34m[29]#011train-error:0.170133#011validation-error:0.1984\u001b[0m\n",
      "\u001b[34m[08:37:51] src/tree/updater_prune.cc:74: tree pruning end, 1 roots, 20 extra nodes, 10 pruned nodes, max_depth=5\u001b[0m\n",
      "\u001b[34m[30]#011train-error:0.169267#011validation-error:0.1969\u001b[0m\n",
      "\u001b[34m[08:37:52] src/tree/updater_prune.cc:74: tree pruning end, 1 roots, 20 extra nodes, 6 pruned nodes, max_depth=5\u001b[0m\n",
      "\u001b[34m[31]#011train-error:0.1678#011validation-error:0.1949\u001b[0m\n",
      "\u001b[34m[08:37:54] src/tree/updater_prune.cc:74: tree pruning end, 1 roots, 26 extra nodes, 6 pruned nodes, max_depth=5\u001b[0m\n",
      "\u001b[34m[32]#011train-error:0.165733#011validation-error:0.194\u001b[0m\n",
      "\u001b[34m[08:37:55] src/tree/updater_prune.cc:74: tree pruning end, 1 roots, 28 extra nodes, 4 pruned nodes, max_depth=5\u001b[0m\n",
      "\u001b[34m[33]#011train-error:0.163867#011validation-error:0.1922\u001b[0m\n",
      "\u001b[34m[08:37:56] src/tree/updater_prune.cc:74: tree pruning end, 1 roots, 22 extra nodes, 10 pruned nodes, max_depth=5\u001b[0m\n",
      "\u001b[34m[34]#011train-error:0.162467#011validation-error:0.1914\u001b[0m\n",
      "\u001b[34m[08:37:57] src/tree/updater_prune.cc:74: tree pruning end, 1 roots, 28 extra nodes, 10 pruned nodes, max_depth=5\u001b[0m\n",
      "\u001b[34m[35]#011train-error:0.161267#011validation-error:0.1894\u001b[0m\n",
      "\u001b[34m[08:37:59] src/tree/updater_prune.cc:74: tree pruning end, 1 roots, 20 extra nodes, 6 pruned nodes, max_depth=5\u001b[0m\n",
      "\u001b[34m[36]#011train-error:0.159867#011validation-error:0.1885\u001b[0m\n",
      "\u001b[34m[08:38:00] src/tree/updater_prune.cc:74: tree pruning end, 1 roots, 32 extra nodes, 8 pruned nodes, max_depth=5\u001b[0m\n",
      "\u001b[34m[37]#011train-error:0.157733#011validation-error:0.1873\u001b[0m\n",
      "\u001b[34m[08:38:01] src/tree/updater_prune.cc:74: tree pruning end, 1 roots, 16 extra nodes, 10 pruned nodes, max_depth=5\u001b[0m\n",
      "\u001b[34m[38]#011train-error:0.157#011validation-error:0.1856\u001b[0m\n",
      "\u001b[34m[08:38:02] src/tree/updater_prune.cc:74: tree pruning end, 1 roots, 32 extra nodes, 10 pruned nodes, max_depth=5\u001b[0m\n",
      "\u001b[34m[39]#011train-error:0.155667#011validation-error:0.1852\u001b[0m\n",
      "\u001b[34m[08:38:04] src/tree/updater_prune.cc:74: tree pruning end, 1 roots, 36 extra nodes, 6 pruned nodes, max_depth=5\u001b[0m\n",
      "\u001b[34m[40]#011train-error:0.152733#011validation-error:0.1842\u001b[0m\n",
      "\u001b[34m[08:38:05] src/tree/updater_prune.cc:74: tree pruning end, 1 roots, 22 extra nodes, 4 pruned nodes, max_depth=5\u001b[0m\n",
      "\u001b[34m[41]#011train-error:0.151733#011validation-error:0.1825\u001b[0m\n",
      "\u001b[34m[08:38:06] src/tree/updater_prune.cc:74: tree pruning end, 1 roots, 24 extra nodes, 6 pruned nodes, max_depth=5\u001b[0m\n",
      "\u001b[34m[42]#011train-error:0.151133#011validation-error:0.1829\u001b[0m\n",
      "\u001b[34m[08:38:07] src/tree/updater_prune.cc:74: tree pruning end, 1 roots, 28 extra nodes, 4 pruned nodes, max_depth=5\u001b[0m\n",
      "\u001b[34m[43]#011train-error:0.148667#011validation-error:0.1815\u001b[0m\n",
      "\u001b[34m[08:38:09] src/tree/updater_prune.cc:74: tree pruning end, 1 roots, 36 extra nodes, 10 pruned nodes, max_depth=5\u001b[0m\n",
      "\u001b[34m[44]#011train-error:0.147733#011validation-error:0.1801\u001b[0m\n",
      "\u001b[34m[08:38:10] src/tree/updater_prune.cc:74: tree pruning end, 1 roots, 20 extra nodes, 8 pruned nodes, max_depth=5\u001b[0m\n",
      "\u001b[34m[45]#011train-error:0.146867#011validation-error:0.1793\u001b[0m\n",
      "\u001b[34m[08:38:11] src/tree/updater_prune.cc:74: tree pruning end, 1 roots, 18 extra nodes, 16 pruned nodes, max_depth=5\u001b[0m\n",
      "\u001b[34m[46]#011train-error:0.145933#011validation-error:0.1781\u001b[0m\n",
      "\u001b[34m[08:38:13] src/tree/updater_prune.cc:74: tree pruning end, 1 roots, 28 extra nodes, 14 pruned nodes, max_depth=5\u001b[0m\n",
      "\u001b[34m[47]#011train-error:0.1436#011validation-error:0.1759\u001b[0m\n",
      "\u001b[34m[08:38:14] src/tree/updater_prune.cc:74: tree pruning end, 1 roots, 14 extra nodes, 16 pruned nodes, max_depth=5\u001b[0m\n",
      "\u001b[34m[48]#011train-error:0.1428#011validation-error:0.1757\u001b[0m\n",
      "\u001b[34m[08:38:15] src/tree/updater_prune.cc:74: tree pruning end, 1 roots, 26 extra nodes, 6 pruned nodes, max_depth=5\u001b[0m\n",
      "\u001b[34m[49]#011train-error:0.142067#011validation-error:0.1749\u001b[0m\n",
      "\u001b[34m[08:38:16] src/tree/updater_prune.cc:74: tree pruning end, 1 roots, 16 extra nodes, 12 pruned nodes, max_depth=5\u001b[0m\n",
      "\u001b[34m[50]#011train-error:0.140667#011validation-error:0.1748\u001b[0m\n",
      "\u001b[34m[08:38:18] src/tree/updater_prune.cc:74: tree pruning end, 1 roots, 38 extra nodes, 2 pruned nodes, max_depth=5\u001b[0m\n",
      "\u001b[34m[51]#011train-error:0.140133#011validation-error:0.1736\u001b[0m\n",
      "\u001b[34m[08:38:19] src/tree/updater_prune.cc:74: tree pruning end, 1 roots, 24 extra nodes, 6 pruned nodes, max_depth=5\u001b[0m\n",
      "\u001b[34m[52]#011train-error:0.1384#011validation-error:0.1727\u001b[0m\n",
      "\u001b[34m[08:38:20] src/tree/updater_prune.cc:74: tree pruning end, 1 roots, 14 extra nodes, 14 pruned nodes, max_depth=5\u001b[0m\n",
      "\u001b[34m[53]#011train-error:0.137933#011validation-error:0.172\u001b[0m\n",
      "\u001b[34m[08:38:21] src/tree/updater_prune.cc:74: tree pruning end, 1 roots, 28 extra nodes, 4 pruned nodes, max_depth=5\u001b[0m\n",
      "\u001b[34m[54]#011train-error:0.137133#011validation-error:0.1704\u001b[0m\n",
      "\u001b[34m[08:38:23] src/tree/updater_prune.cc:74: tree pruning end, 1 roots, 38 extra nodes, 4 pruned nodes, max_depth=5\u001b[0m\n",
      "\u001b[34m[55]#011train-error:0.135267#011validation-error:0.1695\u001b[0m\n",
      "\u001b[34m[08:38:24] src/tree/updater_prune.cc:74: tree pruning end, 1 roots, 22 extra nodes, 8 pruned nodes, max_depth=5\u001b[0m\n",
      "\u001b[34m[56]#011train-error:0.133933#011validation-error:0.1685\u001b[0m\n",
      "\u001b[34m[08:38:25] src/tree/updater_prune.cc:74: tree pruning end, 1 roots, 30 extra nodes, 12 pruned nodes, max_depth=5\u001b[0m\n",
      "\u001b[34m[57]#011train-error:0.132867#011validation-error:0.1671\u001b[0m\n",
      "\u001b[34m[08:38:26] src/tree/updater_prune.cc:74: tree pruning end, 1 roots, 16 extra nodes, 12 pruned nodes, max_depth=5\u001b[0m\n",
      "\u001b[34m[58]#011train-error:0.132133#011validation-error:0.1665\u001b[0m\n",
      "\u001b[34m[08:38:28] src/tree/updater_prune.cc:74: tree pruning end, 1 roots, 18 extra nodes, 8 pruned nodes, max_depth=5\u001b[0m\n",
      "\u001b[34m[59]#011train-error:0.131267#011validation-error:0.1669\u001b[0m\n",
      "\u001b[34m[08:38:29] src/tree/updater_prune.cc:74: tree pruning end, 1 roots, 14 extra nodes, 2 pruned nodes, max_depth=5\u001b[0m\n",
      "\u001b[34m[60]#011train-error:0.1308#011validation-error:0.1667\u001b[0m\n",
      "\u001b[34m[08:38:30] src/tree/updater_prune.cc:74: tree pruning end, 1 roots, 12 extra nodes, 4 pruned nodes, max_depth=5\u001b[0m\n",
      "\u001b[34m[61]#011train-error:0.1298#011validation-error:0.1669\u001b[0m\n",
      "\u001b[34m[08:38:31] src/tree/updater_prune.cc:74: tree pruning end, 1 roots, 14 extra nodes, 12 pruned nodes, max_depth=5\u001b[0m\n",
      "\u001b[34m[62]#011train-error:0.129667#011validation-error:0.1666\u001b[0m\n",
      "\u001b[34m[08:38:33] src/tree/updater_prune.cc:74: tree pruning end, 1 roots, 34 extra nodes, 10 pruned nodes, max_depth=5\u001b[0m\n",
      "\u001b[34m[63]#011train-error:0.129#011validation-error:0.1664\u001b[0m\n",
      "\u001b[34m[08:38:34] src/tree/updater_prune.cc:74: tree pruning end, 1 roots, 26 extra nodes, 6 pruned nodes, max_depth=5\u001b[0m\n",
      "\u001b[34m[64]#011train-error:0.127533#011validation-error:0.1661\u001b[0m\n",
      "\u001b[34m[08:38:35] src/tree/updater_prune.cc:74: tree pruning end, 1 roots, 18 extra nodes, 2 pruned nodes, max_depth=5\u001b[0m\n",
      "\u001b[34m[65]#011train-error:0.126533#011validation-error:0.1651\u001b[0m\n",
      "\u001b[34m[08:38:37] src/tree/updater_prune.cc:74: tree pruning end, 1 roots, 18 extra nodes, 2 pruned nodes, max_depth=5\u001b[0m\n",
      "\u001b[34m[66]#011train-error:0.124733#011validation-error:0.1648\u001b[0m\n",
      "\u001b[34m[08:38:38] src/tree/updater_prune.cc:74: tree pruning end, 1 roots, 30 extra nodes, 6 pruned nodes, max_depth=5\u001b[0m\n",
      "\u001b[34m[67]#011train-error:0.124267#011validation-error:0.1643\u001b[0m\n",
      "\u001b[34m[08:38:39] src/tree/updater_prune.cc:74: tree pruning end, 1 roots, 38 extra nodes, 10 pruned nodes, max_depth=5\u001b[0m\n",
      "\u001b[34m[68]#011train-error:0.124067#011validation-error:0.163\u001b[0m\n",
      "\u001b[34m[08:38:40] src/tree/updater_prune.cc:74: tree pruning end, 1 roots, 14 extra nodes, 14 pruned nodes, max_depth=5\u001b[0m\n",
      "\u001b[34m[69]#011train-error:0.123#011validation-error:0.1627\u001b[0m\n",
      "\u001b[34m[08:38:42] src/tree/updater_prune.cc:74: tree pruning end, 1 roots, 16 extra nodes, 10 pruned nodes, max_depth=5\u001b[0m\n",
      "\u001b[34m[70]#011train-error:0.122467#011validation-error:0.1622\u001b[0m\n",
      "\u001b[34m[08:38:43] src/tree/updater_prune.cc:74: tree pruning end, 1 roots, 10 extra nodes, 2 pruned nodes, max_depth=5\u001b[0m\n",
      "\u001b[34m[71]#011train-error:0.121867#011validation-error:0.1606\u001b[0m\n",
      "\u001b[34m[08:38:44] src/tree/updater_prune.cc:74: tree pruning end, 1 roots, 22 extra nodes, 4 pruned nodes, max_depth=5\u001b[0m\n",
      "\u001b[34m[72]#011train-error:0.121133#011validation-error:0.1608\u001b[0m\n",
      "\u001b[34m[08:38:45] src/tree/updater_prune.cc:74: tree pruning end, 1 roots, 16 extra nodes, 6 pruned nodes, max_depth=5\u001b[0m\n",
      "\u001b[34m[73]#011train-error:0.120467#011validation-error:0.1605\u001b[0m\n",
      "\u001b[34m[08:38:47] src/tree/updater_prune.cc:74: tree pruning end, 1 roots, 24 extra nodes, 10 pruned nodes, max_depth=5\u001b[0m\n",
      "\u001b[34m[74]#011train-error:0.119067#011validation-error:0.16\u001b[0m\n",
      "\u001b[34m[08:38:48] src/tree/updater_prune.cc:74: tree pruning end, 1 roots, 22 extra nodes, 6 pruned nodes, max_depth=5\u001b[0m\n",
      "\u001b[34m[75]#011train-error:0.118733#011validation-error:0.1596\u001b[0m\n",
      "\u001b[34m[08:38:49] src/tree/updater_prune.cc:74: tree pruning end, 1 roots, 20 extra nodes, 4 pruned nodes, max_depth=5\u001b[0m\n",
      "\u001b[34m[76]#011train-error:0.117667#011validation-error:0.1584\u001b[0m\n",
      "\u001b[34m[08:38:51] src/tree/updater_prune.cc:74: tree pruning end, 1 roots, 20 extra nodes, 10 pruned nodes, max_depth=5\u001b[0m\n",
      "\u001b[34m[77]#011train-error:0.118#011validation-error:0.1577\u001b[0m\n",
      "\u001b[34m[08:38:52] src/tree/updater_prune.cc:74: tree pruning end, 1 roots, 14 extra nodes, 10 pruned nodes, max_depth=5\u001b[0m\n",
      "\u001b[34m[78]#011train-error:0.1174#011validation-error:0.157\u001b[0m\n",
      "\u001b[34m[08:38:53] src/tree/updater_prune.cc:74: tree pruning end, 1 roots, 16 extra nodes, 8 pruned nodes, max_depth=5\u001b[0m\n",
      "\u001b[34m[79]#011train-error:0.116333#011validation-error:0.157\u001b[0m\n",
      "\u001b[34m[08:38:54] src/tree/updater_prune.cc:74: tree pruning end, 1 roots, 22 extra nodes, 14 pruned nodes, max_depth=5\u001b[0m\n",
      "\u001b[34m[80]#011train-error:0.116067#011validation-error:0.1557\u001b[0m\n",
      "\u001b[34m[08:38:56] src/tree/updater_prune.cc:74: tree pruning end, 1 roots, 12 extra nodes, 10 pruned nodes, max_depth=5\u001b[0m\n",
      "\u001b[34m[81]#011train-error:0.1158#011validation-error:0.1564\u001b[0m\n",
      "\u001b[34m[08:38:57] src/tree/updater_prune.cc:74: tree pruning end, 1 roots, 30 extra nodes, 14 pruned nodes, max_depth=5\u001b[0m\n",
      "\u001b[34m[82]#011train-error:0.114533#011validation-error:0.1563\u001b[0m\n",
      "\u001b[34m[08:38:58] src/tree/updater_prune.cc:74: tree pruning end, 1 roots, 16 extra nodes, 16 pruned nodes, max_depth=5\u001b[0m\n",
      "\u001b[34m[83]#011train-error:0.113933#011validation-error:0.1563\u001b[0m\n",
      "\u001b[34m[08:38:59] src/tree/updater_prune.cc:74: tree pruning end, 1 roots, 10 extra nodes, 10 pruned nodes, max_depth=5\u001b[0m\n",
      "\u001b[34m[84]#011train-error:0.1138#011validation-error:0.1565\u001b[0m\n",
      "\u001b[34m[08:39:01] src/tree/updater_prune.cc:74: tree pruning end, 1 roots, 20 extra nodes, 12 pruned nodes, max_depth=5\u001b[0m\n",
      "\u001b[34m[85]#011train-error:0.113133#011validation-error:0.1571\u001b[0m\n",
      "\u001b[34m[08:39:02] src/tree/updater_prune.cc:74: tree pruning end, 1 roots, 28 extra nodes, 2 pruned nodes, max_depth=5\u001b[0m\n",
      "\u001b[34m[86]#011train-error:0.112667#011validation-error:0.1564\u001b[0m\n",
      "\u001b[34m[08:39:03] src/tree/updater_prune.cc:74: tree pruning end, 1 roots, 36 extra nodes, 10 pruned nodes, max_depth=5\u001b[0m\n",
      "\u001b[34m[87]#011train-error:0.110467#011validation-error:0.1549\u001b[0m\n",
      "\u001b[34m[08:39:04] src/tree/updater_prune.cc:74: tree pruning end, 1 roots, 12 extra nodes, 6 pruned nodes, max_depth=5\u001b[0m\n",
      "\u001b[34m[88]#011train-error:0.110067#011validation-error:0.1551\u001b[0m\n",
      "\u001b[34m[08:39:06] src/tree/updater_prune.cc:74: tree pruning end, 1 roots, 16 extra nodes, 10 pruned nodes, max_depth=5\u001b[0m\n",
      "\u001b[34m[89]#011train-error:0.109533#011validation-error:0.1545\u001b[0m\n",
      "\u001b[34m[08:39:07] src/tree/updater_prune.cc:74: tree pruning end, 1 roots, 14 extra nodes, 8 pruned nodes, max_depth=5\u001b[0m\n",
      "\u001b[34m[90]#011train-error:0.109867#011validation-error:0.1549\u001b[0m\n",
      "\u001b[34m[08:39:08] src/tree/updater_prune.cc:74: tree pruning end, 1 roots, 14 extra nodes, 6 pruned nodes, max_depth=5\u001b[0m\n",
      "\u001b[34m[91]#011train-error:0.1086#011validation-error:0.1552\u001b[0m\n",
      "\u001b[34m[08:39:10] src/tree/updater_prune.cc:74: tree pruning end, 1 roots, 16 extra nodes, 2 pruned nodes, max_depth=5\u001b[0m\n",
      "\u001b[34m[92]#011train-error:0.109#011validation-error:0.1544\u001b[0m\n",
      "\u001b[34m[08:39:11] src/tree/updater_prune.cc:74: tree pruning end, 1 roots, 14 extra nodes, 8 pruned nodes, max_depth=5\u001b[0m\n",
      "\u001b[34m[93]#011train-error:0.108533#011validation-error:0.154\u001b[0m\n",
      "\u001b[34m[08:39:12] src/tree/updater_prune.cc:74: tree pruning end, 1 roots, 12 extra nodes, 6 pruned nodes, max_depth=5\u001b[0m\n",
      "\u001b[34m[94]#011train-error:0.1074#011validation-error:0.1534\u001b[0m\n",
      "\u001b[34m[08:39:13] src/tree/updater_prune.cc:74: tree pruning end, 1 roots, 32 extra nodes, 4 pruned nodes, max_depth=5\u001b[0m\n",
      "\u001b[34m[95]#011train-error:0.1074#011validation-error:0.1536\u001b[0m\n",
      "\u001b[34m[08:39:15] src/tree/updater_prune.cc:74: tree pruning end, 1 roots, 12 extra nodes, 0 pruned nodes, max_depth=5\u001b[0m\n",
      "\u001b[34m[96]#011train-error:0.107#011validation-error:0.1533\u001b[0m\n",
      "\u001b[34m[08:39:16] src/tree/updater_prune.cc:74: tree pruning end, 1 roots, 30 extra nodes, 8 pruned nodes, max_depth=5\u001b[0m\n",
      "\u001b[34m[97]#011train-error:0.105267#011validation-error:0.153\u001b[0m\n",
      "\u001b[34m[08:39:17] src/tree/updater_prune.cc:74: tree pruning end, 1 roots, 14 extra nodes, 6 pruned nodes, max_depth=5\u001b[0m\n",
      "\u001b[34m[98]#011train-error:0.1044#011validation-error:0.1524\u001b[0m\n",
      "\u001b[34m[08:39:18] src/tree/updater_prune.cc:74: tree pruning end, 1 roots, 18 extra nodes, 12 pruned nodes, max_depth=5\u001b[0m\n",
      "\u001b[34m[99]#011train-error:0.104467#011validation-error:0.1517\u001b[0m\n",
      "\u001b[34m[08:39:20] src/tree/updater_prune.cc:74: tree pruning end, 1 roots, 16 extra nodes, 12 pruned nodes, max_depth=5\u001b[0m\n",
      "\u001b[34m[100]#011train-error:0.1042#011validation-error:0.1512\u001b[0m\n",
      "\u001b[34m[08:39:21] src/tree/updater_prune.cc:74: tree pruning end, 1 roots, 10 extra nodes, 8 pruned nodes, max_depth=5\u001b[0m\n",
      "\u001b[34m[101]#011train-error:0.104067#011validation-error:0.1508\u001b[0m\n",
      "\u001b[34m[08:39:22] src/tree/updater_prune.cc:74: tree pruning end, 1 roots, 16 extra nodes, 16 pruned nodes, max_depth=5\u001b[0m\n",
      "\u001b[34m[102]#011train-error:0.1034#011validation-error:0.1509\u001b[0m\n",
      "\u001b[34m[08:39:24] src/tree/updater_prune.cc:74: tree pruning end, 1 roots, 20 extra nodes, 4 pruned nodes, max_depth=5\u001b[0m\n",
      "\u001b[34m[103]#011train-error:0.103067#011validation-error:0.1507\u001b[0m\n",
      "\u001b[34m[08:39:25] src/tree/updater_prune.cc:74: tree pruning end, 1 roots, 16 extra nodes, 10 pruned nodes, max_depth=5\u001b[0m\n",
      "\u001b[34m[104]#011train-error:0.102533#011validation-error:0.1498\u001b[0m\n",
      "\u001b[34m[08:39:26] src/tree/updater_prune.cc:74: tree pruning end, 1 roots, 10 extra nodes, 6 pruned nodes, max_depth=5\u001b[0m\n",
      "\u001b[34m[105]#011train-error:0.102133#011validation-error:0.1498\u001b[0m\n",
      "\u001b[34m[08:39:27] src/tree/updater_prune.cc:74: tree pruning end, 1 roots, 14 extra nodes, 14 pruned nodes, max_depth=5\u001b[0m\n",
      "\u001b[34m[106]#011train-error:0.101733#011validation-error:0.1492\u001b[0m\n",
      "\u001b[34m[08:39:29] src/tree/updater_prune.cc:74: tree pruning end, 1 roots, 24 extra nodes, 6 pruned nodes, max_depth=5\u001b[0m\n",
      "\u001b[34m[107]#011train-error:0.101067#011validation-error:0.1496\u001b[0m\n",
      "\u001b[34m[08:39:30] src/tree/updater_prune.cc:74: tree pruning end, 1 roots, 24 extra nodes, 2 pruned nodes, max_depth=5\u001b[0m\n",
      "\u001b[34m[108]#011train-error:0.1006#011validation-error:0.1491\u001b[0m\n",
      "\u001b[34m[08:39:31] src/tree/updater_prune.cc:74: tree pruning end, 1 roots, 12 extra nodes, 2 pruned nodes, max_depth=5\u001b[0m\n",
      "\u001b[34m[109]#011train-error:0.099867#011validation-error:0.1473\u001b[0m\n",
      "\u001b[34m[08:39:32] src/tree/updater_prune.cc:74: tree pruning end, 1 roots, 12 extra nodes, 8 pruned nodes, max_depth=5\u001b[0m\n",
      "\u001b[34m[110]#011train-error:0.099067#011validation-error:0.148\u001b[0m\n",
      "\u001b[34m[08:39:34] src/tree/updater_prune.cc:74: tree pruning end, 1 roots, 26 extra nodes, 4 pruned nodes, max_depth=5\u001b[0m\n",
      "\u001b[34m[111]#011train-error:0.099#011validation-error:0.1477\u001b[0m\n",
      "\u001b[34m[08:39:35] src/tree/updater_prune.cc:74: tree pruning end, 1 roots, 14 extra nodes, 8 pruned nodes, max_depth=5\u001b[0m\n",
      "\u001b[34m[112]#011train-error:0.098733#011validation-error:0.1477\u001b[0m\n",
      "\u001b[34m[08:39:36] src/tree/updater_prune.cc:74: tree pruning end, 1 roots, 12 extra nodes, 10 pruned nodes, max_depth=5\u001b[0m\n",
      "\u001b[34m[113]#011train-error:0.098067#011validation-error:0.1476\u001b[0m\n",
      "\u001b[34m[08:39:38] src/tree/updater_prune.cc:74: tree pruning end, 1 roots, 16 extra nodes, 8 pruned nodes, max_depth=5\u001b[0m\n",
      "\u001b[34m[114]#011train-error:0.098#011validation-error:0.1468\u001b[0m\n",
      "\u001b[34m[08:39:39] src/tree/updater_prune.cc:74: tree pruning end, 1 roots, 10 extra nodes, 6 pruned nodes, max_depth=5\u001b[0m\n",
      "\u001b[34m[115]#011train-error:0.097667#011validation-error:0.1459\u001b[0m\n",
      "\u001b[34m[08:39:40] src/tree/updater_prune.cc:74: tree pruning end, 1 roots, 22 extra nodes, 6 pruned nodes, max_depth=5\u001b[0m\n",
      "\u001b[34m[116]#011train-error:0.097333#011validation-error:0.1454\u001b[0m\n",
      "\u001b[34m[08:39:41] src/tree/updater_prune.cc:74: tree pruning end, 1 roots, 18 extra nodes, 6 pruned nodes, max_depth=5\u001b[0m\n",
      "\u001b[34m[117]#011train-error:0.096533#011validation-error:0.1459\u001b[0m\n",
      "\u001b[34m[08:39:43] src/tree/updater_prune.cc:74: tree pruning end, 1 roots, 18 extra nodes, 4 pruned nodes, max_depth=5\u001b[0m\n",
      "\u001b[34m[118]#011train-error:0.096867#011validation-error:0.146\u001b[0m\n",
      "\u001b[34m[08:39:44] src/tree/updater_prune.cc:74: tree pruning end, 1 roots, 10 extra nodes, 2 pruned nodes, max_depth=5\u001b[0m\n",
      "\u001b[34m[119]#011train-error:0.097#011validation-error:0.1458\u001b[0m\n",
      "\u001b[34m[08:39:45] src/tree/updater_prune.cc:74: tree pruning end, 1 roots, 12 extra nodes, 12 pruned nodes, max_depth=5\u001b[0m\n",
      "\u001b[34m[120]#011train-error:0.096733#011validation-error:0.1462\u001b[0m\n",
      "\u001b[34m[08:39:46] src/tree/updater_prune.cc:74: tree pruning end, 1 roots, 16 extra nodes, 6 pruned nodes, max_depth=5\u001b[0m\n",
      "\u001b[34m[121]#011train-error:0.096867#011validation-error:0.1466\u001b[0m\n",
      "\u001b[34m[08:39:48] src/tree/updater_prune.cc:74: tree pruning end, 1 roots, 10 extra nodes, 10 pruned nodes, max_depth=5\u001b[0m\n",
      "\u001b[34m[122]#011train-error:0.096533#011validation-error:0.1463\u001b[0m\n",
      "\u001b[34m[08:39:49] src/tree/updater_prune.cc:74: tree pruning end, 1 roots, 20 extra nodes, 16 pruned nodes, max_depth=5\u001b[0m\n",
      "\u001b[34m[123]#011train-error:0.0956#011validation-error:0.147\u001b[0m\n",
      "\u001b[34m[08:39:50] src/tree/updater_prune.cc:74: tree pruning end, 1 roots, 10 extra nodes, 10 pruned nodes, max_depth=5\u001b[0m\n",
      "\u001b[34m[124]#011train-error:0.095#011validation-error:0.1463\u001b[0m\n",
      "\u001b[34m[08:39:51] src/tree/updater_prune.cc:74: tree pruning end, 1 roots, 18 extra nodes, 2 pruned nodes, max_depth=5\u001b[0m\n",
      "\u001b[34m[125]#011train-error:0.094533#011validation-error:0.1456\u001b[0m\n",
      "\u001b[34m[08:39:53] src/tree/updater_prune.cc:74: tree pruning end, 1 roots, 18 extra nodes, 4 pruned nodes, max_depth=5\u001b[0m\n",
      "\u001b[34m[126]#011train-error:0.094133#011validation-error:0.1454\u001b[0m\n",
      "\u001b[34mStopping. Best iteration:\u001b[0m\n",
      "\u001b[34m[116]#011train-error:0.097333#011validation-error:0.1454\n",
      "\u001b[0m\n",
      "\n",
      "2020-08-25 08:40:05 Uploading - Uploading generated training model\n",
      "2020-08-25 08:40:05 Completed - Training job completed\n",
      "Training seconds: 220\n",
      "Billable seconds: 220\n"
     ]
    }
   ],
   "source": [
    "xgb.fit({'train': s3_input_train, 'validation': s3_input_validation})"
   ]
  },
  {
   "cell_type": "markdown",
   "metadata": {},
   "source": [
    "## Step 5: Testing the model\n",
    "\n",
    "Now that we've fit our XGBoost model, it's time to see how well it performs. To do this we will use SageMakers Batch Transform functionality. Batch Transform is a convenient way to perform inference on a large dataset in a way that is not realtime. That is, we don't necessarily need to use our model's results immediately and instead we can perform inference on a large number of samples. An example of this in industry might be performing an end of month report. This method of inference can also be useful to us as it means that we can perform inference on our entire test set. \n",
    "\n",
    "To perform a Batch Transformation we need to first create a transformer objects from our trained estimator object."
   ]
  },
  {
   "cell_type": "code",
   "execution_count": 26,
   "metadata": {},
   "outputs": [
    {
     "name": "stderr",
     "output_type": "stream",
     "text": [
      "Parameter image will be renamed to image_uri in SageMaker Python SDK v2.\n"
     ]
    }
   ],
   "source": [
    "xgb_transformer = xgb.transformer(instance_count = 1, instance_type = 'ml.m4.xlarge')"
   ]
  },
  {
   "cell_type": "markdown",
   "metadata": {},
   "source": [
    "Next we actually perform the transform job. When doing so we need to make sure to specify the type of data we are sending so that it is serialized correctly in the background. In our case we are providing our model with csv data so we specify `text/csv`. Also, if the test data that we have provided is too large to process all at once then we need to specify how the data file should be split up. Since each line is a single entry in our data set we tell SageMaker that it can split the input on each line."
   ]
  },
  {
   "cell_type": "code",
   "execution_count": 27,
   "metadata": {},
   "outputs": [],
   "source": [
    "xgb_transformer.transform(test_location, content_type='text/csv', split_type='Line')"
   ]
  },
  {
   "cell_type": "markdown",
   "metadata": {},
   "source": [
    "Currently the transform job is running but it is doing so in the background. Since we wish to wait until the transform job is done and we would like a bit of feedback we can run the `wait()` method."
   ]
  },
  {
   "cell_type": "code",
   "execution_count": 28,
   "metadata": {
    "collapsed": true,
    "jupyter": {
     "outputs_hidden": true
    }
   },
   "outputs": [
    {
     "name": "stdout",
     "output_type": "stream",
     "text": [
      "........................\u001b[34mArguments: serve\u001b[0m\n",
      "\u001b[34m[2020-08-25 01:53:50 +0000] [1] [INFO] Starting gunicorn 19.7.1\u001b[0m\n",
      "\u001b[34m[2020-08-25 01:53:50 +0000] [1] [INFO] Listening at: http://0.0.0.0:8080 (1)\u001b[0m\n",
      "\u001b[34m[2020-08-25 01:53:50 +0000] [1] [INFO] Using worker: gevent\u001b[0m\n",
      "\u001b[34m[2020-08-25 01:53:50 +0000] [36] [INFO] Booting worker with pid: 36\u001b[0m\n",
      "\u001b[34m[2020-08-25:01:53:50:INFO] Model loaded successfully for worker : 36\u001b[0m\n",
      "\u001b[34m[2020-08-25 01:53:50 +0000] [37] [INFO] Booting worker with pid: 37\u001b[0m\n",
      "\u001b[34m[2020-08-25 01:53:50 +0000] [38] [INFO] Booting worker with pid: 38\u001b[0m\n",
      "\u001b[34m[2020-08-25 01:53:50 +0000] [39] [INFO] Booting worker with pid: 39\u001b[0m\n",
      "\u001b[34m[2020-08-25:01:53:50:INFO] Model loaded successfully for worker : 37\u001b[0m\n",
      "\u001b[34m[2020-08-25:01:53:50:INFO] Model loaded successfully for worker : 38\u001b[0m\n",
      "\u001b[34m[2020-08-25:01:53:50:INFO] Model loaded successfully for worker : 39\u001b[0m\n",
      "\u001b[34m[2020-08-25:01:53:50:INFO] Sniff delimiter as ','\u001b[0m\n",
      "\u001b[34m[2020-08-25:01:53:50:INFO] Determined delimiter of CSV input is ','\u001b[0m\n",
      "\u001b[34m[2020-08-25:01:53:50:INFO] Sniff delimiter as ','\u001b[0m\n",
      "\u001b[34m[2020-08-25:01:53:50:INFO] Determined delimiter of CSV input is ','\u001b[0m\n",
      "\u001b[34m[2020-08-25:01:53:51:INFO] Sniff delimiter as ','\u001b[0m\n",
      "\u001b[34m[2020-08-25:01:53:51:INFO] Determined delimiter of CSV input is ','\u001b[0m\n",
      "\u001b[34m[2020-08-25:01:53:51:INFO] Sniff delimiter as ','\u001b[0m\n",
      "\u001b[34m[2020-08-25:01:53:51:INFO] Determined delimiter of CSV input is ','\u001b[0m\n",
      "\u001b[34m[2020-08-25:01:53:53:INFO] Sniff delimiter as ','\u001b[0m\n",
      "\u001b[34m[2020-08-25:01:53:53:INFO] Determined delimiter of CSV input is ','\u001b[0m\n",
      "\u001b[34m[2020-08-25:01:53:53:INFO] Sniff delimiter as ','\u001b[0m\n",
      "\u001b[34m[2020-08-25:01:53:53:INFO] Determined delimiter of CSV input is ','\u001b[0m\n",
      "\u001b[34m[2020-08-25:01:53:53:INFO] Sniff delimiter as ','\u001b[0m\n",
      "\u001b[34m[2020-08-25:01:53:53:INFO] Determined delimiter of CSV input is ','\u001b[0m\n",
      "\u001b[34m[2020-08-25:01:53:53:INFO] Sniff delimiter as ','\u001b[0m\n",
      "\u001b[35m[2020-08-25:01:53:53:INFO] Sniff delimiter as ','\u001b[0m\n",
      "\u001b[35m[2020-08-25:01:53:53:INFO] Determined delimiter of CSV input is ','\u001b[0m\n",
      "\u001b[35m[2020-08-25:01:53:53:INFO] Sniff delimiter as ','\u001b[0m\n",
      "\u001b[34m[2020-08-25:01:53:53:INFO] Determined delimiter of CSV input is ','\u001b[0m\n",
      "\u001b[35m[2020-08-25:01:53:53:INFO] Determined delimiter of CSV input is ','\u001b[0m\n",
      "\u001b[32m2020-08-25T01:53:50.260:[sagemaker logs]: MaxConcurrentTransforms=4, MaxPayloadInMB=6, BatchStrategy=MULTI_RECORD\u001b[0m\n",
      "\u001b[34m[2020-08-25:01:53:55:INFO] Sniff delimiter as ','\u001b[0m\n",
      "\u001b[34m[2020-08-25:01:53:55:INFO] Determined delimiter of CSV input is ','\u001b[0m\n",
      "\u001b[34m[2020-08-25:01:53:55:INFO] Sniff delimiter as ','\u001b[0m\n",
      "\u001b[34m[2020-08-25:01:53:55:INFO] Determined delimiter of CSV input is ','\u001b[0m\n",
      "\u001b[35m[2020-08-25:01:53:55:INFO] Sniff delimiter as ','\u001b[0m\n",
      "\u001b[35m[2020-08-25:01:53:55:INFO] Determined delimiter of CSV input is ','\u001b[0m\n",
      "\u001b[35m[2020-08-25:01:53:55:INFO] Sniff delimiter as ','\u001b[0m\n",
      "\u001b[35m[2020-08-25:01:53:55:INFO] Determined delimiter of CSV input is ','\u001b[0m\n",
      "\u001b[34m[2020-08-25:01:53:56:INFO] Sniff delimiter as ','\u001b[0m\n",
      "\u001b[34m[2020-08-25:01:53:56:INFO] Determined delimiter of CSV input is ','\u001b[0m\n",
      "\u001b[34m[2020-08-25:01:53:56:INFO] Sniff delimiter as ','\u001b[0m\n",
      "\u001b[34m[2020-08-25:01:53:56:INFO] Determined delimiter of CSV input is ','\u001b[0m\n",
      "\u001b[35m[2020-08-25:01:53:56:INFO] Sniff delimiter as ','\u001b[0m\n",
      "\u001b[35m[2020-08-25:01:53:56:INFO] Determined delimiter of CSV input is ','\u001b[0m\n",
      "\u001b[35m[2020-08-25:01:53:56:INFO] Sniff delimiter as ','\u001b[0m\n",
      "\u001b[35m[2020-08-25:01:53:56:INFO] Determined delimiter of CSV input is ','\u001b[0m\n",
      "\u001b[34m[2020-08-25:01:53:58:INFO] Sniff delimiter as ','\u001b[0m\n",
      "\u001b[34m[2020-08-25:01:53:58:INFO] Determined delimiter of CSV input is ','\u001b[0m\n",
      "\u001b[35m[2020-08-25:01:53:58:INFO] Sniff delimiter as ','\u001b[0m\n",
      "\u001b[35m[2020-08-25:01:53:58:INFO] Determined delimiter of CSV input is ','\u001b[0m\n",
      "\u001b[34m[2020-08-25:01:53:58:INFO] Sniff delimiter as ','\u001b[0m\n",
      "\u001b[34m[2020-08-25:01:53:58:INFO] Determined delimiter of CSV input is ','\u001b[0m\n",
      "\u001b[35m[2020-08-25:01:53:58:INFO] Sniff delimiter as ','\u001b[0m\n",
      "\u001b[35m[2020-08-25:01:53:58:INFO] Determined delimiter of CSV input is ','\u001b[0m\n",
      "\u001b[34m[2020-08-25:01:53:58:INFO] Sniff delimiter as ','\u001b[0m\n",
      "\u001b[34m[2020-08-25:01:53:58:INFO] Determined delimiter of CSV input is ','\u001b[0m\n",
      "\u001b[34m[2020-08-25:01:53:59:INFO] Sniff delimiter as ','\u001b[0m\n",
      "\u001b[34m[2020-08-25:01:53:59:INFO] Determined delimiter of CSV input is ','\u001b[0m\n",
      "\u001b[35m[2020-08-25:01:53:58:INFO] Sniff delimiter as ','\u001b[0m\n",
      "\u001b[35m[2020-08-25:01:53:58:INFO] Determined delimiter of CSV input is ','\u001b[0m\n",
      "\u001b[35m[2020-08-25:01:53:59:INFO] Sniff delimiter as ','\u001b[0m\n",
      "\u001b[35m[2020-08-25:01:53:59:INFO] Determined delimiter of CSV input is ','\u001b[0m\n",
      "\u001b[34m[2020-08-25:01:54:00:INFO] Sniff delimiter as ','\u001b[0m\n",
      "\u001b[34m[2020-08-25:01:54:00:INFO] Determined delimiter of CSV input is ','\u001b[0m\n",
      "\u001b[34m[2020-08-25:01:54:00:INFO] Sniff delimiter as ','\u001b[0m\n",
      "\u001b[34m[2020-08-25:01:54:00:INFO] Determined delimiter of CSV input is ','\u001b[0m\n",
      "\u001b[34m[2020-08-25:01:54:01:INFO] Sniff delimiter as ','\u001b[0m\n",
      "\u001b[34m[2020-08-25:01:54:01:INFO] Determined delimiter of CSV input is ','\u001b[0m\n",
      "\u001b[35m[2020-08-25:01:54:00:INFO] Sniff delimiter as ','\u001b[0m\n",
      "\u001b[35m[2020-08-25:01:54:00:INFO] Determined delimiter of CSV input is ','\u001b[0m\n",
      "\u001b[35m[2020-08-25:01:54:00:INFO] Sniff delimiter as ','\u001b[0m\n",
      "\u001b[35m[2020-08-25:01:54:00:INFO] Determined delimiter of CSV input is ','\u001b[0m\n",
      "\u001b[35m[2020-08-25:01:54:01:INFO] Sniff delimiter as ','\u001b[0m\n",
      "\u001b[35m[2020-08-25:01:54:01:INFO] Determined delimiter of CSV input is ','\u001b[0m\n",
      "\u001b[34m[2020-08-25:01:54:01:INFO] Sniff delimiter as ','\u001b[0m\n",
      "\u001b[34m[2020-08-25:01:54:01:INFO] Determined delimiter of CSV input is ','\u001b[0m\n",
      "\u001b[35m[2020-08-25:01:54:01:INFO] Sniff delimiter as ','\u001b[0m\n",
      "\u001b[35m[2020-08-25:01:54:01:INFO] Determined delimiter of CSV input is ','\u001b[0m\n",
      "\u001b[34m[2020-08-25:01:54:03:INFO] Sniff delimiter as ','\u001b[0m\n",
      "\u001b[34m[2020-08-25:01:54:03:INFO] Determined delimiter of CSV input is ','\u001b[0m\n",
      "\u001b[34m[2020-08-25:01:54:03:INFO] Sniff delimiter as ','\u001b[0m\n",
      "\u001b[34m[2020-08-25:01:54:03:INFO] Determined delimiter of CSV input is ','\u001b[0m\n",
      "\u001b[35m[2020-08-25:01:54:03:INFO] Sniff delimiter as ','\u001b[0m\n",
      "\u001b[35m[2020-08-25:01:54:03:INFO] Determined delimiter of CSV input is ','\u001b[0m\n",
      "\u001b[35m[2020-08-25:01:54:03:INFO] Sniff delimiter as ','\u001b[0m\n",
      "\u001b[35m[2020-08-25:01:54:03:INFO] Determined delimiter of CSV input is ','\u001b[0m\n",
      "\u001b[34m[2020-08-25:01:54:05:INFO] Sniff delimiter as ','\u001b[0m\n",
      "\u001b[34m[2020-08-25:01:54:05:INFO] Determined delimiter of CSV input is ','\u001b[0m\n",
      "\u001b[34m[2020-08-25:01:54:05:INFO] Sniff delimiter as ','\u001b[0m\n",
      "\u001b[34m[2020-08-25:01:54:05:INFO] Determined delimiter of CSV input is ','\u001b[0m\n",
      "\u001b[34m[2020-08-25:01:54:06:INFO] Sniff delimiter as ','\u001b[0m\n",
      "\u001b[34m[2020-08-25:01:54:06:INFO] Determined delimiter of CSV input is ','\u001b[0m\n",
      "\u001b[34m[2020-08-25:01:54:06:INFO] Sniff delimiter as ','\u001b[0m\n",
      "\u001b[34m[2020-08-25:01:54:06:INFO] Determined delimiter of CSV input is ','\u001b[0m\n",
      "\u001b[35m[2020-08-25:01:54:05:INFO] Sniff delimiter as ','\u001b[0m\n",
      "\u001b[35m[2020-08-25:01:54:05:INFO] Determined delimiter of CSV input is ','\u001b[0m\n",
      "\u001b[35m[2020-08-25:01:54:05:INFO] Sniff delimiter as ','\u001b[0m\n",
      "\u001b[35m[2020-08-25:01:54:05:INFO] Determined delimiter of CSV input is ','\u001b[0m\n",
      "\u001b[35m[2020-08-25:01:54:06:INFO] Sniff delimiter as ','\u001b[0m\n",
      "\u001b[35m[2020-08-25:01:54:06:INFO] Determined delimiter of CSV input is ','\u001b[0m\n",
      "\u001b[35m[2020-08-25:01:54:06:INFO] Sniff delimiter as ','\u001b[0m\n",
      "\u001b[35m[2020-08-25:01:54:06:INFO] Determined delimiter of CSV input is ','\u001b[0m\n",
      "\u001b[34m[2020-08-25:01:54:08:INFO] Sniff delimiter as ','\u001b[0m\n",
      "\u001b[34m[2020-08-25:01:54:08:INFO] Determined delimiter of CSV input is ','\u001b[0m\n",
      "\u001b[34m[2020-08-25:01:54:08:INFO] Sniff delimiter as ','\u001b[0m\n",
      "\u001b[34m[2020-08-25:01:54:08:INFO] Determined delimiter of CSV input is ','\u001b[0m\n",
      "\u001b[35m[2020-08-25:01:54:08:INFO] Sniff delimiter as ','\u001b[0m\n",
      "\u001b[35m[2020-08-25:01:54:08:INFO] Determined delimiter of CSV input is ','\u001b[0m\n",
      "\u001b[35m[2020-08-25:01:54:08:INFO] Sniff delimiter as ','\u001b[0m\n",
      "\u001b[35m[2020-08-25:01:54:08:INFO] Determined delimiter of CSV input is ','\u001b[0m\n",
      "\u001b[34m[2020-08-25:01:54:08:INFO] Sniff delimiter as ','\u001b[0m\n",
      "\u001b[34m[2020-08-25:01:54:08:INFO] Determined delimiter of CSV input is ','\u001b[0m\n",
      "\u001b[34m[2020-08-25:01:54:08:INFO] Sniff delimiter as ','\u001b[0m\n",
      "\u001b[34m[2020-08-25:01:54:08:INFO] Determined delimiter of CSV input is ','\u001b[0m\n",
      "\u001b[35m[2020-08-25:01:54:08:INFO] Sniff delimiter as ','\u001b[0m\n",
      "\u001b[35m[2020-08-25:01:54:08:INFO] Determined delimiter of CSV input is ','\u001b[0m\n",
      "\u001b[35m[2020-08-25:01:54:08:INFO] Sniff delimiter as ','\u001b[0m\n",
      "\u001b[35m[2020-08-25:01:54:08:INFO] Determined delimiter of CSV input is ','\u001b[0m\n",
      "\u001b[34m[2020-08-25:01:54:10:INFO] Sniff delimiter as ','\u001b[0m\n",
      "\u001b[34m[2020-08-25:01:54:10:INFO] Determined delimiter of CSV input is ','\u001b[0m\n",
      "\u001b[34m[2020-08-25:01:54:10:INFO] Sniff delimiter as ','\u001b[0m\n",
      "\u001b[34m[2020-08-25:01:54:10:INFO] Determined delimiter of CSV input is ','\u001b[0m\n",
      "\u001b[34m[2020-08-25:01:54:10:INFO] Sniff delimiter as ','\u001b[0m\n",
      "\u001b[35m[2020-08-25:01:54:10:INFO] Sniff delimiter as ','\u001b[0m\n",
      "\u001b[35m[2020-08-25:01:54:10:INFO] Determined delimiter of CSV input is ','\u001b[0m\n",
      "\u001b[35m[2020-08-25:01:54:10:INFO] Sniff delimiter as ','\u001b[0m\n",
      "\u001b[35m[2020-08-25:01:54:10:INFO] Determined delimiter of CSV input is ','\u001b[0m\n",
      "\u001b[35m[2020-08-25:01:54:10:INFO] Sniff delimiter as ','\u001b[0m\n",
      "\u001b[34m[2020-08-25:01:54:10:INFO] Determined delimiter of CSV input is ','\u001b[0m\n",
      "\u001b[34m[2020-08-25:01:54:11:INFO] Sniff delimiter as ','\u001b[0m\n",
      "\u001b[34m[2020-08-25:01:54:11:INFO] Determined delimiter of CSV input is ','\u001b[0m\n",
      "\u001b[35m[2020-08-25:01:54:10:INFO] Determined delimiter of CSV input is ','\u001b[0m\n",
      "\u001b[35m[2020-08-25:01:54:11:INFO] Sniff delimiter as ','\u001b[0m\n",
      "\u001b[35m[2020-08-25:01:54:11:INFO] Determined delimiter of CSV input is ','\u001b[0m\n",
      "\u001b[34m[2020-08-25:01:54:12:INFO] Sniff delimiter as ','\u001b[0m\n",
      "\u001b[34m[2020-08-25:01:54:12:INFO] Determined delimiter of CSV input is ','\u001b[0m\n",
      "\u001b[34m[2020-08-25:01:54:13:INFO] Sniff delimiter as ','\u001b[0m\n",
      "\u001b[34m[2020-08-25:01:54:13:INFO] Determined delimiter of CSV input is ','\u001b[0m\n",
      "\u001b[34m[2020-08-25:01:54:13:INFO] Sniff delimiter as ','\u001b[0m\n",
      "\u001b[34m[2020-08-25:01:54:13:INFO] Determined delimiter of CSV input is ','\u001b[0m\n",
      "\u001b[35m[2020-08-25:01:54:12:INFO] Sniff delimiter as ','\u001b[0m\n",
      "\u001b[35m[2020-08-25:01:54:12:INFO] Determined delimiter of CSV input is ','\u001b[0m\n",
      "\u001b[35m[2020-08-25:01:54:13:INFO] Sniff delimiter as ','\u001b[0m\n",
      "\u001b[35m[2020-08-25:01:54:13:INFO] Determined delimiter of CSV input is ','\u001b[0m\n",
      "\u001b[35m[2020-08-25:01:54:13:INFO] Sniff delimiter as ','\u001b[0m\n",
      "\u001b[35m[2020-08-25:01:54:13:INFO] Determined delimiter of CSV input is ','\u001b[0m\n",
      "\n"
     ]
    }
   ],
   "source": [
    "xgb_transformer.wait()"
   ]
  },
  {
   "cell_type": "markdown",
   "metadata": {},
   "source": [
    "Now the transform job has executed and the result, the estimated sentiment of each review, has been saved on S3. Since we would rather work on this file locally we can perform a bit of notebook magic to copy the file to the `data_dir`."
   ]
  },
  {
   "cell_type": "code",
   "execution_count": 29,
   "metadata": {},
   "outputs": [
    {
     "name": "stdout",
     "output_type": "stream",
     "text": [
      "download: s3://sagemaker-ap-south-1-714138043953/xgboost-2020-08-25-01-49-20-612/test.csv.out to ../data/sentiment_web_app/test.csv.out\n"
     ]
    }
   ],
   "source": [
    "!aws s3 cp --recursive $xgb_transformer.output_path $data_dir"
   ]
  },
  {
   "cell_type": "markdown",
   "metadata": {},
   "source": [
    "The last step is now to read in the output from our model, convert the output to something a little more usable, in this case we want the sentiment to be either `1` (positive) or `0` (negative), and then compare to the ground truth labels."
   ]
  },
  {
   "cell_type": "code",
   "execution_count": 30,
   "metadata": {},
   "outputs": [],
   "source": [
    "predictions = pd.read_csv(os.path.join(data_dir, 'test.csv.out'), header=None)\n",
    "predictions = [round(num) for num in predictions.squeeze().values]"
   ]
  },
  {
   "cell_type": "code",
   "execution_count": 31,
   "metadata": {},
   "outputs": [
    {
     "data": {
      "text/plain": [
       "0.85028"
      ]
     },
     "execution_count": 31,
     "metadata": {},
     "output_type": "execute_result"
    }
   ],
   "source": [
    "from sklearn.metrics import accuracy_score\n",
    "accuracy_score(test_y, predictions)"
   ]
  },
  {
   "cell_type": "markdown",
   "metadata": {},
   "source": [
    "## Step 6: Deploying the model\n",
    "\n",
    "Once we construct and fit our model, SageMaker stores the resulting model artifacts and we can use those to deploy an endpoint (inference code). To see this, look in the SageMaker console and you should see that a model has been created along with a link to the S3 location where the model artifacts have been stored.\n",
    "\n",
    "Deploying an endpoint is a lot like training the model with a few important differences. The first is that a deployed model doesn't change the model artifacts, so as you send it various testing instances the model won't change. Another difference is that since we aren't performing a fixed computation, as we were in the training step or while performing a batch transform, the compute instance that gets started stays running until we tell it to stop. This is important to note as if we forget and leave it running we will be charged the entire time.\n",
    "\n",
    "In other words **If you are no longer using a deployed endpoint, shut it down!**"
   ]
  },
  {
   "cell_type": "code",
   "execution_count": 36,
   "metadata": {
    "collapsed": true,
    "jupyter": {
     "outputs_hidden": true
    }
   },
   "outputs": [
    {
     "name": "stderr",
     "output_type": "stream",
     "text": [
      "Parameter image will be renamed to image_uri in SageMaker Python SDK v2.\n",
      "Using already existing model: xgboost-2020-08-25-08-01-47-047\n"
     ]
    },
    {
     "name": "stdout",
     "output_type": "stream",
     "text": [
      "--"
     ]
    },
    {
     "ename": "KeyboardInterrupt",
     "evalue": "",
     "output_type": "error",
     "traceback": [
      "\u001b[0;31m---------------------------------------------------------------------------\u001b[0m",
      "\u001b[0;31mKeyboardInterrupt\u001b[0m                         Traceback (most recent call last)",
      "\u001b[0;32m<ipython-input-36-ccb632c8fb45>\u001b[0m in \u001b[0;36m<module>\u001b[0;34m\u001b[0m\n\u001b[0;32m----> 1\u001b[0;31m \u001b[0mxgb_predictor\u001b[0m \u001b[0;34m=\u001b[0m \u001b[0mxgb\u001b[0m\u001b[0;34m.\u001b[0m\u001b[0mdeploy\u001b[0m\u001b[0;34m(\u001b[0m\u001b[0minitial_instance_count\u001b[0m \u001b[0;34m=\u001b[0m \u001b[0;36m1\u001b[0m\u001b[0;34m,\u001b[0m \u001b[0minstance_type\u001b[0m \u001b[0;34m=\u001b[0m \u001b[0;34m'ml.m4.xlarge'\u001b[0m\u001b[0;34m)\u001b[0m\u001b[0;34m\u001b[0m\u001b[0;34m\u001b[0m\u001b[0m\n\u001b[0m",
      "\u001b[0;32m~/anaconda3/envs/python3/lib/python3.6/site-packages/sagemaker/estimator.py\u001b[0m in \u001b[0;36mdeploy\u001b[0;34m(self, initial_instance_count, instance_type, accelerator_type, endpoint_name, use_compiled_model, update_endpoint, wait, model_name, kms_key, data_capture_config, tags, **kwargs)\u001b[0m\n\u001b[1;32m    743\u001b[0m             \u001b[0mwait\u001b[0m\u001b[0;34m=\u001b[0m\u001b[0mwait\u001b[0m\u001b[0;34m,\u001b[0m\u001b[0;34m\u001b[0m\u001b[0;34m\u001b[0m\u001b[0m\n\u001b[1;32m    744\u001b[0m             \u001b[0mkms_key\u001b[0m\u001b[0;34m=\u001b[0m\u001b[0mkms_key\u001b[0m\u001b[0;34m,\u001b[0m\u001b[0;34m\u001b[0m\u001b[0;34m\u001b[0m\u001b[0m\n\u001b[0;32m--> 745\u001b[0;31m             \u001b[0mdata_capture_config\u001b[0m\u001b[0;34m=\u001b[0m\u001b[0mdata_capture_config\u001b[0m\u001b[0;34m,\u001b[0m\u001b[0;34m\u001b[0m\u001b[0;34m\u001b[0m\u001b[0m\n\u001b[0m\u001b[1;32m    746\u001b[0m         )\n\u001b[1;32m    747\u001b[0m \u001b[0;34m\u001b[0m\u001b[0m\n",
      "\u001b[0;32m~/anaconda3/envs/python3/lib/python3.6/site-packages/sagemaker/model.py\u001b[0m in \u001b[0;36mdeploy\u001b[0;34m(self, initial_instance_count, instance_type, accelerator_type, endpoint_name, update_endpoint, tags, kms_key, wait, data_capture_config)\u001b[0m\n\u001b[1;32m    577\u001b[0m                 \u001b[0mkms_key\u001b[0m\u001b[0;34m=\u001b[0m\u001b[0mkms_key\u001b[0m\u001b[0;34m,\u001b[0m\u001b[0;34m\u001b[0m\u001b[0;34m\u001b[0m\u001b[0m\n\u001b[1;32m    578\u001b[0m                 \u001b[0mwait\u001b[0m\u001b[0;34m=\u001b[0m\u001b[0mwait\u001b[0m\u001b[0;34m,\u001b[0m\u001b[0;34m\u001b[0m\u001b[0;34m\u001b[0m\u001b[0m\n\u001b[0;32m--> 579\u001b[0;31m                 \u001b[0mdata_capture_config_dict\u001b[0m\u001b[0;34m=\u001b[0m\u001b[0mdata_capture_config_dict\u001b[0m\u001b[0;34m,\u001b[0m\u001b[0;34m\u001b[0m\u001b[0;34m\u001b[0m\u001b[0m\n\u001b[0m\u001b[1;32m    580\u001b[0m             )\n\u001b[1;32m    581\u001b[0m \u001b[0;34m\u001b[0m\u001b[0m\n",
      "\u001b[0;32m~/anaconda3/envs/python3/lib/python3.6/site-packages/sagemaker/session.py\u001b[0m in \u001b[0;36mendpoint_from_production_variants\u001b[0;34m(self, name, production_variants, tags, kms_key, wait, data_capture_config_dict)\u001b[0m\n\u001b[1;32m   2903\u001b[0m \u001b[0;34m\u001b[0m\u001b[0m\n\u001b[1;32m   2904\u001b[0m             \u001b[0mself\u001b[0m\u001b[0;34m.\u001b[0m\u001b[0msagemaker_client\u001b[0m\u001b[0;34m.\u001b[0m\u001b[0mcreate_endpoint_config\u001b[0m\u001b[0;34m(\u001b[0m\u001b[0;34m**\u001b[0m\u001b[0mconfig_options\u001b[0m\u001b[0;34m)\u001b[0m\u001b[0;34m\u001b[0m\u001b[0;34m\u001b[0m\u001b[0m\n\u001b[0;32m-> 2905\u001b[0;31m         \u001b[0;32mreturn\u001b[0m \u001b[0mself\u001b[0m\u001b[0;34m.\u001b[0m\u001b[0mcreate_endpoint\u001b[0m\u001b[0;34m(\u001b[0m\u001b[0mendpoint_name\u001b[0m\u001b[0;34m=\u001b[0m\u001b[0mname\u001b[0m\u001b[0;34m,\u001b[0m \u001b[0mconfig_name\u001b[0m\u001b[0;34m=\u001b[0m\u001b[0mname\u001b[0m\u001b[0;34m,\u001b[0m \u001b[0mtags\u001b[0m\u001b[0;34m=\u001b[0m\u001b[0mtags\u001b[0m\u001b[0;34m,\u001b[0m \u001b[0mwait\u001b[0m\u001b[0;34m=\u001b[0m\u001b[0mwait\u001b[0m\u001b[0;34m)\u001b[0m\u001b[0;34m\u001b[0m\u001b[0;34m\u001b[0m\u001b[0m\n\u001b[0m\u001b[1;32m   2906\u001b[0m \u001b[0;34m\u001b[0m\u001b[0m\n\u001b[1;32m   2907\u001b[0m     \u001b[0;32mdef\u001b[0m \u001b[0mexpand_role\u001b[0m\u001b[0;34m(\u001b[0m\u001b[0mself\u001b[0m\u001b[0;34m,\u001b[0m \u001b[0mrole\u001b[0m\u001b[0;34m)\u001b[0m\u001b[0;34m:\u001b[0m\u001b[0;34m\u001b[0m\u001b[0;34m\u001b[0m\u001b[0m\n",
      "\u001b[0;32m~/anaconda3/envs/python3/lib/python3.6/site-packages/sagemaker/session.py\u001b[0m in \u001b[0;36mcreate_endpoint\u001b[0;34m(self, endpoint_name, config_name, tags, wait)\u001b[0m\n\u001b[1;32m   2423\u001b[0m         )\n\u001b[1;32m   2424\u001b[0m         \u001b[0;32mif\u001b[0m \u001b[0mwait\u001b[0m\u001b[0;34m:\u001b[0m\u001b[0;34m\u001b[0m\u001b[0;34m\u001b[0m\u001b[0m\n\u001b[0;32m-> 2425\u001b[0;31m             \u001b[0mself\u001b[0m\u001b[0;34m.\u001b[0m\u001b[0mwait_for_endpoint\u001b[0m\u001b[0;34m(\u001b[0m\u001b[0mendpoint_name\u001b[0m\u001b[0;34m)\u001b[0m\u001b[0;34m\u001b[0m\u001b[0;34m\u001b[0m\u001b[0m\n\u001b[0m\u001b[1;32m   2426\u001b[0m         \u001b[0;32mreturn\u001b[0m \u001b[0mendpoint_name\u001b[0m\u001b[0;34m\u001b[0m\u001b[0;34m\u001b[0m\u001b[0m\n\u001b[1;32m   2427\u001b[0m \u001b[0;34m\u001b[0m\u001b[0m\n",
      "\u001b[0;32m~/anaconda3/envs/python3/lib/python3.6/site-packages/sagemaker/session.py\u001b[0m in \u001b[0;36mwait_for_endpoint\u001b[0;34m(self, endpoint, poll)\u001b[0m\n\u001b[1;32m   2682\u001b[0m             \u001b[0mdict\u001b[0m\u001b[0;34m:\u001b[0m \u001b[0mReturn\u001b[0m \u001b[0mvalue\u001b[0m \u001b[0;32mfrom\u001b[0m \u001b[0mthe\u001b[0m\u001b[0;31m \u001b[0m\u001b[0;31m`\u001b[0m\u001b[0;31m`\u001b[0m\u001b[0mDescribeEndpoint\u001b[0m\u001b[0;31m`\u001b[0m\u001b[0;31m`\u001b[0m \u001b[0mAPI\u001b[0m\u001b[0;34m.\u001b[0m\u001b[0;34m\u001b[0m\u001b[0;34m\u001b[0m\u001b[0m\n\u001b[1;32m   2683\u001b[0m         \"\"\"\n\u001b[0;32m-> 2684\u001b[0;31m         \u001b[0mdesc\u001b[0m \u001b[0;34m=\u001b[0m \u001b[0m_wait_until\u001b[0m\u001b[0;34m(\u001b[0m\u001b[0;32mlambda\u001b[0m\u001b[0;34m:\u001b[0m \u001b[0m_deploy_done\u001b[0m\u001b[0;34m(\u001b[0m\u001b[0mself\u001b[0m\u001b[0;34m.\u001b[0m\u001b[0msagemaker_client\u001b[0m\u001b[0;34m,\u001b[0m \u001b[0mendpoint\u001b[0m\u001b[0;34m)\u001b[0m\u001b[0;34m,\u001b[0m \u001b[0mpoll\u001b[0m\u001b[0;34m)\u001b[0m\u001b[0;34m\u001b[0m\u001b[0;34m\u001b[0m\u001b[0m\n\u001b[0m\u001b[1;32m   2685\u001b[0m         \u001b[0mstatus\u001b[0m \u001b[0;34m=\u001b[0m \u001b[0mdesc\u001b[0m\u001b[0;34m[\u001b[0m\u001b[0;34m\"EndpointStatus\"\u001b[0m\u001b[0;34m]\u001b[0m\u001b[0;34m\u001b[0m\u001b[0;34m\u001b[0m\u001b[0m\n\u001b[1;32m   2686\u001b[0m \u001b[0;34m\u001b[0m\u001b[0m\n",
      "\u001b[0;32m~/anaconda3/envs/python3/lib/python3.6/site-packages/sagemaker/session.py\u001b[0m in \u001b[0;36m_wait_until\u001b[0;34m(callable_fn, poll)\u001b[0m\n\u001b[1;32m   3633\u001b[0m     \u001b[0mresult\u001b[0m \u001b[0;34m=\u001b[0m \u001b[0mcallable_fn\u001b[0m\u001b[0;34m(\u001b[0m\u001b[0;34m)\u001b[0m\u001b[0;34m\u001b[0m\u001b[0;34m\u001b[0m\u001b[0m\n\u001b[1;32m   3634\u001b[0m     \u001b[0;32mwhile\u001b[0m \u001b[0mresult\u001b[0m \u001b[0;32mis\u001b[0m \u001b[0;32mNone\u001b[0m\u001b[0;34m:\u001b[0m\u001b[0;34m\u001b[0m\u001b[0;34m\u001b[0m\u001b[0m\n\u001b[0;32m-> 3635\u001b[0;31m         \u001b[0mtime\u001b[0m\u001b[0;34m.\u001b[0m\u001b[0msleep\u001b[0m\u001b[0;34m(\u001b[0m\u001b[0mpoll\u001b[0m\u001b[0;34m)\u001b[0m\u001b[0;34m\u001b[0m\u001b[0;34m\u001b[0m\u001b[0m\n\u001b[0m\u001b[1;32m   3636\u001b[0m         \u001b[0mresult\u001b[0m \u001b[0;34m=\u001b[0m \u001b[0mcallable_fn\u001b[0m\u001b[0;34m(\u001b[0m\u001b[0;34m)\u001b[0m\u001b[0;34m\u001b[0m\u001b[0;34m\u001b[0m\u001b[0m\n\u001b[1;32m   3637\u001b[0m     \u001b[0;32mreturn\u001b[0m \u001b[0mresult\u001b[0m\u001b[0;34m\u001b[0m\u001b[0;34m\u001b[0m\u001b[0m\n",
      "\u001b[0;31mKeyboardInterrupt\u001b[0m: "
     ]
    }
   ],
   "source": [
    "xgb_predictor = xgb.deploy(initial_instance_count = 1, instance_type = 'ml.m4.xlarge')"
   ]
  },
  {
   "cell_type": "markdown",
   "metadata": {},
   "source": [
    "### Testing the model (again)\n",
    "\n",
    "Now that we have deployed our endpoint, we can send the testing data to it and get back the inference results. We already did this earlier using the batch transform functionality of SageMaker, however, we will test our model again using the newly deployed endpoint so that we can make sure that it works properly and to get a bit of a feel for how the endpoint works.\n",
    "\n",
    "When using the created endpoint it is important to know that we are limited in the amount of information we can send in each call so we need to break the testing data up into chunks and then send each chunk. Also, we need to serialize our data before we send it to the endpoint to ensure that our data is transmitted properly. Fortunately, SageMaker can do the serialization part for us provided we tell it the format of our data."
   ]
  },
  {
   "cell_type": "code",
   "execution_count": 11,
   "metadata": {
    "collapsed": true,
    "jupyter": {
     "outputs_hidden": true
    }
   },
   "outputs": [
    {
     "ename": "NameError",
     "evalue": "name 'xgb_predictor' is not defined",
     "output_type": "error",
     "traceback": [
      "\u001b[0;31m---------------------------------------------------------------------------\u001b[0m",
      "\u001b[0;31mNameError\u001b[0m                                 Traceback (most recent call last)",
      "\u001b[0;32m<ipython-input-11-a80c473e596b>\u001b[0m in \u001b[0;36m<module>\u001b[0;34m\u001b[0m\n\u001b[1;32m      2\u001b[0m \u001b[0;34m\u001b[0m\u001b[0m\n\u001b[1;32m      3\u001b[0m \u001b[0;31m# We need to tell the endpoint what format the data we are sending is in so that SageMaker can perform the serialization.\u001b[0m\u001b[0;34m\u001b[0m\u001b[0;34m\u001b[0m\u001b[0;34m\u001b[0m\u001b[0m\n\u001b[0;32m----> 4\u001b[0;31m \u001b[0mxgb_predictor\u001b[0m\u001b[0;34m.\u001b[0m\u001b[0mcontent_type\u001b[0m \u001b[0;34m=\u001b[0m \u001b[0;34m'text/csv'\u001b[0m\u001b[0;34m\u001b[0m\u001b[0;34m\u001b[0m\u001b[0m\n\u001b[0m\u001b[1;32m      5\u001b[0m \u001b[0mxgb_predictor\u001b[0m\u001b[0;34m.\u001b[0m\u001b[0mserializer\u001b[0m \u001b[0;34m=\u001b[0m \u001b[0mcsv_serializer\u001b[0m\u001b[0;34m\u001b[0m\u001b[0;34m\u001b[0m\u001b[0m\n",
      "\u001b[0;31mNameError\u001b[0m: name 'xgb_predictor' is not defined"
     ]
    }
   ],
   "source": [
    "from sagemaker.predictor import csv_serializer\n",
    "\n",
    "# We need to tell the endpoint what format the data we are sending is in so that SageMaker can perform the serialization.\n",
    "xgb_predictor.content_type = 'text/csv'\n",
    "xgb_predictor.serializer = csv_serializer"
   ]
  },
  {
   "cell_type": "code",
   "execution_count": 34,
   "metadata": {},
   "outputs": [],
   "source": [
    "# We split the data into chunks and send each chunk seperately, accumulating the results.\n",
    "\n",
    "def predict(data, rows=512):\n",
    "    split_array = np.array_split(data, int(data.shape[0] / float(rows) + 1))\n",
    "    predictions = ''\n",
    "    for array in split_array:\n",
    "        predictions = ','.join([predictions, xgb_predictor.predict(array).decode('utf-8')])\n",
    "    \n",
    "    return np.fromstring(predictions[1:], sep=',')"
   ]
  },
  {
   "cell_type": "code",
   "execution_count": 35,
   "metadata": {},
   "outputs": [],
   "source": [
    "test_X = pd.read_csv(os.path.join(data_dir, 'test.csv'), header=None).values\n",
    "\n",
    "predictions = predict(test_X)\n",
    "predictions = [round(num) for num in predictions]"
   ]
  },
  {
   "cell_type": "markdown",
   "metadata": {},
   "source": [
    "Lastly, we check to see what the accuracy of our model is."
   ]
  },
  {
   "cell_type": "code",
   "execution_count": 36,
   "metadata": {},
   "outputs": [
    {
     "data": {
      "text/plain": [
       "0.85028"
      ]
     },
     "execution_count": 36,
     "metadata": {},
     "output_type": "execute_result"
    }
   ],
   "source": [
    "from sklearn.metrics import accuracy_score\n",
    "accuracy_score(test_y, predictions)"
   ]
  },
  {
   "cell_type": "markdown",
   "metadata": {},
   "source": [
    "And the results here should agree with the model testing that we did earlier using the batch transform job.\n",
    "\n",
    "### Cleaning up\n",
    "\n",
    "Now that we've determined that deploying our model works as expected, we are going to shut it down. Remember that the longer the endpoint is left running, the greater the cost and since we have a bit more work to do before we are able to use our endpoint with our simple web app, we should shut everything down."
   ]
  },
  {
   "cell_type": "code",
   "execution_count": 37,
   "metadata": {
    "collapsed": true,
    "jupyter": {
     "outputs_hidden": true
    }
   },
   "outputs": [
    {
     "ename": "ClientError",
     "evalue": "An error occurred (ValidationException) when calling the DeleteEndpoint operation: Cannot update in-progress endpoint \"arn:aws:sagemaker:ap-south-1:714138043953:endpoint/xgboost-2020-08-25-08-01-47-047\".",
     "output_type": "error",
     "traceback": [
      "\u001b[0;31m---------------------------------------------------------------------------\u001b[0m",
      "\u001b[0;31mClientError\u001b[0m                               Traceback (most recent call last)",
      "\u001b[0;32m<ipython-input-37-16a6b43a8b29>\u001b[0m in \u001b[0;36m<module>\u001b[0;34m\u001b[0m\n\u001b[0;32m----> 1\u001b[0;31m \u001b[0mxgb_predictor\u001b[0m\u001b[0;34m.\u001b[0m\u001b[0mdelete_endpoint\u001b[0m\u001b[0;34m(\u001b[0m\u001b[0;34m)\u001b[0m\u001b[0;34m\u001b[0m\u001b[0;34m\u001b[0m\u001b[0m\n\u001b[0m",
      "\u001b[0;32m~/anaconda3/envs/python3/lib/python3.6/site-packages/sagemaker/predictor.py\u001b[0m in \u001b[0;36mdelete_endpoint\u001b[0;34m(self, delete_endpoint_config)\u001b[0m\n\u001b[1;32m    176\u001b[0m             \u001b[0mself\u001b[0m\u001b[0;34m.\u001b[0m\u001b[0m_delete_endpoint_config\u001b[0m\u001b[0;34m(\u001b[0m\u001b[0;34m)\u001b[0m\u001b[0;34m\u001b[0m\u001b[0;34m\u001b[0m\u001b[0m\n\u001b[1;32m    177\u001b[0m \u001b[0;34m\u001b[0m\u001b[0m\n\u001b[0;32m--> 178\u001b[0;31m         \u001b[0mself\u001b[0m\u001b[0;34m.\u001b[0m\u001b[0msagemaker_session\u001b[0m\u001b[0;34m.\u001b[0m\u001b[0mdelete_endpoint\u001b[0m\u001b[0;34m(\u001b[0m\u001b[0mself\u001b[0m\u001b[0;34m.\u001b[0m\u001b[0mendpoint\u001b[0m\u001b[0;34m)\u001b[0m\u001b[0;34m\u001b[0m\u001b[0;34m\u001b[0m\u001b[0m\n\u001b[0m\u001b[1;32m    179\u001b[0m \u001b[0;34m\u001b[0m\u001b[0m\n\u001b[1;32m    180\u001b[0m     \u001b[0;32mdef\u001b[0m \u001b[0mdelete_model\u001b[0m\u001b[0;34m(\u001b[0m\u001b[0mself\u001b[0m\u001b[0;34m)\u001b[0m\u001b[0;34m:\u001b[0m\u001b[0;34m\u001b[0m\u001b[0;34m\u001b[0m\u001b[0m\n",
      "\u001b[0;32m~/anaconda3/envs/python3/lib/python3.6/site-packages/sagemaker/session.py\u001b[0m in \u001b[0;36mdelete_endpoint\u001b[0;34m(self, endpoint_name)\u001b[0m\n\u001b[1;32m   2468\u001b[0m         \"\"\"\n\u001b[1;32m   2469\u001b[0m         \u001b[0mLOGGER\u001b[0m\u001b[0;34m.\u001b[0m\u001b[0minfo\u001b[0m\u001b[0;34m(\u001b[0m\u001b[0;34m\"Deleting endpoint with name: %s\"\u001b[0m\u001b[0;34m,\u001b[0m \u001b[0mendpoint_name\u001b[0m\u001b[0;34m)\u001b[0m\u001b[0;34m\u001b[0m\u001b[0;34m\u001b[0m\u001b[0m\n\u001b[0;32m-> 2470\u001b[0;31m         \u001b[0mself\u001b[0m\u001b[0;34m.\u001b[0m\u001b[0msagemaker_client\u001b[0m\u001b[0;34m.\u001b[0m\u001b[0mdelete_endpoint\u001b[0m\u001b[0;34m(\u001b[0m\u001b[0mEndpointName\u001b[0m\u001b[0;34m=\u001b[0m\u001b[0mendpoint_name\u001b[0m\u001b[0;34m)\u001b[0m\u001b[0;34m\u001b[0m\u001b[0;34m\u001b[0m\u001b[0m\n\u001b[0m\u001b[1;32m   2471\u001b[0m \u001b[0;34m\u001b[0m\u001b[0m\n\u001b[1;32m   2472\u001b[0m     \u001b[0;32mdef\u001b[0m \u001b[0mdelete_endpoint_config\u001b[0m\u001b[0;34m(\u001b[0m\u001b[0mself\u001b[0m\u001b[0;34m,\u001b[0m \u001b[0mendpoint_config_name\u001b[0m\u001b[0;34m)\u001b[0m\u001b[0;34m:\u001b[0m\u001b[0;34m\u001b[0m\u001b[0;34m\u001b[0m\u001b[0m\n",
      "\u001b[0;32m~/anaconda3/envs/python3/lib/python3.6/site-packages/botocore/client.py\u001b[0m in \u001b[0;36m_api_call\u001b[0;34m(self, *args, **kwargs)\u001b[0m\n\u001b[1;32m    314\u001b[0m                     \"%s() only accepts keyword arguments.\" % py_operation_name)\n\u001b[1;32m    315\u001b[0m             \u001b[0;31m# The \"self\" in this scope is referring to the BaseClient.\u001b[0m\u001b[0;34m\u001b[0m\u001b[0;34m\u001b[0m\u001b[0;34m\u001b[0m\u001b[0m\n\u001b[0;32m--> 316\u001b[0;31m             \u001b[0;32mreturn\u001b[0m \u001b[0mself\u001b[0m\u001b[0;34m.\u001b[0m\u001b[0m_make_api_call\u001b[0m\u001b[0;34m(\u001b[0m\u001b[0moperation_name\u001b[0m\u001b[0;34m,\u001b[0m \u001b[0mkwargs\u001b[0m\u001b[0;34m)\u001b[0m\u001b[0;34m\u001b[0m\u001b[0;34m\u001b[0m\u001b[0m\n\u001b[0m\u001b[1;32m    317\u001b[0m \u001b[0;34m\u001b[0m\u001b[0m\n\u001b[1;32m    318\u001b[0m         \u001b[0m_api_call\u001b[0m\u001b[0;34m.\u001b[0m\u001b[0m__name__\u001b[0m \u001b[0;34m=\u001b[0m \u001b[0mstr\u001b[0m\u001b[0;34m(\u001b[0m\u001b[0mpy_operation_name\u001b[0m\u001b[0;34m)\u001b[0m\u001b[0;34m\u001b[0m\u001b[0;34m\u001b[0m\u001b[0m\n",
      "\u001b[0;32m~/anaconda3/envs/python3/lib/python3.6/site-packages/botocore/client.py\u001b[0m in \u001b[0;36m_make_api_call\u001b[0;34m(self, operation_name, api_params)\u001b[0m\n\u001b[1;32m    633\u001b[0m             \u001b[0merror_code\u001b[0m \u001b[0;34m=\u001b[0m \u001b[0mparsed_response\u001b[0m\u001b[0;34m.\u001b[0m\u001b[0mget\u001b[0m\u001b[0;34m(\u001b[0m\u001b[0;34m\"Error\"\u001b[0m\u001b[0;34m,\u001b[0m \u001b[0;34m{\u001b[0m\u001b[0;34m}\u001b[0m\u001b[0;34m)\u001b[0m\u001b[0;34m.\u001b[0m\u001b[0mget\u001b[0m\u001b[0;34m(\u001b[0m\u001b[0;34m\"Code\"\u001b[0m\u001b[0;34m)\u001b[0m\u001b[0;34m\u001b[0m\u001b[0;34m\u001b[0m\u001b[0m\n\u001b[1;32m    634\u001b[0m             \u001b[0merror_class\u001b[0m \u001b[0;34m=\u001b[0m \u001b[0mself\u001b[0m\u001b[0;34m.\u001b[0m\u001b[0mexceptions\u001b[0m\u001b[0;34m.\u001b[0m\u001b[0mfrom_code\u001b[0m\u001b[0;34m(\u001b[0m\u001b[0merror_code\u001b[0m\u001b[0;34m)\u001b[0m\u001b[0;34m\u001b[0m\u001b[0;34m\u001b[0m\u001b[0m\n\u001b[0;32m--> 635\u001b[0;31m             \u001b[0;32mraise\u001b[0m \u001b[0merror_class\u001b[0m\u001b[0;34m(\u001b[0m\u001b[0mparsed_response\u001b[0m\u001b[0;34m,\u001b[0m \u001b[0moperation_name\u001b[0m\u001b[0;34m)\u001b[0m\u001b[0;34m\u001b[0m\u001b[0;34m\u001b[0m\u001b[0m\n\u001b[0m\u001b[1;32m    636\u001b[0m         \u001b[0;32melse\u001b[0m\u001b[0;34m:\u001b[0m\u001b[0;34m\u001b[0m\u001b[0;34m\u001b[0m\u001b[0m\n\u001b[1;32m    637\u001b[0m             \u001b[0;32mreturn\u001b[0m \u001b[0mparsed_response\u001b[0m\u001b[0;34m\u001b[0m\u001b[0;34m\u001b[0m\u001b[0m\n",
      "\u001b[0;31mClientError\u001b[0m: An error occurred (ValidationException) when calling the DeleteEndpoint operation: Cannot update in-progress endpoint \"arn:aws:sagemaker:ap-south-1:714138043953:endpoint/xgboost-2020-08-25-08-01-47-047\"."
     ]
    }
   ],
   "source": [
    "xgb_predictor.delete_endpoint()"
   ]
  },
  {
   "cell_type": "markdown",
   "metadata": {},
   "source": [
    "## Step 7: Putting our model to work\n",
    "\n",
    "As we've mentioned a few times now, our goal is to have our model deployed and then access it using a very simple web app. The intent is for this web app to take some user submitted data (a review), send it off to our endpoint (the model) and then display the result.\n",
    "\n",
    "However, there is a small catch. Currently the only way we can access the endpoint to send it data is using the SageMaker API. We can, if we wish, expose the actual URL that our model's endpoint is receiving data from, however, if we just send it data ourselves we will not get anything in return. This is because the endpoint created by SageMaker requires the entity accessing it have the correct permissions. So, we would need to somehow authenticate our web app with AWS.\n",
    "\n",
    "Having a website that authenticates to AWS seems a bit beyond the scope of this lesson so we will opt for an alternative approach. Namely, we will create a new endpoint which does not require authentication and which acts as a proxy for the SageMaker endpoint.\n",
    "\n",
    "As an additional constraint, we will try to avoid doing any data processing in the web app itself. Remember that when we constructed and tested our model we started with a movie review, then we simplified it by removing any html formatting and punctuation, then we constructed a bag of words embedding and the resulting vector is what we sent to our model. All of this needs to be done to our user input as well.\n",
    "\n",
    "Fortunately we can do all of this data processing in the backend, using Amazon's Lambda service.\n",
    "\n",
    "<img src=\"Web App Diagram.svg\">\n",
    "\n",
    "The diagram above gives an overview of how the various services will work together. On the far right is the model which we trained above and which will be deployed using SageMaker. On the far left is our web app that collects a user's movie review, sends it off and expects a positive or negative sentiment in return.\n",
    "\n",
    "In the middle is where some of the magic happens. We will construct a Lambda function, which you can think of as a straightforward Python function that can be executed whenever a specified event occurs. This Python function will do the data processing we need to perform on a user submitted review. In addition, we will give this function permission to send and recieve data from a SageMaker endpoint.\n",
    "\n",
    "Lastly, the method we will use to execute the Lambda function is a new endpoint that we will create using API Gateway. This endpoint will be a url that listens for data to be sent to it. Once it gets some data it will pass that data on to the Lambda function and then return whatever the Lambda function returns. Essentially it will act as an interface that lets our web app communicate with the Lambda function.\n",
    "\n",
    "### Processing a single review\n",
    "\n",
    "For now, suppose we are given a movie review by our user in the form of a string, like so:"
   ]
  },
  {
   "cell_type": "code",
   "execution_count": 23,
   "metadata": {},
   "outputs": [],
   "source": [
    "test_review = \"Nothing but a disgusting materialistic pageant of glistening abed remote control greed zombies, totally devoid of any heart or heat. A romantic comedy that has zero romantic chemestry and zero laughs!\""
   ]
  },
  {
   "cell_type": "markdown",
   "metadata": {},
   "source": [
    "How do we go from this string to the bag of words feature vector that is expected by our model?\n",
    "\n",
    "If we recall at the beginning of this notebook, the first step is to remove any unnecessary characters using the `review_to_words` method. Remember that we intentionally did this in a very simplistic way. This is because we are going to have to copy this method to our (eventual) Lambda function (we will go into more detail later) and this means it needs to be rather simplistic."
   ]
  },
  {
   "cell_type": "code",
   "execution_count": 24,
   "metadata": {},
   "outputs": [
    {
     "name": "stdout",
     "output_type": "stream",
     "text": [
      "nothing but a disgusting materialistic pageant of glistening abed remote control greed zombies totally devoid of any heart or heat a romantic comedy that has zero romantic chemestry and zero laughs\n"
     ]
    }
   ],
   "source": [
    "test_words = review_to_words(test_review)\n",
    "print(test_words)"
   ]
  },
  {
   "cell_type": "markdown",
   "metadata": {},
   "source": [
    "Next, we need to construct a bag of words embedding of the `test_words` string. To do this, remember that a bag of words embedding uses a `vocabulary` consisting of the most frequently appearing words in a set of documents. Then, for each word in the vocabulary we record the number of times that word appears in `test_words`. We constructed the `vocabulary` earlier using the training set for our problem so encoding `test_words` is relatively straightforward."
   ]
  },
  {
   "cell_type": "code",
   "execution_count": 25,
   "metadata": {},
   "outputs": [],
   "source": [
    "def bow_encoding(words, vocabulary):\n",
    "    bow = [0] * len(vocabulary) # Start by setting the count for each word in the vocabulary to zero.\n",
    "    for word in words.split():  # For each word in the string\n",
    "        if word in vocabulary:  # If the word is one that occurs in the vocabulary, increase its count.\n",
    "            bow[vocabulary[word]] += 1\n",
    "    return bow"
   ]
  },
  {
   "cell_type": "code",
   "execution_count": 26,
   "metadata": {},
   "outputs": [
    {
     "name": "stdout",
     "output_type": "stream",
     "text": [
      "[0, 0, 0, 0, 0, 0, 0, 0, 0, 0, 0, 0, 0, 0, 0, 0, 0, 0, 0, 0, 0, 0, 0, 0, 0, 0, 0, 0, 0, 0, 0, 0, 0, 0, 0, 0, 0, 0, 0, 0, 0, 0, 0, 0, 0, 0, 0, 0, 0, 0, 0, 0, 0, 0, 0, 0, 0, 0, 0, 0, 0, 0, 0, 0, 0, 0, 0, 0, 0, 0, 0, 0, 0, 0, 0, 0, 0, 0, 0, 0, 0, 0, 0, 0, 0, 0, 0, 0, 0, 0, 0, 0, 0, 0, 0, 0, 0, 0, 0, 0, 0, 0, 0, 0, 0, 0, 0, 0, 0, 0, 0, 0, 0, 0, 0, 0, 0, 0, 0, 0, 0, 0, 0, 0, 0, 0, 0, 0, 0, 0, 0, 0, 0, 0, 0, 0, 0, 0, 0, 0, 0, 0, 0, 0, 0, 0, 0, 0, 0, 0, 0, 0, 0, 0, 0, 0, 0, 0, 0, 0, 0, 0, 0, 0, 0, 0, 0, 0, 0, 0, 0, 0, 0, 0, 0, 0, 0, 0, 0, 0, 0, 0, 0, 0, 0, 0, 0, 0, 0, 0, 0, 0, 0, 0, 0, 0, 0, 0, 0, 0, 0, 0, 0, 0, 0, 0, 0, 0, 0, 0, 0, 0, 0, 0, 0, 0, 0, 0, 0, 0, 0, 0, 0, 0, 0, 0, 0, 1, 0, 0, 0, 0, 0, 0, 0, 0, 0, 0, 0, 0, 0, 0, 0, 0, 0, 0, 0, 0, 0, 0, 0, 0, 0, 0, 0, 0, 1, 0, 0, 0, 0, 0, 0, 0, 0, 0, 0, 0, 0, 0, 0, 0, 0, 0, 0, 0, 0, 0, 0, 0, 0, 0, 0, 0, 0, 0, 0, 0, 0, 0, 0, 0, 0, 0, 0, 0, 0, 0, 0, 0, 0, 0, 0, 0, 0, 0, 0, 0, 0, 0, 0, 0, 0, 0, 0, 0, 0, 0, 0, 0, 0, 0, 0, 0, 0, 0, 0, 0, 0, 0, 0, 0, 0, 0, 0, 0, 0, 0, 0, 0, 0, 0, 0, 0, 0, 0, 0, 0, 0, 0, 0, 0, 0, 0, 0, 0, 0, 0, 0, 0, 0, 0, 0, 0, 0, 0, 0, 0, 0, 0, 0, 0, 0, 0, 0, 0, 0, 0, 0, 0, 0, 0, 0, 0, 0, 0, 0, 0, 0, 0, 0, 0, 0, 0, 0, 0, 0, 0, 0, 0, 0, 0, 0, 0, 0, 0, 0, 0, 0, 0, 0, 0, 0, 0, 0, 0, 0, 0, 0, 0, 0, 0, 0, 0, 0, 0, 0, 0, 0, 0, 0, 0, 0, 0, 0, 0, 0, 0, 0, 0, 0, 0, 0, 0, 0, 0, 0, 0, 0, 0, 0, 0, 0, 0, 0, 0, 0, 0, 0, 0, 0, 0, 0, 0, 0, 0, 0, 0, 0, 0, 0, 0, 0, 0, 0, 0, 0, 0, 0, 0, 0, 0, 0, 0, 0, 0, 0, 0, 0, 0, 0, 0, 0, 0, 0, 0, 0, 0, 0, 0, 0, 0, 0, 0, 0, 0, 0, 0, 0, 0, 0, 0, 0, 0, 0, 0, 0, 0, 0, 0, 0, 0, 0, 0, 0, 0, 0, 0, 0, 0, 0, 0, 0, 0, 0, 0, 0, 0, 0, 0, 0, 0, 0, 0, 0, 0, 0, 0, 0, 0, 0, 0, 0, 0, 0, 0, 0, 0, 0, 0, 0, 0, 0, 0, 0, 0, 0, 0, 0, 0, 0, 0, 0, 0, 0, 0, 0, 0, 0, 0, 0, 0, 0, 0, 0, 0, 0, 0, 0, 0, 0, 0, 0, 0, 0, 0, 0, 0, 0, 0, 0, 0, 0, 0, 0, 0, 0, 0, 0, 0, 0, 0, 0, 0, 0, 0, 0, 0, 0, 0, 0, 0, 0, 0, 0, 0, 0, 0, 0, 0, 0, 0, 0, 0, 0, 0, 1, 0, 0, 0, 0, 0, 0, 0, 0, 0, 0, 0, 0, 0, 0, 0, 0, 0, 0, 0, 0, 0, 0, 0, 0, 0, 0, 0, 0, 0, 0, 0, 0, 0, 0, 0, 0, 0, 0, 0, 0, 0, 0, 0, 0, 0, 0, 0, 0, 0, 0, 0, 0, 0, 0, 0, 0, 0, 0, 0, 0, 0, 0, 0, 0, 0, 0, 0, 0, 0, 0, 0, 0, 0, 0, 0, 0, 0, 0, 0, 0, 0, 0, 0, 0, 0, 0, 0, 0, 0, 0, 0, 0, 0, 0, 0, 0, 0, 0, 0, 0, 0, 0, 0, 0, 0, 0, 0, 0, 0, 0, 0, 0, 0, 0, 0, 0, 0, 0, 0, 0, 0, 0, 0, 0, 0, 0, 0, 0, 0, 0, 0, 0, 0, 0, 0, 0, 0, 0, 0, 0, 0, 0, 0, 0, 0, 0, 0, 0, 0, 0, 0, 0, 0, 0, 0, 0, 0, 0, 0, 0, 0, 0, 0, 0, 0, 0, 0, 0, 0, 0, 0, 0, 0, 0, 0, 0, 0, 0, 0, 0, 0, 0, 0, 0, 0, 0, 0, 0, 0, 0, 0, 0, 0, 0, 0, 0, 0, 0, 0, 0, 0, 0, 0, 0, 0, 0, 0, 0, 0, 0, 0, 0, 0, 0, 0, 0, 0, 0, 0, 0, 0, 0, 0, 0, 0, 0, 0, 0, 0, 0, 0, 0, 0, 0, 0, 0, 0, 0, 0, 0, 0, 0, 0, 0, 0, 0, 0, 0, 0, 0, 0, 0, 0, 1, 0, 0, 0, 0, 0, 0, 0, 0, 0, 0, 0, 0, 0, 0, 0, 0, 0, 0, 0, 0, 0, 0, 0, 0, 0, 0, 0, 0, 0, 0, 0, 0, 0, 0, 0, 0, 0, 0, 0, 0, 0, 0, 0, 0, 0, 0, 0, 0, 0, 0, 0, 0, 0, 0, 0, 0, 0, 0, 0, 0, 0, 0, 0, 0, 0, 0, 0, 0, 0, 0, 0, 0, 0, 0, 0, 0, 0, 0, 0, 0, 0, 0, 0, 0, 0, 0, 0, 1, 0, 0, 0, 0, 0, 0, 0, 0, 0, 0, 0, 0, 0, 0, 0, 0, 0, 0, 0, 0, 0, 0, 0, 0, 0, 0, 0, 0, 0, 0, 0, 0, 0, 0, 0, 0, 0, 0, 0, 0, 0, 0, 0, 0, 0, 0, 0, 0, 0, 0, 0, 0, 0, 0, 0, 0, 0, 0, 0, 0, 0, 0, 0, 0, 0, 0, 0, 0, 0, 0, 0, 0, 0, 0, 0, 0, 0, 0, 0, 0, 0, 0, 0, 0, 0, 0, 0, 0, 0, 0, 0, 0, 0, 0, 0, 0, 0, 0, 0, 0, 0, 0, 0, 0, 0, 0, 0, 0, 0, 0, 0, 0, 0, 0, 0, 0, 0, 0, 0, 0, 0, 0, 0, 0, 0, 0, 0, 0, 0, 0, 0, 0, 0, 0, 0, 0, 0, 0, 0, 0, 0, 0, 0, 0, 0, 0, 0, 0, 0, 0, 0, 0, 0, 0, 0, 0, 0, 0, 0, 0, 0, 0, 0, 0, 0, 0, 0, 0, 0, 0, 0, 0, 0, 0, 0, 0, 0, 0, 0, 0, 0, 0, 0, 0, 0, 0, 0, 0, 0, 0, 0, 0, 0, 0, 0, 0, 0, 0, 0, 0, 0, 0, 0, 0, 0, 0, 0, 0, 0, 0, 0, 0, 0, 0, 0, 0, 0, 0, 0, 0, 0, 0, 0, 0, 0, 0, 0, 0, 0, 0, 0, 0, 0, 0, 0, 0, 0, 0, 0, 0, 0, 0, 0, 0, 0, 0, 0, 0, 0, 0, 1, 0, 0, 0, 0, 0, 0, 0, 0, 0, 0, 0, 0, 0, 0, 0, 0, 0, 0, 0, 0, 0, 0, 0, 0, 0, 0, 0, 0, 0, 0, 0, 0, 0, 0, 0, 0, 0, 0, 0, 0, 0, 0, 0, 0, 0, 0, 0, 0, 0, 0, 0, 0, 0, 0, 0, 1, 0, 0, 0, 0, 0, 0, 0, 0, 0, 0, 0, 0, 0, 0, 0, 0, 0, 0, 0, 0, 0, 0, 0, 0, 0, 0, 0, 0, 0, 0, 0, 0, 0, 0, 0, 0, 0, 0, 0, 0, 0, 0, 0, 0, 0, 0, 0, 0, 0, 0, 0, 0, 0, 0, 0, 0, 0, 0, 0, 0, 0, 0, 0, 0, 0, 0, 0, 0, 0, 0, 0, 0, 0, 0, 0, 0, 0, 0, 0, 0, 0, 0, 0, 0, 0, 0, 0, 0, 0, 0, 0, 0, 0, 0, 0, 0, 0, 0, 0, 0, 0, 0, 0, 0, 0, 0, 0, 0, 0, 0, 0, 0, 0, 0, 0, 0, 0, 0, 0, 0, 0, 0, 0, 0, 0, 0, 0, 0, 0, 0, 0, 0, 0, 0, 0, 0, 0, 0, 0, 0, 0, 0, 0, 0, 0, 0, 0, 0, 0, 0, 0, 0, 0, 0, 0, 0, 0, 0, 0, 0, 0, 0, 0, 0, 0, 0, 0, 0, 0, 0, 0, 0, 0, 0, 0, 0, 0, 0, 0, 0, 0, 0, 0, 0, 0, 0, 0, 0, 0, 0, 0, 0, 0, 0, 0, 0, 0, 0, 0, 0, 0, 0, 0, 0, 0, 0, 0, 0, 0, 0, 0, 0, 0, 0, 0, 0, 0, 0, 0, 0, 0, 0, 0, 0, 0, 0, 0, 0, 0, 0, 0, 0, 0, 0, 0, 0, 0, 0, 0, 0, 0, 0, 0, 0, 0, 0, 0, 0, 0, 0, 0, 0, 0, 0, 0, 0, 0, 0, 0, 0, 0, 0, 0, 0, 0, 0, 0, 0, 0, 0, 0, 0, 0, 0, 0, 0, 0, 0, 0, 0, 0, 0, 0, 0, 0, 0, 0, 0, 0, 0, 0, 0, 0, 0, 0, 0, 0, 0, 0, 0, 0, 0, 0, 0, 0, 0, 0, 0, 0, 0, 0, 0, 0, 0, 0, 0, 0, 0, 0, 0, 0, 0, 0, 0, 0, 0, 0, 0, 0, 0, 0, 0, 0, 0, 0, 0, 0, 0, 0, 0, 0, 0, 0, 0, 0, 0, 0, 0, 0, 0, 0, 0, 0, 0, 0, 0, 0, 0, 0, 0, 0, 0, 0, 0, 0, 0, 0, 0, 0, 0, 0, 0, 0, 0, 0, 0, 0, 0, 0, 0, 0, 0, 0, 0, 0, 0, 0, 0, 0, 0, 0, 0, 0, 0, 0, 0, 0, 0, 0, 0, 0, 0, 0, 0, 0, 0, 0, 0, 0, 0, 0, 0, 0, 0, 0, 0, 0, 0, 0, 0, 0, 0, 0, 0, 0, 0, 0, 0, 0, 0, 0, 0, 0, 0, 0, 0, 0, 0, 0, 0, 0, 0, 0, 0, 0, 0, 0, 0, 0, 0, 0, 0, 0, 0, 0, 0, 0, 0, 0, 0, 0, 0, 0, 0, 0, 0, 0, 0, 0, 0, 0, 0, 0, 0, 0, 0, 0, 0, 0, 0, 0, 0, 0, 0, 0, 0, 0, 0, 0, 0, 0, 0, 0, 0, 0, 0, 0, 0, 0, 0, 0, 0, 0, 0, 0, 0, 0, 0, 0, 0, 0, 0, 0, 0, 0, 0, 0, 0, 0, 0, 0, 0, 0, 0, 0, 0, 0, 0, 0, 0, 0, 0, 0, 0, 0, 0, 0, 0, 0, 0, 0, 0, 0, 0, 0, 0, 0, 0, 0, 0, 0, 0, 0, 0, 0, 0, 0, 0, 0, 0, 0, 0, 0, 0, 0, 0, 0, 0, 0, 0, 0, 0, 0, 0, 0, 0, 0, 0, 0, 0, 0, 0, 0, 0, 0, 0, 0, 0, 0, 0, 0, 0, 0, 0, 0, 0, 0, 0, 0, 0, 0, 0, 0, 0, 0, 0, 0, 0, 0, 0, 0, 0, 0, 0, 0, 0, 0, 0, 0, 0, 0, 0, 0, 0, 0, 0, 0, 0, 0, 0, 0, 0, 0, 0, 0, 0, 0, 0, 0, 0, 0, 0, 0, 0, 0, 0, 0, 0, 0, 0, 0, 0, 0, 0, 0, 0, 0, 0, 0, 0, 0, 0, 0, 0, 0, 0, 0, 0, 0, 0, 0, 0, 0, 0, 0, 0, 0, 0, 0, 0, 0, 1, 0, 0, 0, 0, 0, 0, 0, 0, 0, 0, 0, 0, 0, 0, 0, 0, 0, 0, 0, 0, 0, 0, 0, 0, 0, 0, 0, 0, 0, 0, 0, 0, 0, 0, 0, 0, 0, 0, 0, 0, 0, 0, 0, 0, 0, 0, 0, 0, 0, 0, 0, 0, 0, 0, 0, 0, 0, 0, 0, 0, 0, 0, 0, 0, 0, 0, 0, 0, 0, 0, 0, 0, 0, 0, 1, 0, 0, 0, 0, 0, 0, 0, 0, 0, 0, 0, 0, 0, 0, 0, 0, 0, 0, 0, 0, 1, 0, 0, 1, 0, 0, 0, 0, 0, 0, 0, 0, 0, 0, 0, 0, 0, 0, 0, 0, 0, 0, 0, 0, 0, 0, 0, 0, 0, 0, 0, 0, 0, 0, 0, 0, 0, 0, 0, 0, 0, 0, 0, 0, 0, 0, 0, 0, 0, 0, 0, 0, 0, 0, 0, 0, 0, 0, 0, 0, 0, 0, 0, 0, 0, 0, 0, 0, 0, 0, 0, 0, 0, 0, 0, 0, 0, 0, 0, 0, 0, 0, 0, 0, 0, 0, 0, 0, 0, 0, 0, 0, 0, 0, 0, 0, 0, 0, 0, 0, 0, 0, 0, 0, 0, 0, 0, 0, 0, 0, 0, 0, 0, 0, 0, 0, 0, 0, 0, 0, 0, 0, 0, 0, 0, 0, 0, 0, 0, 0, 0, 0, 0, 0, 0, 0, 0, 0, 0, 0, 0, 0, 0, 0, 0, 0, 0, 0, 0, 0, 0, 0, 0, 0, 0, 0, 0, 0, 0, 0, 0, 0, 0, 0, 0, 0, 0, 0, 0, 0, 0, 0, 0, 0, 0, 0, 0, 0, 0, 0, 0, 0, 0, 0, 0, 0, 0, 0, 0, 0, 0, 0, 0, 0, 0, 0, 0, 0, 0, 0, 0, 0, 0, 0, 0, 0, 0, 0, 0, 0, 0, 0, 0, 0, 0, 0, 0, 0, 0, 0, 0, 0, 0, 0, 0, 0, 0, 0, 0, 0, 0, 0, 0, 0, 0, 0, 0, 0, 0, 0, 0, 0, 0, 0, 0, 0, 0, 0, 0, 0, 0, 0, 0, 0, 0, 0, 0, 0, 0, 0, 0, 0, 0, 0, 0, 0, 0, 0, 0, 0, 0, 0, 0, 0, 0, 0, 0, 0, 0, 0, 0, 0, 0, 0, 0, 0, 0, 0, 0, 0, 0, 0, 0, 0, 0, 0, 0, 0, 0, 0, 0, 0, 0, 0, 0, 0, 0, 0, 0, 0, 0, 0, 0, 0, 0, 0, 0, 0, 0, 0, 0, 0, 0, 0, 0, 0, 0, 0, 0, 0, 0, 0, 0, 0, 0, 0, 0, 0, 0, 0, 0, 0, 0, 0, 0, 0, 0, 0, 0, 0, 0, 0, 0, 0, 0, 0, 0, 0, 0, 0, 0, 0, 0, 0, 0, 0, 0, 0, 0, 0, 0, 0, 0, 0, 0, 0, 0, 0, 0, 0, 0, 0, 0, 0, 0, 0, 0, 0, 0, 0, 0, 0, 0, 0, 0, 0, 0, 0, 0, 0, 0, 0, 0, 0, 0, 0, 0, 0, 0, 0, 0, 0, 0, 0, 0, 0, 0, 0, 0, 0, 0, 0, 0, 0, 0, 0, 0, 0, 0, 0, 0, 0, 0, 0, 0, 0, 0, 0, 0, 0, 0, 0, 0, 0, 0, 0, 0, 0, 0, 0, 0, 0, 0, 0, 0, 0, 0, 0, 0, 0, 0, 0, 0, 0, 0, 0, 0, 0, 0, 0, 1, 0, 0, 0, 0, 0, 0, 0, 0, 0, 0, 0, 0, 0, 0, 0, 0, 0, 0, 0, 0, 0, 0, 0, 0, 0, 0, 0, 0, 0, 0, 0, 0, 0, 0, 0, 0, 0, 0, 0, 0, 0, 0, 0, 0, 0, 0, 0, 0, 0, 0, 0, 0, 0, 0, 0, 0, 0, 0, 0, 0, 0, 0, 0, 0, 0, 0, 0, 0, 0, 0, 0, 0, 0, 0, 0, 0, 0, 0, 0, 0, 0, 0, 0, 0, 0, 0, 0, 0, 0, 0, 0, 0, 0, 0, 0, 0, 0, 0, 0, 0, 0, 0, 0, 0, 0, 0, 0, 0, 0, 0, 0, 0, 0, 0, 0, 0, 0, 0, 0, 0, 0, 0, 0, 0, 0, 0, 0, 0, 0, 0, 0, 0, 0, 0, 0, 0, 0, 0, 0, 0, 0, 0, 0, 0, 0, 0, 0, 0, 0, 0, 0, 0, 0, 0, 0, 0, 0, 0, 0, 0, 0, 0, 0, 0, 0, 0, 0, 0, 0, 0, 0, 0, 0, 0, 0, 0, 0, 0, 0, 0, 0, 0, 0, 0, 0, 0, 0, 0, 0, 0, 0, 0, 0, 0, 0, 0, 0, 0, 0, 0, 0, 0, 0, 0, 0, 0, 0, 0, 0, 0, 0, 0, 0, 0, 0, 0, 0, 0, 0, 0, 0, 0, 0, 0, 0, 0, 0, 0, 0, 0, 0, 0, 0, 0, 0, 0, 0, 0, 0, 0, 0, 0, 0, 0, 0, 0, 0, 0, 0, 0, 0, 0, 0, 0, 0, 0, 0, 0, 0, 0, 0, 0, 0, 0, 0, 0, 0, 0, 0, 0, 0, 0, 0, 0, 0, 0, 0, 0, 0, 0, 0, 0, 0, 0, 0, 0, 0, 0, 0, 0, 0, 0, 0, 0, 0, 0, 0, 0, 0, 0, 0, 0, 0, 0, 0, 0, 0, 0, 0, 0, 0, 0, 0, 0, 0, 0, 0, 0, 0, 0, 0, 0, 0, 0, 0, 0, 0, 0, 0, 0, 0, 0, 0, 0, 0, 0, 0, 0, 0, 0, 0, 0, 0, 0, 0, 0, 0, 0, 0, 0, 0, 0, 0, 0, 0, 0, 0, 0, 0, 0, 0, 0, 0, 0, 0, 0, 0, 0, 0, 0, 0, 0, 0, 0, 0, 0, 0, 0, 0, 0, 0, 0, 0, 0, 0, 0, 0, 0, 0, 0, 0, 0, 0, 0, 0, 0, 0, 0, 0, 0, 0, 0, 0, 0, 0, 0, 0, 0, 0, 0, 0, 0, 0, 0, 0, 0, 0, 0, 0, 0, 0, 0, 0, 0, 0, 0, 0, 0, 0, 0, 0, 0, 0, 0, 0, 0, 0, 0, 0, 0, 0, 0, 0, 0, 0, 0, 0, 0, 0, 0, 0, 0, 0, 0, 0, 0, 0, 0, 0, 0, 0, 0, 0, 0, 0, 0, 0, 0, 0, 0, 0, 0, 0, 0, 0, 0, 0, 0, 0, 0, 0, 0, 0, 0, 0, 0, 0, 0, 0, 0, 0, 0, 0, 0, 0, 0, 0, 0, 0, 0, 0, 0, 0, 0, 0, 0, 0, 0, 0, 0, 0, 1, 0, 0, 0, 0, 0, 0, 0, 0, 0, 0, 0, 0, 0, 0, 0, 0, 0, 0, 0, 0, 0, 0, 0, 0, 0, 0, 0, 0, 0, 0, 0, 0, 0, 0, 0, 2, 0, 0, 0, 0, 0, 0, 0, 0, 0, 0, 0, 0, 0, 0, 0, 0, 0, 0, 0, 0, 0, 0, 0, 0, 0, 0, 0, 0, 0, 0, 0, 0, 0, 0, 0, 0, 0, 0, 0, 0, 1, 0, 0, 0, 0, 0, 0, 0, 0, 0, 0, 0, 0, 0, 0, 0, 0, 0, 0, 0, 0, 0, 0, 0, 0, 0, 0, 0, 0, 0, 0, 0, 0, 0, 0, 0, 0, 0, 0, 0, 0, 0, 0, 0, 0, 0, 0, 0, 0, 0, 0, 0, 0, 0, 0, 0, 0, 0, 0, 0, 0, 0, 0, 0, 0, 0, 0, 0, 0, 0, 0, 0, 0, 0, 0, 0, 0, 0, 0, 0, 0, 0, 0, 0, 0, 0, 0, 0, 0, 0, 0, 0, 0, 0, 0, 0, 0, 0, 0, 0, 0, 0, 0, 0, 0, 0, 0, 0, 0, 0, 0, 0, 0, 0, 0, 0, 0, 0, 0, 0, 0, 0, 0, 0, 0, 0, 0, 0, 0, 0, 0, 0, 0, 0, 0, 0, 0, 0, 0, 0, 0, 0, 0, 0, 0, 0, 0, 0, 0, 0, 0, 0, 0, 0, 0, 0, 0, 0, 0, 0, 0, 0, 0, 0, 0, 0, 0, 0, 0, 0, 0, 0, 0, 0, 0, 0, 0, 0, 0, 0, 0, 0, 0, 0, 0, 0, 0, 0, 0, 0, 0, 0, 0, 0, 0, 0, 0, 0, 0, 0, 0, 0, 0, 0, 0, 0, 0, 0, 0, 0, 0, 0, 0, 0, 0, 0, 0, 0, 0, 0, 0, 0, 0, 0, 0, 0, 0, 0, 0, 0, 0, 0, 0, 0, 0, 0, 0, 0, 0, 0, 0, 0, 0, 0, 0, 0, 0, 0, 0, 0, 0, 0, 0, 0, 0, 0, 0, 0, 0, 0, 0, 0, 0, 0, 0, 0, 0, 0, 0, 0, 0, 0, 0, 0, 0, 0, 0, 0, 0, 0, 0, 0, 0, 0, 0, 0, 0, 0, 0, 0, 0, 0, 0, 0, 0, 0, 0, 0, 0, 0, 0, 0, 0, 0, 0, 0, 0, 0, 0, 0, 0, 0, 0, 0, 0, 0, 0, 0, 0, 0, 0, 0, 0, 0, 0, 0, 0, 0, 0, 0, 0, 0, 0, 0, 0, 0, 0, 0, 0, 0, 0, 0, 0, 0, 0, 0, 0, 0, 0, 0, 0, 0, 0, 0, 0, 0, 0, 0, 0, 0, 0, 0, 0, 0, 0, 0, 0, 0, 0, 0, 0, 0, 0, 0, 0, 0, 0, 0, 0, 0, 0, 0, 0, 0, 0, 0, 0, 0, 0, 0, 0, 0, 0, 0, 0, 0, 0, 0, 0, 0, 0, 0, 0, 0, 0, 0, 0, 0, 0, 0, 0, 0, 0, 0, 0, 0, 0, 0, 0, 0, 0, 0, 0, 0, 0, 0, 0, 0, 0, 0, 0, 0, 0, 0, 0, 0, 0, 0, 0, 0, 0, 0, 0, 0, 0, 0, 0, 0, 0, 0, 0, 0, 0, 0, 0, 0, 0, 0, 0, 0, 0, 0, 0, 0, 0, 0, 0, 0, 0, 0, 0, 0, 0, 0, 0, 0, 0, 0, 0, 0, 0, 0, 0, 0, 0, 0, 0, 0, 0, 0, 0, 0, 0, 0, 0, 0, 0, 0, 1, 0, 0, 0, 0, 0, 0, 0, 0, 0, 0, 0, 0, 0, 0, 0, 0, 0, 0, 0, 0, 0, 0, 0, 0, 0, 0, 0, 0, 0, 0, 0, 0, 0, 0, 0, 0, 0, 0, 0, 0, 0, 0, 0, 0, 0, 0, 0, 0, 0, 0, 0, 0, 0, 0, 0, 0, 0, 0, 0, 0, 0, 0, 0, 0, 0, 0, 0, 0, 0, 0, 0, 0, 0, 0, 0, 0, 0, 0, 0, 0, 0, 0, 0, 0, 0, 0, 0, 0, 0, 0, 0, 0, 0, 0, 0, 0, 0, 0, 0, 0, 0, 0, 0, 0, 0, 0, 0, 0, 0, 0, 2, 0, 0, 0, 0, 0, 0, 0, 0, 0, 0, 0, 0, 0, 0, 0, 0, 0, 0, 0, 0, 0, 0, 0, 0, 0, 0, 0, 0, 0, 0, 0, 0, 0, 0, 0, 0, 0, 0, 0, 0, 0, 0, 0, 0, 0, 0, 0, 0, 0, 0, 0, 0, 0, 0, 0, 0, 0, 0, 0, 0, 0, 0, 0, 0, 0, 0, 0, 0, 0, 0, 0, 0, 0, 0, 0, 0, 0, 0, 0, 0, 0, 0, 0, 0, 0, 0, 0, 0, 0, 0, 0, 0, 0, 0, 0, 0, 0, 0, 0, 0, 0, 0, 0, 0, 0, 0, 0, 0, 0, 0, 0, 0, 0, 0, 0, 0, 0, 0, 0, 0, 0, 0, 0, 0, 0, 0, 0, 0, 0, 0, 0, 0, 0, 0, 0, 0, 0, 0, 0, 0, 0, 0, 0, 0, 0, 0, 0, 0, 0, 0, 0, 0, 0, 0, 0, 0, 0, 0, 0, 0, 0, 0, 0, 0, 0, 0, 0, 0, 0, 0, 0, 0, 0, 0, 0, 0, 0, 0, 0, 0, 0, 0, 0, 0, 0, 0, 0, 0, 0, 0, 0, 0, 0, 0, 0, 0, 0, 0, 0, 0, 0, 0, 0, 0, 0, 0, 0, 0, 0, 0, 0, 0, 0, 0, 0, 0, 0, 0, 0, 0, 0, 0, 0, 0, 0, 0, 0, 0, 0, 0, 0, 0, 0, 0, 0, 0, 0, 0, 0, 0, 0, 0, 0, 0, 0, 0, 0, 0, 0, 0, 0, 0, 0, 0, 0, 0, 0, 0, 0, 0, 0, 0, 0, 0, 0, 0, 0, 0, 0, 0, 0, 0, 0, 0, 0, 0, 0, 0, 0, 0, 0, 0, 0, 0, 0, 0, 0, 0, 0, 0, 0, 0, 0, 0, 0, 0, 0, 0, 0, 0, 0, 0, 0, 0, 0, 0, 0, 0, 0, 0, 0, 0, 0, 0, 0, 0, 0, 0, 0, 0, 0, 0, 0, 0, 0, 0, 0, 0, 0, 0, 0, 0, 0, 0, 0, 0, 0, 0, 0, 0, 0, 0, 0, 0, 0, 0, 0, 0, 0, 0, 0, 0, 0, 0, 0, 0, 0, 0, 0, 0, 0, 0, 0, 0, 0, 0, 0, 0, 0, 0, 0, 0, 0, 0, 0, 0, 0, 0, 0, 0, 0, 0, 0, 0, 0, 0, 0, 0, 0, 0, 0, 0, 0, 0, 0, 0, 0, 0, 0, 0, 0, 0, 0, 0, 0, 0, 0, 0, 0, 0, 0, 0, 0, 0, 0, 0, 0, 0, 0, 0, 0, 0, 0, 0, 0, 0, 0, 0, 0, 0, 0, 0, 0, 0, 0, 0, 0, 0, 0, 0, 0, 0, 0, 0, 0, 0, 0, 0, 0, 0, 0, 0, 0, 0, 0, 0, 0, 0, 0, 0, 0, 0, 0, 0, 0, 0, 0, 0, 0, 0, 0, 0, 0, 0, 0, 0, 0, 0, 0, 0, 0, 0, 0, 0, 0, 0, 0, 0, 0, 0, 0, 0, 0, 0, 0, 0, 0, 0, 0, 0, 0, 0, 0, 0, 0, 0, 0, 0, 0, 0, 0, 0, 0, 0, 0, 0, 0, 0, 0, 0, 0, 0, 0, 0, 0, 0, 0, 0, 0, 0, 0, 0, 0, 0, 0, 0, 0, 0, 0, 0, 0, 0, 0, 0, 0, 0, 0, 0, 0, 0, 0, 0, 0, 0, 0, 0, 0, 0, 0, 0, 0, 0, 0, 0, 0, 0, 0, 0, 0, 0, 0, 0, 0, 0, 0, 0, 0, 0, 0, 0, 0, 0, 0, 0, 0, 0, 0, 0, 0, 0, 0, 0, 0, 0, 0, 0, 0, 0, 0, 0, 0, 0, 0, 0, 0, 0, 0, 0, 0, 0, 0, 0, 0, 0, 0, 0, 0, 0, 0, 0, 0, 0, 0, 0, 0, 0, 0, 0, 0, 0, 0, 0, 0, 0, 0, 0, 0, 0, 0, 0, 0, 0, 0, 0, 0, 0, 0, 0, 0, 0, 0, 0, 0, 0, 0, 0, 0, 0, 0, 0, 0, 0, 0, 0, 0, 0, 0, 0, 0, 0, 0, 0, 0, 0, 0, 0, 0, 0, 0, 0, 0, 0, 0, 0, 0, 0, 0, 0, 0, 0, 0, 1, 0, 0, 0, 0, 0, 0, 0, 0, 0, 0, 0, 0, 0, 0, 0, 0, 0, 0, 0, 0, 0, 0, 0, 0, 0, 0, 0, 0, 0, 0, 0, 0, 0, 0, 0, 0, 0, 0, 0, 0, 0, 0, 0, 0, 0, 0, 0, 0, 0, 0, 0, 0, 0, 0, 0, 0, 0, 0, 0, 0, 0, 0, 0, 0, 0, 0, 0, 0, 0, 0, 0, 0, 0, 0, 0, 0, 0, 0, 0, 0, 0, 0, 0, 0, 0, 0, 0, 0, 0, 0, 0, 0, 0, 0, 0, 0, 0, 0, 0, 0, 0, 0, 0, 0, 0, 0, 0, 1, 0, 0, 0, 0, 0, 0, 0, 0, 0, 0, 0, 0, 0, 0, 0, 0, 0, 0, 0, 0, 0, 0, 0, 0, 0, 0, 0, 0, 0, 0, 0, 0, 0, 0, 0, 0, 0, 0, 0, 0, 0, 0, 0, 0, 0, 0, 0, 0, 0, 0, 0, 0, 0, 0, 0, 0, 0, 0, 0, 0, 0, 0, 0, 0, 0, 0, 0, 0, 0, 0, 0, 0, 0, 0, 0, 0, 0, 0, 0, 0, 0, 0, 0, 0, 0, 0, 0, 0, 0, 0, 0, 0, 0, 0, 0, 0, 0, 0, 0, 0, 0, 0, 0, 0, 0, 0, 0, 0, 0, 0, 0, 0, 0, 0, 0, 0, 0, 0, 0, 0, 0, 0, 0, 0, 0, 0, 0, 0, 0, 0, 0, 0, 0, 0, 0, 0, 0, 0, 0, 0, 0, 0, 0, 0, 0, 0, 0, 0, 0, 0, 0, 0, 0, 0, 0, 0, 0, 0, 0, 0, 0, 0, 0, 0, 0, 0, 0, 0, 0, 0, 0, 0, 0, 0, 0, 0, 0, 0, 0, 0, 0, 0, 0, 0, 0, 0, 0, 0, 0, 0, 0, 0, 0, 0, 0, 0, 0, 0, 0, 0, 0, 0, 0, 0, 0, 0, 0, 0, 0, 0, 0, 0, 0, 0, 0, 0, 0, 0, 0, 0, 0, 0, 0, 0, 0, 0, 0, 0, 0, 0, 0, 0, 0, 0, 0, 0, 0, 0, 0, 0, 0, 0, 0, 0, 0, 0, 0, 0, 0, 0, 0, 0, 0, 0, 0, 0, 0, 0, 0, 0, 0, 0, 0, 0, 0, 0, 0, 0, 0, 0, 0, 0, 0, 0, 0, 0, 0, 0, 0, 0, 0, 0, 0, 0, 0, 0, 0, 0, 0, 0, 0, 0, 0, 0, 0, 0, 0, 0, 0, 0, 0, 0, 0, 0, 0, 0, 0, 0, 0, 0, 0, 0, 0, 0, 0, 0, 0, 0, 0, 0, 0, 0, 0, 0, 0, 0, 0, 0, 0, 0, 0, 0, 0, 0, 0, 0, 0, 0, 0, 0, 0, 0, 0, 0, 0, 0, 0, 0, 0, 0, 0, 0, 0, 0, 0, 0, 0, 0, 0, 0, 0, 0, 0, 0, 0, 0, 0, 0, 0, 0, 0, 0, 0, 0, 0, 0, 0, 0, 0, 0, 0, 0, 0, 0, 0, 0, 0, 0, 0, 0, 0, 0, 0, 0, 0, 0, 0, 0, 0, 0, 0, 0, 0, 0, 0, 0, 0, 0, 0, 0, 0, 0, 0, 0, 0, 0, 0, 0, 0, 0, 0, 0, 0, 0, 0, 0, 0, 0, 0, 0, 0, 0, 0, 0, 0, 0, 0, 0, 0, 0, 0, 0, 0, 0, 0, 0, 0, 0, 0, 0, 0, 0, 0, 0, 0, 0, 0, 0, 0, 0, 0, 0, 0, 0, 2, 0, 1, 0]\n"
     ]
    }
   ],
   "source": [
    "test_bow = bow_encoding(test_words, vocabulary)\n",
    "print(test_bow)"
   ]
  },
  {
   "cell_type": "code",
   "execution_count": 42,
   "metadata": {},
   "outputs": [
    {
     "data": {
      "text/plain": [
       "5000"
      ]
     },
     "execution_count": 42,
     "metadata": {},
     "output_type": "execute_result"
    }
   ],
   "source": [
    "len(test_bow)"
   ]
  },
  {
   "cell_type": "markdown",
   "metadata": {},
   "source": [
    "So now we know how to construct a bag of words encoding of a user provided review, how to we send it to our endpoint? First, we need to start the endpoint back up."
   ]
  },
  {
   "cell_type": "code",
   "execution_count": 39,
   "metadata": {},
   "outputs": [
    {
     "name": "stderr",
     "output_type": "stream",
     "text": [
      "Parameter image will be renamed to image_uri in SageMaker Python SDK v2.\n",
      "Using already existing model: xgboost-2020-08-25-08-34-11-816\n"
     ]
    },
    {
     "name": "stdout",
     "output_type": "stream",
     "text": [
      "-------------!"
     ]
    }
   ],
   "source": [
    "xgb_predictor = xgb.deploy(initial_instance_count = 1, instance_type = 'ml.m4.xlarge')"
   ]
  },
  {
   "cell_type": "markdown",
   "metadata": {},
   "source": [
    "At this point we could just do the same thing that we did earlier when we tested our deployed model and send `test_bow` to our endpoint using the `xgb_predictor` object. However, when we eventually construct our Lambda function we won't have access to this object, so how do we call a SageMaker endpoint?\n",
    "\n",
    "It turns out that Python functions that are used in Lambda have access to another Amazon library called `boto3`. This library provides an API for working with Amazon services, including SageMaker. To start with, we need to get a handle to the SageMaker runtime."
   ]
  },
  {
   "cell_type": "code",
   "execution_count": 40,
   "metadata": {},
   "outputs": [],
   "source": [
    "import boto3\n",
    "\n",
    "runtime = boto3.Session().client('sagemaker-runtime')"
   ]
  },
  {
   "cell_type": "markdown",
   "metadata": {},
   "source": [
    "And now that we have access to the SageMaker runtime, we can ask it to make use of (invoke) an endpoint that has already been created. However, we need to provide SageMaker with the name of the deployed endpoint. To find this out we can print it out using the `xgb_predictor` object."
   ]
  },
  {
   "cell_type": "code",
   "execution_count": 41,
   "metadata": {},
   "outputs": [
    {
     "data": {
      "text/plain": [
       "'xgboost-2020-08-25-08-34-11-816'"
      ]
     },
     "execution_count": 41,
     "metadata": {},
     "output_type": "execute_result"
    }
   ],
   "source": [
    "xgb_predictor.endpoint"
   ]
  },
  {
   "cell_type": "markdown",
   "metadata": {},
   "source": [
    "Using the SageMaker runtime and the name of our endpoint, we can invoke the endpoint and send it the `test_bow` data."
   ]
  },
  {
   "cell_type": "code",
   "execution_count": 30,
   "metadata": {
    "collapsed": true,
    "jupyter": {
     "outputs_hidden": true
    }
   },
   "outputs": [
    {
     "ename": "ParamValidationError",
     "evalue": "Parameter validation failed:\nInvalid type for parameter Body, value: [0, 0, 0, 0, 0, 0, 0, 0, 0, 0, 0, 0, 0, 0, 0, 0, 0, 0, 0, 0, 0, 0, 0, 0, 0, 0, 0, 0, 0, 0, 0, 0, 0, 0, 0, 0, 0, 0, 0, 0, 0, 0, 0, 0, 0, 0, 0, 0, 0, 0, 0, 0, 0, 0, 0, 0, 0, 0, 0, 0, 0, 0, 0, 0, 0, 0, 0, 0, 0, 0, 0, 0, 0, 0, 0, 0, 0, 0, 0, 0, 0, 0, 0, 0, 0, 0, 0, 0, 0, 0, 0, 0, 0, 0, 0, 0, 0, 0, 0, 0, 0, 0, 0, 0, 0, 0, 0, 0, 0, 0, 0, 0, 0, 0, 0, 0, 0, 0, 0, 0, 0, 0, 0, 0, 0, 0, 0, 0, 0, 0, 0, 0, 0, 0, 0, 0, 0, 0, 0, 0, 0, 0, 0, 0, 0, 0, 0, 0, 0, 0, 0, 0, 0, 0, 0, 0, 0, 0, 0, 0, 0, 0, 0, 0, 0, 0, 0, 0, 0, 0, 0, 0, 0, 0, 0, 0, 0, 0, 0, 0, 0, 0, 0, 0, 0, 0, 0, 0, 0, 0, 0, 0, 0, 0, 0, 0, 0, 0, 0, 0, 0, 0, 0, 0, 0, 0, 0, 0, 0, 0, 0, 0, 0, 0, 0, 0, 0, 0, 0, 0, 0, 0, 0, 0, 0, 0, 0, 1, 0, 0, 0, 0, 0, 0, 0, 0, 0, 0, 0, 0, 0, 0, 0, 0, 0, 0, 0, 0, 0, 0, 0, 0, 0, 0, 0, 0, 1, 0, 0, 0, 0, 0, 0, 0, 0, 0, 0, 0, 0, 0, 0, 0, 0, 0, 0, 0, 0, 0, 0, 0, 0, 0, 0, 0, 0, 0, 0, 0, 0, 0, 0, 0, 0, 0, 0, 0, 0, 0, 0, 0, 0, 0, 0, 0, 0, 0, 0, 0, 0, 0, 0, 0, 0, 0, 0, 0, 0, 0, 0, 0, 0, 0, 0, 0, 0, 0, 0, 0, 0, 0, 0, 0, 0, 0, 0, 0, 0, 0, 0, 0, 0, 0, 0, 0, 0, 0, 0, 0, 0, 0, 0, 0, 0, 0, 0, 0, 0, 0, 0, 0, 0, 0, 0, 0, 0, 0, 0, 0, 0, 0, 0, 0, 0, 0, 0, 0, 0, 0, 0, 0, 0, 0, 0, 0, 0, 0, 0, 0, 0, 0, 0, 0, 0, 0, 0, 0, 0, 0, 0, 0, 0, 0, 0, 0, 0, 0, 0, 0, 0, 0, 0, 0, 0, 0, 0, 0, 0, 0, 0, 0, 0, 0, 0, 0, 0, 0, 0, 0, 0, 0, 0, 0, 0, 0, 0, 0, 0, 0, 0, 0, 0, 0, 0, 0, 0, 0, 0, 0, 0, 0, 0, 0, 0, 0, 0, 0, 0, 0, 0, 0, 0, 0, 0, 0, 0, 0, 0, 0, 0, 0, 0, 0, 0, 0, 0, 0, 0, 0, 0, 0, 0, 0, 0, 0, 0, 0, 0, 0, 0, 0, 0, 0, 0, 0, 0, 0, 0, 0, 0, 0, 0, 0, 0, 0, 0, 0, 0, 0, 0, 0, 0, 0, 0, 0, 0, 0, 0, 0, 0, 0, 0, 0, 0, 0, 0, 0, 0, 0, 0, 0, 0, 0, 0, 0, 0, 0, 0, 0, 0, 0, 0, 0, 0, 0, 0, 0, 0, 0, 0, 0, 0, 0, 0, 0, 0, 0, 0, 0, 0, 0, 0, 0, 0, 0, 0, 0, 0, 0, 0, 0, 0, 0, 0, 0, 0, 0, 0, 0, 0, 0, 0, 0, 0, 0, 0, 0, 0, 0, 0, 0, 0, 0, 0, 0, 0, 0, 0, 0, 0, 0, 0, 0, 0, 0, 0, 0, 0, 0, 0, 0, 0, 0, 0, 0, 0, 0, 0, 0, 0, 0, 0, 0, 0, 0, 0, 0, 0, 0, 0, 0, 0, 0, 0, 0, 0, 0, 1, 0, 0, 0, 0, 0, 0, 0, 0, 0, 0, 0, 0, 0, 0, 0, 0, 0, 0, 0, 0, 0, 0, 0, 0, 0, 0, 0, 0, 0, 0, 0, 0, 0, 0, 0, 0, 0, 0, 0, 0, 0, 0, 0, 0, 0, 0, 0, 0, 0, 0, 0, 0, 0, 0, 0, 0, 0, 0, 0, 0, 0, 0, 0, 0, 0, 0, 0, 0, 0, 0, 0, 0, 0, 0, 0, 0, 0, 0, 0, 0, 0, 0, 0, 0, 0, 0, 0, 0, 0, 0, 0, 0, 0, 0, 0, 0, 0, 0, 0, 0, 0, 0, 0, 0, 0, 0, 0, 0, 0, 0, 0, 0, 0, 0, 0, 0, 0, 0, 0, 0, 0, 0, 0, 0, 0, 0, 0, 0, 0, 0, 0, 0, 0, 0, 0, 0, 0, 0, 0, 0, 0, 0, 0, 0, 0, 0, 0, 0, 0, 0, 0, 0, 0, 0, 0, 0, 0, 0, 0, 0, 0, 0, 0, 0, 0, 0, 0, 0, 0, 0, 0, 0, 0, 0, 0, 0, 0, 0, 0, 0, 0, 0, 0, 0, 0, 0, 0, 0, 0, 0, 0, 0, 0, 0, 0, 0, 0, 0, 0, 0, 0, 0, 0, 0, 0, 0, 0, 0, 0, 0, 0, 0, 0, 0, 0, 0, 0, 0, 0, 0, 0, 0, 0, 0, 0, 0, 0, 0, 0, 0, 0, 0, 0, 0, 0, 0, 0, 0, 0, 0, 0, 0, 0, 0, 0, 0, 0, 0, 0, 0, 0, 0, 0, 1, 0, 0, 0, 0, 0, 0, 0, 0, 0, 0, 0, 0, 0, 0, 0, 0, 0, 0, 0, 0, 0, 0, 0, 0, 0, 0, 0, 0, 0, 0, 0, 0, 0, 0, 0, 0, 0, 0, 0, 0, 0, 0, 0, 0, 0, 0, 0, 0, 0, 0, 0, 0, 0, 0, 0, 0, 0, 0, 0, 0, 0, 0, 0, 0, 0, 0, 0, 0, 0, 0, 0, 0, 0, 0, 0, 0, 0, 0, 0, 0, 0, 0, 0, 0, 0, 0, 0, 1, 0, 0, 0, 0, 0, 0, 0, 0, 0, 0, 0, 0, 0, 0, 0, 0, 0, 0, 0, 0, 0, 0, 0, 0, 0, 0, 0, 0, 0, 0, 0, 0, 0, 0, 0, 0, 0, 0, 0, 0, 0, 0, 0, 0, 0, 0, 0, 0, 0, 0, 0, 0, 0, 0, 0, 0, 0, 0, 0, 0, 0, 0, 0, 0, 0, 0, 0, 0, 0, 0, 0, 0, 0, 0, 0, 0, 0, 0, 0, 0, 0, 0, 0, 0, 0, 0, 0, 0, 0, 0, 0, 0, 0, 0, 0, 0, 0, 0, 0, 0, 0, 0, 0, 0, 0, 0, 0, 0, 0, 0, 0, 0, 0, 0, 0, 0, 0, 0, 0, 0, 0, 0, 0, 0, 0, 0, 0, 0, 0, 0, 0, 0, 0, 0, 0, 0, 0, 0, 0, 0, 0, 0, 0, 0, 0, 0, 0, 0, 0, 0, 0, 0, 0, 0, 0, 0, 0, 0, 0, 0, 0, 0, 0, 0, 0, 0, 0, 0, 0, 0, 0, 0, 0, 0, 0, 0, 0, 0, 0, 0, 0, 0, 0, 0, 0, 0, 0, 0, 0, 0, 0, 0, 0, 0, 0, 0, 0, 0, 0, 0, 0, 0, 0, 0, 0, 0, 0, 0, 0, 0, 0, 0, 0, 0, 0, 0, 0, 0, 0, 0, 0, 0, 0, 0, 0, 0, 0, 0, 0, 0, 0, 0, 0, 0, 0, 0, 0, 0, 0, 0, 0, 0, 0, 0, 0, 0, 0, 0, 0, 0, 1, 0, 0, 0, 0, 0, 0, 0, 0, 0, 0, 0, 0, 0, 0, 0, 0, 0, 0, 0, 0, 0, 0, 0, 0, 0, 0, 0, 0, 0, 0, 0, 0, 0, 0, 0, 0, 0, 0, 0, 0, 0, 0, 0, 0, 0, 0, 0, 0, 0, 0, 0, 0, 0, 0, 0, 1, 0, 0, 0, 0, 0, 0, 0, 0, 0, 0, 0, 0, 0, 0, 0, 0, 0, 0, 0, 0, 0, 0, 0, 0, 0, 0, 0, 0, 0, 0, 0, 0, 0, 0, 0, 0, 0, 0, 0, 0, 0, 0, 0, 0, 0, 0, 0, 0, 0, 0, 0, 0, 0, 0, 0, 0, 0, 0, 0, 0, 0, 0, 0, 0, 0, 0, 0, 0, 0, 0, 0, 0, 0, 0, 0, 0, 0, 0, 0, 0, 0, 0, 0, 0, 0, 0, 0, 0, 0, 0, 0, 0, 0, 0, 0, 0, 0, 0, 0, 0, 0, 0, 0, 0, 0, 0, 0, 0, 0, 0, 0, 0, 0, 0, 0, 0, 0, 0, 0, 0, 0, 0, 0, 0, 0, 0, 0, 0, 0, 0, 0, 0, 0, 0, 0, 0, 0, 0, 0, 0, 0, 0, 0, 0, 0, 0, 0, 0, 0, 0, 0, 0, 0, 0, 0, 0, 0, 0, 0, 0, 0, 0, 0, 0, 0, 0, 0, 0, 0, 0, 0, 0, 0, 0, 0, 0, 0, 0, 0, 0, 0, 0, 0, 0, 0, 0, 0, 0, 0, 0, 0, 0, 0, 0, 0, 0, 0, 0, 0, 0, 0, 0, 0, 0, 0, 0, 0, 0, 0, 0, 0, 0, 0, 0, 0, 0, 0, 0, 0, 0, 0, 0, 0, 0, 0, 0, 0, 0, 0, 0, 0, 0, 0, 0, 0, 0, 0, 0, 0, 0, 0, 0, 0, 0, 0, 0, 0, 0, 0, 0, 0, 0, 0, 0, 0, 0, 0, 0, 0, 0, 0, 0, 0, 0, 0, 0, 0, 0, 0, 0, 0, 0, 0, 0, 0, 0, 0, 0, 0, 0, 0, 0, 0, 0, 0, 0, 0, 0, 0, 0, 0, 0, 0, 0, 0, 0, 0, 0, 0, 0, 0, 0, 0, 0, 0, 0, 0, 0, 0, 0, 0, 0, 0, 0, 0, 0, 0, 0, 0, 0, 0, 0, 0, 0, 0, 0, 0, 0, 0, 0, 0, 0, 0, 0, 0, 0, 0, 0, 0, 0, 0, 0, 0, 0, 0, 0, 0, 0, 0, 0, 0, 0, 0, 0, 0, 0, 0, 0, 0, 0, 0, 0, 0, 0, 0, 0, 0, 0, 0, 0, 0, 0, 0, 0, 0, 0, 0, 0, 0, 0, 0, 0, 0, 0, 0, 0, 0, 0, 0, 0, 0, 0, 0, 0, 0, 0, 0, 0, 0, 0, 0, 0, 0, 0, 0, 0, 0, 0, 0, 0, 0, 0, 0, 0, 0, 0, 0, 0, 0, 0, 0, 0, 0, 0, 0, 0, 0, 0, 0, 0, 0, 0, 0, 0, 0, 0, 0, 0, 0, 0, 0, 0, 0, 0, 0, 0, 0, 0, 0, 0, 0, 0, 0, 0, 0, 0, 0, 0, 0, 0, 0, 0, 0, 0, 0, 0, 0, 0, 0, 0, 0, 0, 0, 0, 0, 0, 0, 0, 0, 0, 0, 0, 0, 0, 0, 0, 0, 0, 0, 0, 0, 0, 0, 0, 0, 0, 0, 0, 0, 0, 0, 0, 0, 0, 0, 0, 0, 0, 0, 0, 0, 0, 0, 0, 0, 0, 0, 0, 0, 0, 0, 0, 0, 0, 0, 0, 0, 0, 0, 0, 0, 0, 0, 0, 0, 0, 0, 0, 0, 0, 0, 0, 0, 0, 0, 0, 0, 0, 0, 0, 0, 0, 0, 0, 0, 0, 0, 0, 0, 0, 0, 0, 0, 0, 0, 0, 0, 0, 0, 0, 0, 0, 0, 0, 0, 0, 0, 0, 0, 0, 0, 0, 0, 0, 0, 0, 0, 0, 0, 0, 0, 0, 0, 0, 0, 0, 0, 0, 0, 0, 0, 0, 0, 0, 0, 0, 0, 0, 0, 0, 0, 0, 0, 0, 0, 0, 0, 0, 0, 0, 0, 0, 0, 0, 0, 0, 0, 0, 0, 0, 0, 0, 0, 0, 0, 0, 0, 0, 0, 0, 0, 0, 0, 0, 0, 0, 0, 0, 0, 0, 0, 0, 0, 0, 0, 0, 0, 0, 0, 0, 0, 0, 0, 0, 0, 0, 0, 0, 0, 0, 0, 0, 0, 0, 0, 0, 0, 0, 0, 0, 0, 1, 0, 0, 0, 0, 0, 0, 0, 0, 0, 0, 0, 0, 0, 0, 0, 0, 0, 0, 0, 0, 0, 0, 0, 0, 0, 0, 0, 0, 0, 0, 0, 0, 0, 0, 0, 0, 0, 0, 0, 0, 0, 0, 0, 0, 0, 0, 0, 0, 0, 0, 0, 0, 0, 0, 0, 0, 0, 0, 0, 0, 0, 0, 0, 0, 0, 0, 0, 0, 0, 0, 0, 0, 0, 0, 1, 0, 0, 0, 0, 0, 0, 0, 0, 0, 0, 0, 0, 0, 0, 0, 0, 0, 0, 0, 0, 1, 0, 0, 1, 0, 0, 0, 0, 0, 0, 0, 0, 0, 0, 0, 0, 0, 0, 0, 0, 0, 0, 0, 0, 0, 0, 0, 0, 0, 0, 0, 0, 0, 0, 0, 0, 0, 0, 0, 0, 0, 0, 0, 0, 0, 0, 0, 0, 0, 0, 0, 0, 0, 0, 0, 0, 0, 0, 0, 0, 0, 0, 0, 0, 0, 0, 0, 0, 0, 0, 0, 0, 0, 0, 0, 0, 0, 0, 0, 0, 0, 0, 0, 0, 0, 0, 0, 0, 0, 0, 0, 0, 0, 0, 0, 0, 0, 0, 0, 0, 0, 0, 0, 0, 0, 0, 0, 0, 0, 0, 0, 0, 0, 0, 0, 0, 0, 0, 0, 0, 0, 0, 0, 0, 0, 0, 0, 0, 0, 0, 0, 0, 0, 0, 0, 0, 0, 0, 0, 0, 0, 0, 0, 0, 0, 0, 0, 0, 0, 0, 0, 0, 0, 0, 0, 0, 0, 0, 0, 0, 0, 0, 0, 0, 0, 0, 0, 0, 0, 0, 0, 0, 0, 0, 0, 0, 0, 0, 0, 0, 0, 0, 0, 0, 0, 0, 0, 0, 0, 0, 0, 0, 0, 0, 0, 0, 0, 0, 0, 0, 0, 0, 0, 0, 0, 0, 0, 0, 0, 0, 0, 0, 0, 0, 0, 0, 0, 0, 0, 0, 0, 0, 0, 0, 0, 0, 0, 0, 0, 0, 0, 0, 0, 0, 0, 0, 0, 0, 0, 0, 0, 0, 0, 0, 0, 0, 0, 0, 0, 0, 0, 0, 0, 0, 0, 0, 0, 0, 0, 0, 0, 0, 0, 0, 0, 0, 0, 0, 0, 0, 0, 0, 0, 0, 0, 0, 0, 0, 0, 0, 0, 0, 0, 0, 0, 0, 0, 0, 0, 0, 0, 0, 0, 0, 0, 0, 0, 0, 0, 0, 0, 0, 0, 0, 0, 0, 0, 0, 0, 0, 0, 0, 0, 0, 0, 0, 0, 0, 0, 0, 0, 0, 0, 0, 0, 0, 0, 0, 0, 0, 0, 0, 0, 0, 0, 0, 0, 0, 0, 0, 0, 0, 0, 0, 0, 0, 0, 0, 0, 0, 0, 0, 0, 0, 0, 0, 0, 0, 0, 0, 0, 0, 0, 0, 0, 0, 0, 0, 0, 0, 0, 0, 0, 0, 0, 0, 0, 0, 0, 0, 0, 0, 0, 0, 0, 0, 0, 0, 0, 0, 0, 0, 0, 0, 0, 0, 0, 0, 0, 0, 0, 0, 0, 0, 0, 0, 0, 0, 0, 0, 0, 0, 0, 0, 0, 0, 0, 0, 0, 0, 0, 0, 0, 0, 0, 0, 0, 0, 0, 0, 0, 0, 0, 0, 0, 0, 0, 0, 0, 0, 0, 0, 0, 0, 0, 0, 0, 0, 0, 0, 0, 0, 0, 0, 0, 0, 0, 0, 0, 0, 0, 0, 0, 0, 0, 0, 0, 0, 0, 0, 1, 0, 0, 0, 0, 0, 0, 0, 0, 0, 0, 0, 0, 0, 0, 0, 0, 0, 0, 0, 0, 0, 0, 0, 0, 0, 0, 0, 0, 0, 0, 0, 0, 0, 0, 0, 0, 0, 0, 0, 0, 0, 0, 0, 0, 0, 0, 0, 0, 0, 0, 0, 0, 0, 0, 0, 0, 0, 0, 0, 0, 0, 0, 0, 0, 0, 0, 0, 0, 0, 0, 0, 0, 0, 0, 0, 0, 0, 0, 0, 0, 0, 0, 0, 0, 0, 0, 0, 0, 0, 0, 0, 0, 0, 0, 0, 0, 0, 0, 0, 0, 0, 0, 0, 0, 0, 0, 0, 0, 0, 0, 0, 0, 0, 0, 0, 0, 0, 0, 0, 0, 0, 0, 0, 0, 0, 0, 0, 0, 0, 0, 0, 0, 0, 0, 0, 0, 0, 0, 0, 0, 0, 0, 0, 0, 0, 0, 0, 0, 0, 0, 0, 0, 0, 0, 0, 0, 0, 0, 0, 0, 0, 0, 0, 0, 0, 0, 0, 0, 0, 0, 0, 0, 0, 0, 0, 0, 0, 0, 0, 0, 0, 0, 0, 0, 0, 0, 0, 0, 0, 0, 0, 0, 0, 0, 0, 0, 0, 0, 0, 0, 0, 0, 0, 0, 0, 0, 0, 0, 0, 0, 0, 0, 0, 0, 0, 0, 0, 0, 0, 0, 0, 0, 0, 0, 0, 0, 0, 0, 0, 0, 0, 0, 0, 0, 0, 0, 0, 0, 0, 0, 0, 0, 0, 0, 0, 0, 0, 0, 0, 0, 0, 0, 0, 0, 0, 0, 0, 0, 0, 0, 0, 0, 0, 0, 0, 0, 0, 0, 0, 0, 0, 0, 0, 0, 0, 0, 0, 0, 0, 0, 0, 0, 0, 0, 0, 0, 0, 0, 0, 0, 0, 0, 0, 0, 0, 0, 0, 0, 0, 0, 0, 0, 0, 0, 0, 0, 0, 0, 0, 0, 0, 0, 0, 0, 0, 0, 0, 0, 0, 0, 0, 0, 0, 0, 0, 0, 0, 0, 0, 0, 0, 0, 0, 0, 0, 0, 0, 0, 0, 0, 0, 0, 0, 0, 0, 0, 0, 0, 0, 0, 0, 0, 0, 0, 0, 0, 0, 0, 0, 0, 0, 0, 0, 0, 0, 0, 0, 0, 0, 0, 0, 0, 0, 0, 0, 0, 0, 0, 0, 0, 0, 0, 0, 0, 0, 0, 0, 0, 0, 0, 0, 0, 0, 0, 0, 0, 0, 0, 0, 0, 0, 0, 0, 0, 0, 0, 0, 0, 0, 0, 0, 0, 0, 0, 0, 0, 0, 0, 0, 0, 0, 0, 0, 0, 0, 0, 0, 0, 0, 0, 0, 0, 0, 0, 0, 0, 0, 0, 0, 0, 0, 0, 0, 0, 0, 0, 0, 0, 0, 0, 0, 0, 0, 0, 0, 0, 0, 0, 0, 0, 0, 0, 0, 0, 0, 0, 0, 0, 0, 0, 0, 0, 0, 0, 0, 0, 0, 0, 0, 0, 0, 0, 0, 0, 0, 0, 0, 0, 0, 0, 0, 0, 0, 0, 0, 0, 0, 0, 0, 0, 0, 0, 0, 0, 0, 0, 0, 0, 0, 0, 0, 1, 0, 0, 0, 0, 0, 0, 0, 0, 0, 0, 0, 0, 0, 0, 0, 0, 0, 0, 0, 0, 0, 0, 0, 0, 0, 0, 0, 0, 0, 0, 0, 0, 0, 0, 0, 2, 0, 0, 0, 0, 0, 0, 0, 0, 0, 0, 0, 0, 0, 0, 0, 0, 0, 0, 0, 0, 0, 0, 0, 0, 0, 0, 0, 0, 0, 0, 0, 0, 0, 0, 0, 0, 0, 0, 0, 0, 1, 0, 0, 0, 0, 0, 0, 0, 0, 0, 0, 0, 0, 0, 0, 0, 0, 0, 0, 0, 0, 0, 0, 0, 0, 0, 0, 0, 0, 0, 0, 0, 0, 0, 0, 0, 0, 0, 0, 0, 0, 0, 0, 0, 0, 0, 0, 0, 0, 0, 0, 0, 0, 0, 0, 0, 0, 0, 0, 0, 0, 0, 0, 0, 0, 0, 0, 0, 0, 0, 0, 0, 0, 0, 0, 0, 0, 0, 0, 0, 0, 0, 0, 0, 0, 0, 0, 0, 0, 0, 0, 0, 0, 0, 0, 0, 0, 0, 0, 0, 0, 0, 0, 0, 0, 0, 0, 0, 0, 0, 0, 0, 0, 0, 0, 0, 0, 0, 0, 0, 0, 0, 0, 0, 0, 0, 0, 0, 0, 0, 0, 0, 0, 0, 0, 0, 0, 0, 0, 0, 0, 0, 0, 0, 0, 0, 0, 0, 0, 0, 0, 0, 0, 0, 0, 0, 0, 0, 0, 0, 0, 0, 0, 0, 0, 0, 0, 0, 0, 0, 0, 0, 0, 0, 0, 0, 0, 0, 0, 0, 0, 0, 0, 0, 0, 0, 0, 0, 0, 0, 0, 0, 0, 0, 0, 0, 0, 0, 0, 0, 0, 0, 0, 0, 0, 0, 0, 0, 0, 0, 0, 0, 0, 0, 0, 0, 0, 0, 0, 0, 0, 0, 0, 0, 0, 0, 0, 0, 0, 0, 0, 0, 0, 0, 0, 0, 0, 0, 0, 0, 0, 0, 0, 0, 0, 0, 0, 0, 0, 0, 0, 0, 0, 0, 0, 0, 0, 0, 0, 0, 0, 0, 0, 0, 0, 0, 0, 0, 0, 0, 0, 0, 0, 0, 0, 0, 0, 0, 0, 0, 0, 0, 0, 0, 0, 0, 0, 0, 0, 0, 0, 0, 0, 0, 0, 0, 0, 0, 0, 0, 0, 0, 0, 0, 0, 0, 0, 0, 0, 0, 0, 0, 0, 0, 0, 0, 0, 0, 0, 0, 0, 0, 0, 0, 0, 0, 0, 0, 0, 0, 0, 0, 0, 0, 0, 0, 0, 0, 0, 0, 0, 0, 0, 0, 0, 0, 0, 0, 0, 0, 0, 0, 0, 0, 0, 0, 0, 0, 0, 0, 0, 0, 0, 0, 0, 0, 0, 0, 0, 0, 0, 0, 0, 0, 0, 0, 0, 0, 0, 0, 0, 0, 0, 0, 0, 0, 0, 0, 0, 0, 0, 0, 0, 0, 0, 0, 0, 0, 0, 0, 0, 0, 0, 0, 0, 0, 0, 0, 0, 0, 0, 0, 0, 0, 0, 0, 0, 0, 0, 0, 0, 0, 0, 0, 0, 0, 0, 0, 0, 0, 0, 0, 0, 0, 0, 0, 0, 0, 0, 0, 0, 0, 0, 0, 0, 0, 0, 0, 0, 0, 0, 0, 0, 0, 0, 0, 0, 0, 0, 0, 0, 0, 0, 0, 0, 0, 0, 0, 0, 0, 0, 0, 0, 0, 0, 0, 0, 0, 0, 0, 0, 0, 0, 0, 0, 0, 0, 0, 0, 0, 0, 0, 0, 0, 0, 0, 0, 0, 1, 0, 0, 0, 0, 0, 0, 0, 0, 0, 0, 0, 0, 0, 0, 0, 0, 0, 0, 0, 0, 0, 0, 0, 0, 0, 0, 0, 0, 0, 0, 0, 0, 0, 0, 0, 0, 0, 0, 0, 0, 0, 0, 0, 0, 0, 0, 0, 0, 0, 0, 0, 0, 0, 0, 0, 0, 0, 0, 0, 0, 0, 0, 0, 0, 0, 0, 0, 0, 0, 0, 0, 0, 0, 0, 0, 0, 0, 0, 0, 0, 0, 0, 0, 0, 0, 0, 0, 0, 0, 0, 0, 0, 0, 0, 0, 0, 0, 0, 0, 0, 0, 0, 0, 0, 0, 0, 0, 0, 0, 0, 2, 0, 0, 0, 0, 0, 0, 0, 0, 0, 0, 0, 0, 0, 0, 0, 0, 0, 0, 0, 0, 0, 0, 0, 0, 0, 0, 0, 0, 0, 0, 0, 0, 0, 0, 0, 0, 0, 0, 0, 0, 0, 0, 0, 0, 0, 0, 0, 0, 0, 0, 0, 0, 0, 0, 0, 0, 0, 0, 0, 0, 0, 0, 0, 0, 0, 0, 0, 0, 0, 0, 0, 0, 0, 0, 0, 0, 0, 0, 0, 0, 0, 0, 0, 0, 0, 0, 0, 0, 0, 0, 0, 0, 0, 0, 0, 0, 0, 0, 0, 0, 0, 0, 0, 0, 0, 0, 0, 0, 0, 0, 0, 0, 0, 0, 0, 0, 0, 0, 0, 0, 0, 0, 0, 0, 0, 0, 0, 0, 0, 0, 0, 0, 0, 0, 0, 0, 0, 0, 0, 0, 0, 0, 0, 0, 0, 0, 0, 0, 0, 0, 0, 0, 0, 0, 0, 0, 0, 0, 0, 0, 0, 0, 0, 0, 0, 0, 0, 0, 0, 0, 0, 0, 0, 0, 0, 0, 0, 0, 0, 0, 0, 0, 0, 0, 0, 0, 0, 0, 0, 0, 0, 0, 0, 0, 0, 0, 0, 0, 0, 0, 0, 0, 0, 0, 0, 0, 0, 0, 0, 0, 0, 0, 0, 0, 0, 0, 0, 0, 0, 0, 0, 0, 0, 0, 0, 0, 0, 0, 0, 0, 0, 0, 0, 0, 0, 0, 0, 0, 0, 0, 0, 0, 0, 0, 0, 0, 0, 0, 0, 0, 0, 0, 0, 0, 0, 0, 0, 0, 0, 0, 0, 0, 0, 0, 0, 0, 0, 0, 0, 0, 0, 0, 0, 0, 0, 0, 0, 0, 0, 0, 0, 0, 0, 0, 0, 0, 0, 0, 0, 0, 0, 0, 0, 0, 0, 0, 0, 0, 0, 0, 0, 0, 0, 0, 0, 0, 0, 0, 0, 0, 0, 0, 0, 0, 0, 0, 0, 0, 0, 0, 0, 0, 0, 0, 0, 0, 0, 0, 0, 0, 0, 0, 0, 0, 0, 0, 0, 0, 0, 0, 0, 0, 0, 0, 0, 0, 0, 0, 0, 0, 0, 0, 0, 0, 0, 0, 0, 0, 0, 0, 0, 0, 0, 0, 0, 0, 0, 0, 0, 0, 0, 0, 0, 0, 0, 0, 0, 0, 0, 0, 0, 0, 0, 0, 0, 0, 0, 0, 0, 0, 0, 0, 0, 0, 0, 0, 0, 0, 0, 0, 0, 0, 0, 0, 0, 0, 0, 0, 0, 0, 0, 0, 0, 0, 0, 0, 0, 0, 0, 0, 0, 0, 0, 0, 0, 0, 0, 0, 0, 0, 0, 0, 0, 0, 0, 0, 0, 0, 0, 0, 0, 0, 0, 0, 0, 0, 0, 0, 0, 0, 0, 0, 0, 0, 0, 0, 0, 0, 0, 0, 0, 0, 0, 0, 0, 0, 0, 0, 0, 0, 0, 0, 0, 0, 0, 0, 0, 0, 0, 0, 0, 0, 0, 0, 0, 0, 0, 0, 0, 0, 0, 0, 0, 0, 0, 0, 0, 0, 0, 0, 0, 0, 0, 0, 0, 0, 0, 0, 0, 0, 0, 0, 0, 0, 0, 0, 0, 0, 0, 0, 0, 0, 0, 0, 0, 0, 0, 0, 0, 0, 0, 0, 0, 0, 0, 0, 0, 0, 0, 0, 0, 0, 0, 0, 0, 0, 0, 0, 0, 0, 0, 0, 0, 0, 0, 0, 0, 0, 0, 0, 0, 0, 0, 0, 0, 0, 0, 0, 0, 0, 0, 0, 0, 0, 0, 0, 0, 0, 0, 0, 0, 0, 0, 0, 0, 0, 0, 0, 0, 0, 0, 0, 0, 0, 0, 0, 0, 0, 0, 0, 0, 0, 0, 0, 0, 0, 0, 0, 0, 0, 0, 0, 0, 0, 0, 0, 0, 0, 0, 0, 0, 0, 0, 0, 0, 0, 0, 0, 0, 0, 0, 0, 0, 0, 0, 0, 0, 0, 0, 0, 0, 0, 0, 0, 0, 0, 0, 0, 0, 0, 0, 0, 0, 0, 0, 0, 0, 0, 0, 0, 0, 0, 0, 0, 0, 0, 0, 0, 0, 0, 0, 0, 0, 0, 0, 0, 0, 0, 0, 0, 0, 0, 0, 0, 0, 0, 0, 0, 0, 0, 0, 1, 0, 0, 0, 0, 0, 0, 0, 0, 0, 0, 0, 0, 0, 0, 0, 0, 0, 0, 0, 0, 0, 0, 0, 0, 0, 0, 0, 0, 0, 0, 0, 0, 0, 0, 0, 0, 0, 0, 0, 0, 0, 0, 0, 0, 0, 0, 0, 0, 0, 0, 0, 0, 0, 0, 0, 0, 0, 0, 0, 0, 0, 0, 0, 0, 0, 0, 0, 0, 0, 0, 0, 0, 0, 0, 0, 0, 0, 0, 0, 0, 0, 0, 0, 0, 0, 0, 0, 0, 0, 0, 0, 0, 0, 0, 0, 0, 0, 0, 0, 0, 0, 0, 0, 0, 0, 0, 0, 1, 0, 0, 0, 0, 0, 0, 0, 0, 0, 0, 0, 0, 0, 0, 0, 0, 0, 0, 0, 0, 0, 0, 0, 0, 0, 0, 0, 0, 0, 0, 0, 0, 0, 0, 0, 0, 0, 0, 0, 0, 0, 0, 0, 0, 0, 0, 0, 0, 0, 0, 0, 0, 0, 0, 0, 0, 0, 0, 0, 0, 0, 0, 0, 0, 0, 0, 0, 0, 0, 0, 0, 0, 0, 0, 0, 0, 0, 0, 0, 0, 0, 0, 0, 0, 0, 0, 0, 0, 0, 0, 0, 0, 0, 0, 0, 0, 0, 0, 0, 0, 0, 0, 0, 0, 0, 0, 0, 0, 0, 0, 0, 0, 0, 0, 0, 0, 0, 0, 0, 0, 0, 0, 0, 0, 0, 0, 0, 0, 0, 0, 0, 0, 0, 0, 0, 0, 0, 0, 0, 0, 0, 0, 0, 0, 0, 0, 0, 0, 0, 0, 0, 0, 0, 0, 0, 0, 0, 0, 0, 0, 0, 0, 0, 0, 0, 0, 0, 0, 0, 0, 0, 0, 0, 0, 0, 0, 0, 0, 0, 0, 0, 0, 0, 0, 0, 0, 0, 0, 0, 0, 0, 0, 0, 0, 0, 0, 0, 0, 0, 0, 0, 0, 0, 0, 0, 0, 0, 0, 0, 0, 0, 0, 0, 0, 0, 0, 0, 0, 0, 0, 0, 0, 0, 0, 0, 0, 0, 0, 0, 0, 0, 0, 0, 0, 0, 0, 0, 0, 0, 0, 0, 0, 0, 0, 0, 0, 0, 0, 0, 0, 0, 0, 0, 0, 0, 0, 0, 0, 0, 0, 0, 0, 0, 0, 0, 0, 0, 0, 0, 0, 0, 0, 0, 0, 0, 0, 0, 0, 0, 0, 0, 0, 0, 0, 0, 0, 0, 0, 0, 0, 0, 0, 0, 0, 0, 0, 0, 0, 0, 0, 0, 0, 0, 0, 0, 0, 0, 0, 0, 0, 0, 0, 0, 0, 0, 0, 0, 0, 0, 0, 0, 0, 0, 0, 0, 0, 0, 0, 0, 0, 0, 0, 0, 0, 0, 0, 0, 0, 0, 0, 0, 0, 0, 0, 0, 0, 0, 0, 0, 0, 0, 0, 0, 0, 0, 0, 0, 0, 0, 0, 0, 0, 0, 0, 0, 0, 0, 0, 0, 0, 0, 0, 0, 0, 0, 0, 0, 0, 0, 0, 0, 0, 0, 0, 0, 0, 0, 0, 0, 0, 0, 0, 0, 0, 0, 0, 0, 0, 0, 0, 0, 0, 0, 0, 0, 0, 0, 0, 0, 0, 0, 0, 0, 0, 0, 0, 0, 0, 0, 0, 0, 0, 0, 0, 0, 0, 0, 0, 0, 0, 0, 0, 0, 0, 0, 0, 0, 0, 0, 0, 0, 0, 0, 0, 0, 0, 0, 0, 0, 0, 0, 0, 0, 0, 0, 0, 0, 0, 0, 0, 0, 0, 0, 0, 2, 0, 1, 0], type: <class 'list'>, valid types: <class 'bytes'>, <class 'bytearray'>, file-like object",
     "output_type": "error",
     "traceback": [
      "\u001b[0;31m---------------------------------------------------------------------------\u001b[0m",
      "\u001b[0;31mParamValidationError\u001b[0m                      Traceback (most recent call last)",
      "\u001b[0;32m<ipython-input-30-c9ab54ae3a48>\u001b[0m in \u001b[0;36m<module>\u001b[0;34m\u001b[0m\n\u001b[1;32m      1\u001b[0m response = runtime.invoke_endpoint(EndpointName = xgb_predictor.endpoint, # The name of the endpoint we created\n\u001b[1;32m      2\u001b[0m                                        \u001b[0mContentType\u001b[0m \u001b[0;34m=\u001b[0m \u001b[0;34m'text/csv'\u001b[0m\u001b[0;34m,\u001b[0m                     \u001b[0;31m# The data format that is expected\u001b[0m\u001b[0;34m\u001b[0m\u001b[0;34m\u001b[0m\u001b[0m\n\u001b[0;32m----> 3\u001b[0;31m                                        Body = test_bow)\n\u001b[0m",
      "\u001b[0;32m~/anaconda3/envs/python3/lib/python3.6/site-packages/botocore/client.py\u001b[0m in \u001b[0;36m_api_call\u001b[0;34m(self, *args, **kwargs)\u001b[0m\n\u001b[1;32m    314\u001b[0m                     \"%s() only accepts keyword arguments.\" % py_operation_name)\n\u001b[1;32m    315\u001b[0m             \u001b[0;31m# The \"self\" in this scope is referring to the BaseClient.\u001b[0m\u001b[0;34m\u001b[0m\u001b[0;34m\u001b[0m\u001b[0;34m\u001b[0m\u001b[0m\n\u001b[0;32m--> 316\u001b[0;31m             \u001b[0;32mreturn\u001b[0m \u001b[0mself\u001b[0m\u001b[0;34m.\u001b[0m\u001b[0m_make_api_call\u001b[0m\u001b[0;34m(\u001b[0m\u001b[0moperation_name\u001b[0m\u001b[0;34m,\u001b[0m \u001b[0mkwargs\u001b[0m\u001b[0;34m)\u001b[0m\u001b[0;34m\u001b[0m\u001b[0;34m\u001b[0m\u001b[0m\n\u001b[0m\u001b[1;32m    317\u001b[0m \u001b[0;34m\u001b[0m\u001b[0m\n\u001b[1;32m    318\u001b[0m         \u001b[0m_api_call\u001b[0m\u001b[0;34m.\u001b[0m\u001b[0m__name__\u001b[0m \u001b[0;34m=\u001b[0m \u001b[0mstr\u001b[0m\u001b[0;34m(\u001b[0m\u001b[0mpy_operation_name\u001b[0m\u001b[0;34m)\u001b[0m\u001b[0;34m\u001b[0m\u001b[0;34m\u001b[0m\u001b[0m\n",
      "\u001b[0;32m~/anaconda3/envs/python3/lib/python3.6/site-packages/botocore/client.py\u001b[0m in \u001b[0;36m_make_api_call\u001b[0;34m(self, operation_name, api_params)\u001b[0m\n\u001b[1;32m    606\u001b[0m         }\n\u001b[1;32m    607\u001b[0m         request_dict = self._convert_to_request_dict(\n\u001b[0;32m--> 608\u001b[0;31m             api_params, operation_model, context=request_context)\n\u001b[0m\u001b[1;32m    609\u001b[0m \u001b[0;34m\u001b[0m\u001b[0m\n\u001b[1;32m    610\u001b[0m         \u001b[0mservice_id\u001b[0m \u001b[0;34m=\u001b[0m \u001b[0mself\u001b[0m\u001b[0;34m.\u001b[0m\u001b[0m_service_model\u001b[0m\u001b[0;34m.\u001b[0m\u001b[0mservice_id\u001b[0m\u001b[0;34m.\u001b[0m\u001b[0mhyphenize\u001b[0m\u001b[0;34m(\u001b[0m\u001b[0;34m)\u001b[0m\u001b[0;34m\u001b[0m\u001b[0;34m\u001b[0m\u001b[0m\n",
      "\u001b[0;32m~/anaconda3/envs/python3/lib/python3.6/site-packages/botocore/client.py\u001b[0m in \u001b[0;36m_convert_to_request_dict\u001b[0;34m(self, api_params, operation_model, context)\u001b[0m\n\u001b[1;32m    654\u001b[0m             api_params, operation_model, context)\n\u001b[1;32m    655\u001b[0m         request_dict = self._serializer.serialize_to_request(\n\u001b[0;32m--> 656\u001b[0;31m             api_params, operation_model)\n\u001b[0m\u001b[1;32m    657\u001b[0m         \u001b[0;32mif\u001b[0m \u001b[0;32mnot\u001b[0m \u001b[0mself\u001b[0m\u001b[0;34m.\u001b[0m\u001b[0m_client_config\u001b[0m\u001b[0;34m.\u001b[0m\u001b[0minject_host_prefix\u001b[0m\u001b[0;34m:\u001b[0m\u001b[0;34m\u001b[0m\u001b[0;34m\u001b[0m\u001b[0m\n\u001b[1;32m    658\u001b[0m             \u001b[0mrequest_dict\u001b[0m\u001b[0;34m.\u001b[0m\u001b[0mpop\u001b[0m\u001b[0;34m(\u001b[0m\u001b[0;34m'host_prefix'\u001b[0m\u001b[0;34m,\u001b[0m \u001b[0;32mNone\u001b[0m\u001b[0;34m)\u001b[0m\u001b[0;34m\u001b[0m\u001b[0;34m\u001b[0m\u001b[0m\n",
      "\u001b[0;32m~/anaconda3/envs/python3/lib/python3.6/site-packages/botocore/validate.py\u001b[0m in \u001b[0;36mserialize_to_request\u001b[0;34m(self, parameters, operation_model)\u001b[0m\n\u001b[1;32m    295\u001b[0m                                                     operation_model.input_shape)\n\u001b[1;32m    296\u001b[0m             \u001b[0;32mif\u001b[0m \u001b[0mreport\u001b[0m\u001b[0;34m.\u001b[0m\u001b[0mhas_errors\u001b[0m\u001b[0;34m(\u001b[0m\u001b[0;34m)\u001b[0m\u001b[0;34m:\u001b[0m\u001b[0;34m\u001b[0m\u001b[0;34m\u001b[0m\u001b[0m\n\u001b[0;32m--> 297\u001b[0;31m                 \u001b[0;32mraise\u001b[0m \u001b[0mParamValidationError\u001b[0m\u001b[0;34m(\u001b[0m\u001b[0mreport\u001b[0m\u001b[0;34m=\u001b[0m\u001b[0mreport\u001b[0m\u001b[0;34m.\u001b[0m\u001b[0mgenerate_report\u001b[0m\u001b[0;34m(\u001b[0m\u001b[0;34m)\u001b[0m\u001b[0;34m)\u001b[0m\u001b[0;34m\u001b[0m\u001b[0;34m\u001b[0m\u001b[0m\n\u001b[0m\u001b[1;32m    298\u001b[0m         return self._serializer.serialize_to_request(parameters,\n\u001b[1;32m    299\u001b[0m                                                      operation_model)\n",
      "\u001b[0;31mParamValidationError\u001b[0m: Parameter validation failed:\nInvalid type for parameter Body, value: [0, 0, 0, 0, 0, 0, 0, 0, 0, 0, 0, 0, 0, 0, 0, 0, 0, 0, 0, 0, 0, 0, 0, 0, 0, 0, 0, 0, 0, 0, 0, 0, 0, 0, 0, 0, 0, 0, 0, 0, 0, 0, 0, 0, 0, 0, 0, 0, 0, 0, 0, 0, 0, 0, 0, 0, 0, 0, 0, 0, 0, 0, 0, 0, 0, 0, 0, 0, 0, 0, 0, 0, 0, 0, 0, 0, 0, 0, 0, 0, 0, 0, 0, 0, 0, 0, 0, 0, 0, 0, 0, 0, 0, 0, 0, 0, 0, 0, 0, 0, 0, 0, 0, 0, 0, 0, 0, 0, 0, 0, 0, 0, 0, 0, 0, 0, 0, 0, 0, 0, 0, 0, 0, 0, 0, 0, 0, 0, 0, 0, 0, 0, 0, 0, 0, 0, 0, 0, 0, 0, 0, 0, 0, 0, 0, 0, 0, 0, 0, 0, 0, 0, 0, 0, 0, 0, 0, 0, 0, 0, 0, 0, 0, 0, 0, 0, 0, 0, 0, 0, 0, 0, 0, 0, 0, 0, 0, 0, 0, 0, 0, 0, 0, 0, 0, 0, 0, 0, 0, 0, 0, 0, 0, 0, 0, 0, 0, 0, 0, 0, 0, 0, 0, 0, 0, 0, 0, 0, 0, 0, 0, 0, 0, 0, 0, 0, 0, 0, 0, 0, 0, 0, 0, 0, 0, 0, 0, 1, 0, 0, 0, 0, 0, 0, 0, 0, 0, 0, 0, 0, 0, 0, 0, 0, 0, 0, 0, 0, 0, 0, 0, 0, 0, 0, 0, 0, 1, 0, 0, 0, 0, 0, 0, 0, 0, 0, 0, 0, 0, 0, 0, 0, 0, 0, 0, 0, 0, 0, 0, 0, 0, 0, 0, 0, 0, 0, 0, 0, 0, 0, 0, 0, 0, 0, 0, 0, 0, 0, 0, 0, 0, 0, 0, 0, 0, 0, 0, 0, 0, 0, 0, 0, 0, 0, 0, 0, 0, 0, 0, 0, 0, 0, 0, 0, 0, 0, 0, 0, 0, 0, 0, 0, 0, 0, 0, 0, 0, 0, 0, 0, 0, 0, 0, 0, 0, 0, 0, 0, 0, 0, 0, 0, 0, 0, 0, 0, 0, 0, 0, 0, 0, 0, 0, 0, 0, 0, 0, 0, 0, 0, 0, 0, 0, 0, 0, 0, 0, 0, 0, 0, 0, 0, 0, 0, 0, 0, 0, 0, 0, 0, 0, 0, 0, 0, 0, 0, 0, 0, 0, 0, 0, 0, 0, 0, 0, 0, 0, 0, 0, 0, 0, 0, 0, 0, 0, 0, 0, 0, 0, 0, 0, 0, 0, 0, 0, 0, 0, 0, 0, 0, 0, 0, 0, 0, 0, 0, 0, 0, 0, 0, 0, 0, 0, 0, 0, 0, 0, 0, 0, 0, 0, 0, 0, 0, 0, 0, 0, 0, 0, 0, 0, 0, 0, 0, 0, 0, 0, 0, 0, 0, 0, 0, 0, 0, 0, 0, 0, 0, 0, 0, 0, 0, 0, 0, 0, 0, 0, 0, 0, 0, 0, 0, 0, 0, 0, 0, 0, 0, 0, 0, 0, 0, 0, 0, 0, 0, 0, 0, 0, 0, 0, 0, 0, 0, 0, 0, 0, 0, 0, 0, 0, 0, 0, 0, 0, 0, 0, 0, 0, 0, 0, 0, 0, 0, 0, 0, 0, 0, 0, 0, 0, 0, 0, 0, 0, 0, 0, 0, 0, 0, 0, 0, 0, 0, 0, 0, 0, 0, 0, 0, 0, 0, 0, 0, 0, 0, 0, 0, 0, 0, 0, 0, 0, 0, 0, 0, 0, 0, 0, 0, 0, 0, 0, 0, 0, 0, 0, 0, 0, 0, 0, 0, 0, 0, 0, 0, 0, 0, 0, 0, 0, 0, 0, 0, 0, 0, 0, 0, 0, 0, 0, 0, 0, 0, 0, 0, 0, 0, 0, 0, 0, 0, 0, 0, 0, 0, 0, 0, 0, 0, 0, 0, 0, 0, 0, 0, 1, 0, 0, 0, 0, 0, 0, 0, 0, 0, 0, 0, 0, 0, 0, 0, 0, 0, 0, 0, 0, 0, 0, 0, 0, 0, 0, 0, 0, 0, 0, 0, 0, 0, 0, 0, 0, 0, 0, 0, 0, 0, 0, 0, 0, 0, 0, 0, 0, 0, 0, 0, 0, 0, 0, 0, 0, 0, 0, 0, 0, 0, 0, 0, 0, 0, 0, 0, 0, 0, 0, 0, 0, 0, 0, 0, 0, 0, 0, 0, 0, 0, 0, 0, 0, 0, 0, 0, 0, 0, 0, 0, 0, 0, 0, 0, 0, 0, 0, 0, 0, 0, 0, 0, 0, 0, 0, 0, 0, 0, 0, 0, 0, 0, 0, 0, 0, 0, 0, 0, 0, 0, 0, 0, 0, 0, 0, 0, 0, 0, 0, 0, 0, 0, 0, 0, 0, 0, 0, 0, 0, 0, 0, 0, 0, 0, 0, 0, 0, 0, 0, 0, 0, 0, 0, 0, 0, 0, 0, 0, 0, 0, 0, 0, 0, 0, 0, 0, 0, 0, 0, 0, 0, 0, 0, 0, 0, 0, 0, 0, 0, 0, 0, 0, 0, 0, 0, 0, 0, 0, 0, 0, 0, 0, 0, 0, 0, 0, 0, 0, 0, 0, 0, 0, 0, 0, 0, 0, 0, 0, 0, 0, 0, 0, 0, 0, 0, 0, 0, 0, 0, 0, 0, 0, 0, 0, 0, 0, 0, 0, 0, 0, 0, 0, 0, 0, 0, 0, 0, 0, 0, 0, 0, 0, 0, 0, 0, 0, 0, 0, 0, 0, 0, 0, 1, 0, 0, 0, 0, 0, 0, 0, 0, 0, 0, 0, 0, 0, 0, 0, 0, 0, 0, 0, 0, 0, 0, 0, 0, 0, 0, 0, 0, 0, 0, 0, 0, 0, 0, 0, 0, 0, 0, 0, 0, 0, 0, 0, 0, 0, 0, 0, 0, 0, 0, 0, 0, 0, 0, 0, 0, 0, 0, 0, 0, 0, 0, 0, 0, 0, 0, 0, 0, 0, 0, 0, 0, 0, 0, 0, 0, 0, 0, 0, 0, 0, 0, 0, 0, 0, 0, 0, 1, 0, 0, 0, 0, 0, 0, 0, 0, 0, 0, 0, 0, 0, 0, 0, 0, 0, 0, 0, 0, 0, 0, 0, 0, 0, 0, 0, 0, 0, 0, 0, 0, 0, 0, 0, 0, 0, 0, 0, 0, 0, 0, 0, 0, 0, 0, 0, 0, 0, 0, 0, 0, 0, 0, 0, 0, 0, 0, 0, 0, 0, 0, 0, 0, 0, 0, 0, 0, 0, 0, 0, 0, 0, 0, 0, 0, 0, 0, 0, 0, 0, 0, 0, 0, 0, 0, 0, 0, 0, 0, 0, 0, 0, 0, 0, 0, 0, 0, 0, 0, 0, 0, 0, 0, 0, 0, 0, 0, 0, 0, 0, 0, 0, 0, 0, 0, 0, 0, 0, 0, 0, 0, 0, 0, 0, 0, 0, 0, 0, 0, 0, 0, 0, 0, 0, 0, 0, 0, 0, 0, 0, 0, 0, 0, 0, 0, 0, 0, 0, 0, 0, 0, 0, 0, 0, 0, 0, 0, 0, 0, 0, 0, 0, 0, 0, 0, 0, 0, 0, 0, 0, 0, 0, 0, 0, 0, 0, 0, 0, 0, 0, 0, 0, 0, 0, 0, 0, 0, 0, 0, 0, 0, 0, 0, 0, 0, 0, 0, 0, 0, 0, 0, 0, 0, 0, 0, 0, 0, 0, 0, 0, 0, 0, 0, 0, 0, 0, 0, 0, 0, 0, 0, 0, 0, 0, 0, 0, 0, 0, 0, 0, 0, 0, 0, 0, 0, 0, 0, 0, 0, 0, 0, 0, 0, 0, 0, 0, 0, 0, 0, 1, 0, 0, 0, 0, 0, 0, 0, 0, 0, 0, 0, 0, 0, 0, 0, 0, 0, 0, 0, 0, 0, 0, 0, 0, 0, 0, 0, 0, 0, 0, 0, 0, 0, 0, 0, 0, 0, 0, 0, 0, 0, 0, 0, 0, 0, 0, 0, 0, 0, 0, 0, 0, 0, 0, 0, 1, 0, 0, 0, 0, 0, 0, 0, 0, 0, 0, 0, 0, 0, 0, 0, 0, 0, 0, 0, 0, 0, 0, 0, 0, 0, 0, 0, 0, 0, 0, 0, 0, 0, 0, 0, 0, 0, 0, 0, 0, 0, 0, 0, 0, 0, 0, 0, 0, 0, 0, 0, 0, 0, 0, 0, 0, 0, 0, 0, 0, 0, 0, 0, 0, 0, 0, 0, 0, 0, 0, 0, 0, 0, 0, 0, 0, 0, 0, 0, 0, 0, 0, 0, 0, 0, 0, 0, 0, 0, 0, 0, 0, 0, 0, 0, 0, 0, 0, 0, 0, 0, 0, 0, 0, 0, 0, 0, 0, 0, 0, 0, 0, 0, 0, 0, 0, 0, 0, 0, 0, 0, 0, 0, 0, 0, 0, 0, 0, 0, 0, 0, 0, 0, 0, 0, 0, 0, 0, 0, 0, 0, 0, 0, 0, 0, 0, 0, 0, 0, 0, 0, 0, 0, 0, 0, 0, 0, 0, 0, 0, 0, 0, 0, 0, 0, 0, 0, 0, 0, 0, 0, 0, 0, 0, 0, 0, 0, 0, 0, 0, 0, 0, 0, 0, 0, 0, 0, 0, 0, 0, 0, 0, 0, 0, 0, 0, 0, 0, 0, 0, 0, 0, 0, 0, 0, 0, 0, 0, 0, 0, 0, 0, 0, 0, 0, 0, 0, 0, 0, 0, 0, 0, 0, 0, 0, 0, 0, 0, 0, 0, 0, 0, 0, 0, 0, 0, 0, 0, 0, 0, 0, 0, 0, 0, 0, 0, 0, 0, 0, 0, 0, 0, 0, 0, 0, 0, 0, 0, 0, 0, 0, 0, 0, 0, 0, 0, 0, 0, 0, 0, 0, 0, 0, 0, 0, 0, 0, 0, 0, 0, 0, 0, 0, 0, 0, 0, 0, 0, 0, 0, 0, 0, 0, 0, 0, 0, 0, 0, 0, 0, 0, 0, 0, 0, 0, 0, 0, 0, 0, 0, 0, 0, 0, 0, 0, 0, 0, 0, 0, 0, 0, 0, 0, 0, 0, 0, 0, 0, 0, 0, 0, 0, 0, 0, 0, 0, 0, 0, 0, 0, 0, 0, 0, 0, 0, 0, 0, 0, 0, 0, 0, 0, 0, 0, 0, 0, 0, 0, 0, 0, 0, 0, 0, 0, 0, 0, 0, 0, 0, 0, 0, 0, 0, 0, 0, 0, 0, 0, 0, 0, 0, 0, 0, 0, 0, 0, 0, 0, 0, 0, 0, 0, 0, 0, 0, 0, 0, 0, 0, 0, 0, 0, 0, 0, 0, 0, 0, 0, 0, 0, 0, 0, 0, 0, 0, 0, 0, 0, 0, 0, 0, 0, 0, 0, 0, 0, 0, 0, 0, 0, 0, 0, 0, 0, 0, 0, 0, 0, 0, 0, 0, 0, 0, 0, 0, 0, 0, 0, 0, 0, 0, 0, 0, 0, 0, 0, 0, 0, 0, 0, 0, 0, 0, 0, 0, 0, 0, 0, 0, 0, 0, 0, 0, 0, 0, 0, 0, 0, 0, 0, 0, 0, 0, 0, 0, 0, 0, 0, 0, 0, 0, 0, 0, 0, 0, 0, 0, 0, 0, 0, 0, 0, 0, 0, 0, 0, 0, 0, 0, 0, 0, 0, 0, 0, 0, 0, 0, 0, 0, 0, 0, 0, 0, 0, 0, 0, 0, 0, 0, 0, 0, 0, 0, 0, 0, 0, 0, 0, 0, 0, 0, 0, 0, 0, 0, 0, 0, 0, 0, 0, 0, 0, 0, 0, 0, 0, 0, 0, 0, 0, 0, 0, 0, 0, 0, 0, 0, 0, 0, 0, 0, 0, 0, 0, 0, 0, 0, 0, 0, 0, 0, 0, 0, 0, 0, 0, 0, 0, 0, 0, 0, 0, 0, 0, 0, 0, 0, 0, 0, 0, 0, 0, 0, 0, 0, 0, 0, 0, 0, 0, 0, 0, 0, 0, 0, 0, 0, 0, 0, 0, 0, 0, 0, 0, 0, 0, 0, 0, 0, 0, 0, 0, 0, 0, 0, 0, 0, 0, 0, 0, 0, 0, 0, 0, 0, 0, 0, 0, 0, 0, 0, 0, 0, 0, 0, 0, 0, 0, 0, 0, 0, 0, 0, 0, 0, 0, 0, 0, 0, 0, 0, 0, 0, 0, 0, 0, 0, 0, 0, 0, 0, 1, 0, 0, 0, 0, 0, 0, 0, 0, 0, 0, 0, 0, 0, 0, 0, 0, 0, 0, 0, 0, 0, 0, 0, 0, 0, 0, 0, 0, 0, 0, 0, 0, 0, 0, 0, 0, 0, 0, 0, 0, 0, 0, 0, 0, 0, 0, 0, 0, 0, 0, 0, 0, 0, 0, 0, 0, 0, 0, 0, 0, 0, 0, 0, 0, 0, 0, 0, 0, 0, 0, 0, 0, 0, 0, 1, 0, 0, 0, 0, 0, 0, 0, 0, 0, 0, 0, 0, 0, 0, 0, 0, 0, 0, 0, 0, 1, 0, 0, 1, 0, 0, 0, 0, 0, 0, 0, 0, 0, 0, 0, 0, 0, 0, 0, 0, 0, 0, 0, 0, 0, 0, 0, 0, 0, 0, 0, 0, 0, 0, 0, 0, 0, 0, 0, 0, 0, 0, 0, 0, 0, 0, 0, 0, 0, 0, 0, 0, 0, 0, 0, 0, 0, 0, 0, 0, 0, 0, 0, 0, 0, 0, 0, 0, 0, 0, 0, 0, 0, 0, 0, 0, 0, 0, 0, 0, 0, 0, 0, 0, 0, 0, 0, 0, 0, 0, 0, 0, 0, 0, 0, 0, 0, 0, 0, 0, 0, 0, 0, 0, 0, 0, 0, 0, 0, 0, 0, 0, 0, 0, 0, 0, 0, 0, 0, 0, 0, 0, 0, 0, 0, 0, 0, 0, 0, 0, 0, 0, 0, 0, 0, 0, 0, 0, 0, 0, 0, 0, 0, 0, 0, 0, 0, 0, 0, 0, 0, 0, 0, 0, 0, 0, 0, 0, 0, 0, 0, 0, 0, 0, 0, 0, 0, 0, 0, 0, 0, 0, 0, 0, 0, 0, 0, 0, 0, 0, 0, 0, 0, 0, 0, 0, 0, 0, 0, 0, 0, 0, 0, 0, 0, 0, 0, 0, 0, 0, 0, 0, 0, 0, 0, 0, 0, 0, 0, 0, 0, 0, 0, 0, 0, 0, 0, 0, 0, 0, 0, 0, 0, 0, 0, 0, 0, 0, 0, 0, 0, 0, 0, 0, 0, 0, 0, 0, 0, 0, 0, 0, 0, 0, 0, 0, 0, 0, 0, 0, 0, 0, 0, 0, 0, 0, 0, 0, 0, 0, 0, 0, 0, 0, 0, 0, 0, 0, 0, 0, 0, 0, 0, 0, 0, 0, 0, 0, 0, 0, 0, 0, 0, 0, 0, 0, 0, 0, 0, 0, 0, 0, 0, 0, 0, 0, 0, 0, 0, 0, 0, 0, 0, 0, 0, 0, 0, 0, 0, 0, 0, 0, 0, 0, 0, 0, 0, 0, 0, 0, 0, 0, 0, 0, 0, 0, 0, 0, 0, 0, 0, 0, 0, 0, 0, 0, 0, 0, 0, 0, 0, 0, 0, 0, 0, 0, 0, 0, 0, 0, 0, 0, 0, 0, 0, 0, 0, 0, 0, 0, 0, 0, 0, 0, 0, 0, 0, 0, 0, 0, 0, 0, 0, 0, 0, 0, 0, 0, 0, 0, 0, 0, 0, 0, 0, 0, 0, 0, 0, 0, 0, 0, 0, 0, 0, 0, 0, 0, 0, 0, 0, 0, 0, 0, 0, 0, 0, 0, 0, 0, 0, 0, 0, 0, 0, 0, 0, 0, 0, 0, 0, 0, 0, 0, 0, 0, 0, 0, 0, 0, 0, 0, 0, 0, 0, 0, 0, 0, 0, 0, 0, 0, 0, 0, 0, 0, 0, 0, 0, 0, 0, 0, 0, 0, 0, 0, 0, 0, 0, 0, 0, 0, 0, 0, 0, 0, 0, 0, 0, 0, 1, 0, 0, 0, 0, 0, 0, 0, 0, 0, 0, 0, 0, 0, 0, 0, 0, 0, 0, 0, 0, 0, 0, 0, 0, 0, 0, 0, 0, 0, 0, 0, 0, 0, 0, 0, 0, 0, 0, 0, 0, 0, 0, 0, 0, 0, 0, 0, 0, 0, 0, 0, 0, 0, 0, 0, 0, 0, 0, 0, 0, 0, 0, 0, 0, 0, 0, 0, 0, 0, 0, 0, 0, 0, 0, 0, 0, 0, 0, 0, 0, 0, 0, 0, 0, 0, 0, 0, 0, 0, 0, 0, 0, 0, 0, 0, 0, 0, 0, 0, 0, 0, 0, 0, 0, 0, 0, 0, 0, 0, 0, 0, 0, 0, 0, 0, 0, 0, 0, 0, 0, 0, 0, 0, 0, 0, 0, 0, 0, 0, 0, 0, 0, 0, 0, 0, 0, 0, 0, 0, 0, 0, 0, 0, 0, 0, 0, 0, 0, 0, 0, 0, 0, 0, 0, 0, 0, 0, 0, 0, 0, 0, 0, 0, 0, 0, 0, 0, 0, 0, 0, 0, 0, 0, 0, 0, 0, 0, 0, 0, 0, 0, 0, 0, 0, 0, 0, 0, 0, 0, 0, 0, 0, 0, 0, 0, 0, 0, 0, 0, 0, 0, 0, 0, 0, 0, 0, 0, 0, 0, 0, 0, 0, 0, 0, 0, 0, 0, 0, 0, 0, 0, 0, 0, 0, 0, 0, 0, 0, 0, 0, 0, 0, 0, 0, 0, 0, 0, 0, 0, 0, 0, 0, 0, 0, 0, 0, 0, 0, 0, 0, 0, 0, 0, 0, 0, 0, 0, 0, 0, 0, 0, 0, 0, 0, 0, 0, 0, 0, 0, 0, 0, 0, 0, 0, 0, 0, 0, 0, 0, 0, 0, 0, 0, 0, 0, 0, 0, 0, 0, 0, 0, 0, 0, 0, 0, 0, 0, 0, 0, 0, 0, 0, 0, 0, 0, 0, 0, 0, 0, 0, 0, 0, 0, 0, 0, 0, 0, 0, 0, 0, 0, 0, 0, 0, 0, 0, 0, 0, 0, 0, 0, 0, 0, 0, 0, 0, 0, 0, 0, 0, 0, 0, 0, 0, 0, 0, 0, 0, 0, 0, 0, 0, 0, 0, 0, 0, 0, 0, 0, 0, 0, 0, 0, 0, 0, 0, 0, 0, 0, 0, 0, 0, 0, 0, 0, 0, 0, 0, 0, 0, 0, 0, 0, 0, 0, 0, 0, 0, 0, 0, 0, 0, 0, 0, 0, 0, 0, 0, 0, 0, 0, 0, 0, 0, 0, 0, 0, 0, 0, 0, 0, 0, 0, 0, 0, 0, 0, 0, 0, 0, 0, 0, 0, 0, 0, 0, 0, 0, 0, 0, 0, 0, 0, 0, 0, 0, 0, 0, 0, 0, 0, 0, 0, 0, 0, 0, 0, 0, 0, 0, 0, 0, 0, 0, 0, 0, 0, 0, 0, 0, 0, 0, 0, 0, 0, 0, 0, 0, 0, 0, 0, 0, 0, 0, 0, 0, 0, 0, 0, 0, 0, 0, 0, 0, 0, 0, 0, 0, 0, 0, 0, 0, 0, 0, 0, 0, 0, 0, 0, 0, 0, 0, 0, 0, 0, 0, 0, 0, 0, 0, 0, 1, 0, 0, 0, 0, 0, 0, 0, 0, 0, 0, 0, 0, 0, 0, 0, 0, 0, 0, 0, 0, 0, 0, 0, 0, 0, 0, 0, 0, 0, 0, 0, 0, 0, 0, 0, 2, 0, 0, 0, 0, 0, 0, 0, 0, 0, 0, 0, 0, 0, 0, 0, 0, 0, 0, 0, 0, 0, 0, 0, 0, 0, 0, 0, 0, 0, 0, 0, 0, 0, 0, 0, 0, 0, 0, 0, 0, 1, 0, 0, 0, 0, 0, 0, 0, 0, 0, 0, 0, 0, 0, 0, 0, 0, 0, 0, 0, 0, 0, 0, 0, 0, 0, 0, 0, 0, 0, 0, 0, 0, 0, 0, 0, 0, 0, 0, 0, 0, 0, 0, 0, 0, 0, 0, 0, 0, 0, 0, 0, 0, 0, 0, 0, 0, 0, 0, 0, 0, 0, 0, 0, 0, 0, 0, 0, 0, 0, 0, 0, 0, 0, 0, 0, 0, 0, 0, 0, 0, 0, 0, 0, 0, 0, 0, 0, 0, 0, 0, 0, 0, 0, 0, 0, 0, 0, 0, 0, 0, 0, 0, 0, 0, 0, 0, 0, 0, 0, 0, 0, 0, 0, 0, 0, 0, 0, 0, 0, 0, 0, 0, 0, 0, 0, 0, 0, 0, 0, 0, 0, 0, 0, 0, 0, 0, 0, 0, 0, 0, 0, 0, 0, 0, 0, 0, 0, 0, 0, 0, 0, 0, 0, 0, 0, 0, 0, 0, 0, 0, 0, 0, 0, 0, 0, 0, 0, 0, 0, 0, 0, 0, 0, 0, 0, 0, 0, 0, 0, 0, 0, 0, 0, 0, 0, 0, 0, 0, 0, 0, 0, 0, 0, 0, 0, 0, 0, 0, 0, 0, 0, 0, 0, 0, 0, 0, 0, 0, 0, 0, 0, 0, 0, 0, 0, 0, 0, 0, 0, 0, 0, 0, 0, 0, 0, 0, 0, 0, 0, 0, 0, 0, 0, 0, 0, 0, 0, 0, 0, 0, 0, 0, 0, 0, 0, 0, 0, 0, 0, 0, 0, 0, 0, 0, 0, 0, 0, 0, 0, 0, 0, 0, 0, 0, 0, 0, 0, 0, 0, 0, 0, 0, 0, 0, 0, 0, 0, 0, 0, 0, 0, 0, 0, 0, 0, 0, 0, 0, 0, 0, 0, 0, 0, 0, 0, 0, 0, 0, 0, 0, 0, 0, 0, 0, 0, 0, 0, 0, 0, 0, 0, 0, 0, 0, 0, 0, 0, 0, 0, 0, 0, 0, 0, 0, 0, 0, 0, 0, 0, 0, 0, 0, 0, 0, 0, 0, 0, 0, 0, 0, 0, 0, 0, 0, 0, 0, 0, 0, 0, 0, 0, 0, 0, 0, 0, 0, 0, 0, 0, 0, 0, 0, 0, 0, 0, 0, 0, 0, 0, 0, 0, 0, 0, 0, 0, 0, 0, 0, 0, 0, 0, 0, 0, 0, 0, 0, 0, 0, 0, 0, 0, 0, 0, 0, 0, 0, 0, 0, 0, 0, 0, 0, 0, 0, 0, 0, 0, 0, 0, 0, 0, 0, 0, 0, 0, 0, 0, 0, 0, 0, 0, 0, 0, 0, 0, 0, 0, 0, 0, 0, 0, 0, 0, 0, 0, 0, 0, 0, 0, 0, 0, 0, 0, 0, 0, 0, 0, 0, 0, 0, 0, 0, 0, 0, 0, 0, 0, 0, 0, 0, 0, 0, 0, 0, 0, 0, 0, 0, 0, 0, 0, 0, 0, 0, 0, 0, 0, 0, 0, 0, 0, 0, 0, 0, 0, 0, 0, 0, 0, 0, 0, 0, 0, 0, 0, 0, 0, 1, 0, 0, 0, 0, 0, 0, 0, 0, 0, 0, 0, 0, 0, 0, 0, 0, 0, 0, 0, 0, 0, 0, 0, 0, 0, 0, 0, 0, 0, 0, 0, 0, 0, 0, 0, 0, 0, 0, 0, 0, 0, 0, 0, 0, 0, 0, 0, 0, 0, 0, 0, 0, 0, 0, 0, 0, 0, 0, 0, 0, 0, 0, 0, 0, 0, 0, 0, 0, 0, 0, 0, 0, 0, 0, 0, 0, 0, 0, 0, 0, 0, 0, 0, 0, 0, 0, 0, 0, 0, 0, 0, 0, 0, 0, 0, 0, 0, 0, 0, 0, 0, 0, 0, 0, 0, 0, 0, 0, 0, 0, 2, 0, 0, 0, 0, 0, 0, 0, 0, 0, 0, 0, 0, 0, 0, 0, 0, 0, 0, 0, 0, 0, 0, 0, 0, 0, 0, 0, 0, 0, 0, 0, 0, 0, 0, 0, 0, 0, 0, 0, 0, 0, 0, 0, 0, 0, 0, 0, 0, 0, 0, 0, 0, 0, 0, 0, 0, 0, 0, 0, 0, 0, 0, 0, 0, 0, 0, 0, 0, 0, 0, 0, 0, 0, 0, 0, 0, 0, 0, 0, 0, 0, 0, 0, 0, 0, 0, 0, 0, 0, 0, 0, 0, 0, 0, 0, 0, 0, 0, 0, 0, 0, 0, 0, 0, 0, 0, 0, 0, 0, 0, 0, 0, 0, 0, 0, 0, 0, 0, 0, 0, 0, 0, 0, 0, 0, 0, 0, 0, 0, 0, 0, 0, 0, 0, 0, 0, 0, 0, 0, 0, 0, 0, 0, 0, 0, 0, 0, 0, 0, 0, 0, 0, 0, 0, 0, 0, 0, 0, 0, 0, 0, 0, 0, 0, 0, 0, 0, 0, 0, 0, 0, 0, 0, 0, 0, 0, 0, 0, 0, 0, 0, 0, 0, 0, 0, 0, 0, 0, 0, 0, 0, 0, 0, 0, 0, 0, 0, 0, 0, 0, 0, 0, 0, 0, 0, 0, 0, 0, 0, 0, 0, 0, 0, 0, 0, 0, 0, 0, 0, 0, 0, 0, 0, 0, 0, 0, 0, 0, 0, 0, 0, 0, 0, 0, 0, 0, 0, 0, 0, 0, 0, 0, 0, 0, 0, 0, 0, 0, 0, 0, 0, 0, 0, 0, 0, 0, 0, 0, 0, 0, 0, 0, 0, 0, 0, 0, 0, 0, 0, 0, 0, 0, 0, 0, 0, 0, 0, 0, 0, 0, 0, 0, 0, 0, 0, 0, 0, 0, 0, 0, 0, 0, 0, 0, 0, 0, 0, 0, 0, 0, 0, 0, 0, 0, 0, 0, 0, 0, 0, 0, 0, 0, 0, 0, 0, 0, 0, 0, 0, 0, 0, 0, 0, 0, 0, 0, 0, 0, 0, 0, 0, 0, 0, 0, 0, 0, 0, 0, 0, 0, 0, 0, 0, 0, 0, 0, 0, 0, 0, 0, 0, 0, 0, 0, 0, 0, 0, 0, 0, 0, 0, 0, 0, 0, 0, 0, 0, 0, 0, 0, 0, 0, 0, 0, 0, 0, 0, 0, 0, 0, 0, 0, 0, 0, 0, 0, 0, 0, 0, 0, 0, 0, 0, 0, 0, 0, 0, 0, 0, 0, 0, 0, 0, 0, 0, 0, 0, 0, 0, 0, 0, 0, 0, 0, 0, 0, 0, 0, 0, 0, 0, 0, 0, 0, 0, 0, 0, 0, 0, 0, 0, 0, 0, 0, 0, 0, 0, 0, 0, 0, 0, 0, 0, 0, 0, 0, 0, 0, 0, 0, 0, 0, 0, 0, 0, 0, 0, 0, 0, 0, 0, 0, 0, 0, 0, 0, 0, 0, 0, 0, 0, 0, 0, 0, 0, 0, 0, 0, 0, 0, 0, 0, 0, 0, 0, 0, 0, 0, 0, 0, 0, 0, 0, 0, 0, 0, 0, 0, 0, 0, 0, 0, 0, 0, 0, 0, 0, 0, 0, 0, 0, 0, 0, 0, 0, 0, 0, 0, 0, 0, 0, 0, 0, 0, 0, 0, 0, 0, 0, 0, 0, 0, 0, 0, 0, 0, 0, 0, 0, 0, 0, 0, 0, 0, 0, 0, 0, 0, 0, 0, 0, 0, 0, 0, 0, 0, 0, 0, 0, 0, 0, 0, 0, 0, 0, 0, 0, 0, 0, 0, 0, 0, 0, 0, 0, 0, 0, 0, 0, 0, 0, 0, 0, 0, 0, 0, 0, 0, 0, 0, 0, 0, 0, 0, 0, 0, 0, 0, 0, 0, 0, 0, 0, 0, 0, 0, 0, 0, 0, 0, 0, 0, 0, 0, 0, 0, 0, 0, 0, 0, 0, 0, 0, 0, 0, 0, 0, 0, 0, 0, 0, 0, 0, 0, 0, 0, 0, 0, 0, 0, 0, 0, 0, 0, 0, 0, 0, 0, 0, 0, 0, 0, 0, 0, 0, 0, 0, 0, 0, 0, 0, 0, 0, 0, 0, 0, 0, 0, 0, 0, 0, 0, 0, 0, 0, 0, 0, 0, 0, 0, 0, 0, 0, 0, 0, 0, 0, 0, 0, 0, 0, 1, 0, 0, 0, 0, 0, 0, 0, 0, 0, 0, 0, 0, 0, 0, 0, 0, 0, 0, 0, 0, 0, 0, 0, 0, 0, 0, 0, 0, 0, 0, 0, 0, 0, 0, 0, 0, 0, 0, 0, 0, 0, 0, 0, 0, 0, 0, 0, 0, 0, 0, 0, 0, 0, 0, 0, 0, 0, 0, 0, 0, 0, 0, 0, 0, 0, 0, 0, 0, 0, 0, 0, 0, 0, 0, 0, 0, 0, 0, 0, 0, 0, 0, 0, 0, 0, 0, 0, 0, 0, 0, 0, 0, 0, 0, 0, 0, 0, 0, 0, 0, 0, 0, 0, 0, 0, 0, 0, 1, 0, 0, 0, 0, 0, 0, 0, 0, 0, 0, 0, 0, 0, 0, 0, 0, 0, 0, 0, 0, 0, 0, 0, 0, 0, 0, 0, 0, 0, 0, 0, 0, 0, 0, 0, 0, 0, 0, 0, 0, 0, 0, 0, 0, 0, 0, 0, 0, 0, 0, 0, 0, 0, 0, 0, 0, 0, 0, 0, 0, 0, 0, 0, 0, 0, 0, 0, 0, 0, 0, 0, 0, 0, 0, 0, 0, 0, 0, 0, 0, 0, 0, 0, 0, 0, 0, 0, 0, 0, 0, 0, 0, 0, 0, 0, 0, 0, 0, 0, 0, 0, 0, 0, 0, 0, 0, 0, 0, 0, 0, 0, 0, 0, 0, 0, 0, 0, 0, 0, 0, 0, 0, 0, 0, 0, 0, 0, 0, 0, 0, 0, 0, 0, 0, 0, 0, 0, 0, 0, 0, 0, 0, 0, 0, 0, 0, 0, 0, 0, 0, 0, 0, 0, 0, 0, 0, 0, 0, 0, 0, 0, 0, 0, 0, 0, 0, 0, 0, 0, 0, 0, 0, 0, 0, 0, 0, 0, 0, 0, 0, 0, 0, 0, 0, 0, 0, 0, 0, 0, 0, 0, 0, 0, 0, 0, 0, 0, 0, 0, 0, 0, 0, 0, 0, 0, 0, 0, 0, 0, 0, 0, 0, 0, 0, 0, 0, 0, 0, 0, 0, 0, 0, 0, 0, 0, 0, 0, 0, 0, 0, 0, 0, 0, 0, 0, 0, 0, 0, 0, 0, 0, 0, 0, 0, 0, 0, 0, 0, 0, 0, 0, 0, 0, 0, 0, 0, 0, 0, 0, 0, 0, 0, 0, 0, 0, 0, 0, 0, 0, 0, 0, 0, 0, 0, 0, 0, 0, 0, 0, 0, 0, 0, 0, 0, 0, 0, 0, 0, 0, 0, 0, 0, 0, 0, 0, 0, 0, 0, 0, 0, 0, 0, 0, 0, 0, 0, 0, 0, 0, 0, 0, 0, 0, 0, 0, 0, 0, 0, 0, 0, 0, 0, 0, 0, 0, 0, 0, 0, 0, 0, 0, 0, 0, 0, 0, 0, 0, 0, 0, 0, 0, 0, 0, 0, 0, 0, 0, 0, 0, 0, 0, 0, 0, 0, 0, 0, 0, 0, 0, 0, 0, 0, 0, 0, 0, 0, 0, 0, 0, 0, 0, 0, 0, 0, 0, 0, 0, 0, 0, 0, 0, 0, 0, 0, 0, 0, 0, 0, 0, 0, 0, 0, 0, 0, 0, 0, 0, 0, 0, 0, 0, 0, 0, 0, 0, 0, 0, 0, 0, 0, 0, 0, 0, 0, 0, 0, 0, 0, 0, 0, 0, 0, 0, 0, 0, 0, 0, 0, 0, 0, 0, 0, 0, 0, 0, 0, 0, 0, 0, 0, 0, 0, 0, 0, 0, 0, 0, 0, 0, 0, 0, 0, 0, 0, 0, 0, 0, 0, 0, 0, 0, 0, 0, 0, 2, 0, 1, 0], type: <class 'list'>, valid types: <class 'bytes'>, <class 'bytearray'>, file-like object"
     ]
    }
   ],
   "source": [
    "response = runtime.invoke_endpoint(EndpointName = xgb_predictor.endpoint, # The name of the endpoint we created\n",
    "                                       ContentType = 'text/csv',                     # The data format that is expected\n",
    "                                       Body = test_bow)"
   ]
  },
  {
   "cell_type": "markdown",
   "metadata": {},
   "source": [
    "So why did we get an error?\n",
    "\n",
    "Because we tried to send the endpoint a list of integers but it expected us to send data of type `text/csv`. So, we need to convert it."
   ]
  },
  {
   "cell_type": "code",
   "execution_count": 42,
   "metadata": {},
   "outputs": [],
   "source": [
    "response = runtime.invoke_endpoint(EndpointName = xgb_predictor.endpoint, # The name of the endpoint we created\n",
    "                                       ContentType = 'text/csv',                     # The data format that is expected\n",
    "                                       Body = ','.join([str(val) for val in test_bow]).encode('utf-8'))"
   ]
  },
  {
   "cell_type": "code",
   "execution_count": 43,
   "metadata": {},
   "outputs": [
    {
     "name": "stdout",
     "output_type": "stream",
     "text": [
      "{'ResponseMetadata': {'RequestId': 'd3713c3e-2b22-4290-a223-5d5528fb4cdf', 'HTTPStatusCode': 200, 'HTTPHeaders': {'x-amzn-requestid': 'd3713c3e-2b22-4290-a223-5d5528fb4cdf', 'x-amzn-invoked-production-variant': 'AllTraffic', 'date': 'Tue, 25 Aug 2020 09:28:33 GMT', 'content-type': 'text/csv; charset=utf-8', 'content-length': '13'}, 'RetryAttempts': 0}, 'ContentType': 'text/csv; charset=utf-8', 'InvokedProductionVariant': 'AllTraffic', 'Body': <botocore.response.StreamingBody object at 0x7f7451ae6240>}\n"
     ]
    }
   ],
   "source": [
    "print(response)"
   ]
  },
  {
   "cell_type": "markdown",
   "metadata": {},
   "source": [
    "As we can see, the response from our model is a somewhat complicated looking dict that contains a bunch of information. The bit that we are most interested in is `'Body'` object which is a streaming object that we need to `read` in order to make use of."
   ]
  },
  {
   "cell_type": "code",
   "execution_count": 44,
   "metadata": {},
   "outputs": [
    {
     "name": "stdout",
     "output_type": "stream",
     "text": [
      "0.51087886095\n"
     ]
    }
   ],
   "source": [
    "response = response['Body'].read().decode('utf-8')\n",
    "print(response)"
   ]
  },
  {
   "cell_type": "markdown",
   "metadata": {},
   "source": [
    "Now that we know how to process the incoming user data we can start setting up the infrastructure to make our simple web app work. To do this we will make use of two different services. Amazon's Lambda and API Gateway services.\n",
    "\n",
    "Lambda is a service which allows someone to write some relatively simple code and have it executed whenever a chosen trigger occurs. For example, you may want to update a database whenever new data is uploaded to a folder stored on S3.\n",
    "\n",
    "API Gateway is a service that allows you to create HTTP endpoints (url addresses) which are connected to other AWS services. One of the benefits to this is that you get to decide what credentials, if any, are required to access these endpoints.\n",
    "\n",
    "In our case we are going to set up an HTTP endpoint through API Gateway which is open to the public. Then, whenever anyone sends data to our public endpoint we will trigger a Lambda function which will send the input (in our case a review) to our model's endpoint and then return the result."
   ]
  },
  {
   "cell_type": "markdown",
   "metadata": {},
   "source": [
    "### Setting up a Lambda function\n",
    "\n",
    "The first thing we are going to do is set up a Lambda function. This Lambda function will be executed whenever our public API has data sent to it. When it is executed it will receive the data, perform any sort of processing that is required, send the data (the review) to the SageMaker endpoint we've created and then return the result.\n",
    "\n",
    "#### Part A: Create an IAM Role for the Lambda function\n",
    "\n",
    "Since we want the Lambda function to call a SageMaker endpoint, we need to make sure that it has permission to do so. To do this, we will construct a role that we can later give the Lambda function.\n",
    "\n",
    "Using the AWS Console, navigate to the **IAM** page and click on **Roles**. Then, click on **Create role**. Make sure that the **AWS service** is the type of trusted entity selected and choose **Lambda** as the service that will use this role, then click **Next: Permissions**.\n",
    "\n",
    "In the search box type `sagemaker` and select the check box next to the **AmazonSageMakerFullAccess** policy. Then, click on **Next: Review**.\n",
    "\n",
    "Lastly, give this role a name. Make sure you use a name that you will remember later on, for example `LambdaSageMakerRole`. Then, click on **Create role**."
   ]
  },
  {
   "cell_type": "markdown",
   "metadata": {},
   "source": [
    "#### Part B: Create a Lambda function\n",
    "\n",
    "Now it is time to actually create the Lambda function. Remember from earlier that in order to process the user provided input and send it to our endpoint we need to gather two pieces of information:\n",
    "\n",
    " - The name of the endpoint, and\n",
    " - the vocabulary object.\n",
    "\n",
    "We will copy these pieces of information to our Lambda function after we create it.\n",
    "\n",
    "To start, using the AWS Console, navigate to the AWS Lambda page and click on **Create a function**. When you get to the next page, make sure that **Author from scratch** is selected. Now, name your Lambda function, using a name that you will remember later on, for example `sentiment_analysis_xgboost_func`. Make sure that the **Python 3.6** runtime is selected and then choose the role that you created in the previous part. Then, click on **Create Function**.\n",
    "\n",
    "On the next page you will see some information about the Lambda function you've just created. If you scroll down you should see an editor in which you can write the code that will be executed when your Lambda function is triggered. Collecting the code we wrote above to process a single review and adding it to the provided example `lambda_handler` we arrive at the following.\n",
    "\n",
    "```python\n",
    "# We need to use the low-level library to interact with SageMaker since the SageMaker API\n",
    "# is not available natively through Lambda.\n",
    "import boto3\n",
    "\n",
    "# And we need the regular expression library to do some of the data processing\n",
    "import re\n",
    "\n",
    "REPLACE_NO_SPACE = re.compile(\"(\\.)|(\\;)|(\\:)|(\\!)|(\\')|(\\?)|(\\,)|(\\\")|(\\()|(\\))|(\\[)|(\\])\")\n",
    "REPLACE_WITH_SPACE = re.compile(\"(<br\\s*/><br\\s*/>)|(\\-)|(\\/)\")\n",
    "\n",
    "def review_to_words(review):\n",
    "    words = REPLACE_NO_SPACE.sub(\"\", review.lower())\n",
    "    words = REPLACE_WITH_SPACE.sub(\" \", words)\n",
    "    return words\n",
    "    \n",
    "def bow_encoding(words, vocabulary):\n",
    "    bow = [0] * len(vocabulary) # Start by setting the count for each word in the vocabulary to zero.\n",
    "    for word in words.split():  # For each word in the string\n",
    "        if word in vocabulary:  # If the word is one that occurs in the vocabulary, increase its count.\n",
    "            bow[vocabulary[word]] += 1\n",
    "    return bow\n",
    "\n",
    "\n",
    "def lambda_handler(event, context):\n",
    "    \n",
    "    vocab = \"*** ACTUAL VOCABULARY GOES HERE ***\"\n",
    "    \n",
    "    words = review_to_words(event['body'])\n",
    "    bow = bow_encoding(words, vocab)\n",
    "\n",
    "    # The SageMaker runtime is what allows us to invoke the endpoint that we've created.\n",
    "    runtime = boto3.Session().client('sagemaker-runtime')\n",
    "\n",
    "    # Now we use the SageMaker runtime to invoke our endpoint, sending the review we were given\n",
    "    response = runtime.invoke_endpoint(EndpointName = '***ENDPOINT NAME HERE***',# The name of the endpoint we created\n",
    "                                       ContentType = 'text/csv',                 # The data format that is expected\n",
    "                                       Body = ','.join([str(val) for val in bow]).encode('utf-8')) # The actual review\n",
    "\n",
    "    # The response is an HTTP response whose body contains the result of our inference\n",
    "    result = response['Body'].read().decode('utf-8')\n",
    "    \n",
    "    # Round the result so that our web app only gets '1' or '0' as a response.\n",
    "    result = round(float(result))\n",
    "\n",
    "    return {\n",
    "        'statusCode' : 200,\n",
    "        'headers' : { 'Content-Type' : 'text/plain', 'Access-Control-Allow-Origin' : '*' },\n",
    "        'body' : str(result)\n",
    "    }\n",
    "```"
   ]
  },
  {
   "cell_type": "markdown",
   "metadata": {},
   "source": [
    "Once you have copy and pasted the code above into the Lambda code editor, replace the `**ENDPOINT NAME HERE**` portion with the name of the endpoint that we deployed earlier. You can determine the name of the endpoint using the code cell below."
   ]
  },
  {
   "cell_type": "code",
   "execution_count": 45,
   "metadata": {},
   "outputs": [
    {
     "data": {
      "text/plain": [
       "'xgboost-2020-08-25-08-34-11-816'"
      ]
     },
     "execution_count": 45,
     "metadata": {},
     "output_type": "execute_result"
    }
   ],
   "source": [
    "xgb_predictor.endpoint"
   ]
  },
  {
   "cell_type": "markdown",
   "metadata": {},
   "source": [
    "In addition, you will need to copy the vocabulary dict to the appropriate place in the code at the beginning of the `lambda_handler` method. The cell below prints out the vocabulary dict in a way that is easy to copy and paste."
   ]
  },
  {
   "cell_type": "code",
   "execution_count": 35,
   "metadata": {},
   "outputs": [
    {
     "name": "stdout",
     "output_type": "stream",
     "text": [
      "{'this': 4456, 'one': 3105, 'minute': 2857, 'film': 1715, 'is': 2359, 'arguably': 289, 'the': 4425, 'first': 1735, 'movie': 2924, 'ever': 1538, 'made': 2696, 'other': 3134, 'had': 2002, 'previously': 3387, 'filmed': 1716, 'actions': 102, 'like': 2598, 'motion': 2911, 'photography': 3259, 'of': 3081, 'but': 636, 'brothers': 599, 'developed': 1222, 'equipment': 1511, 'that': 4423, 'advanced': 129, 'medium': 2791, 'at': 331, 'time': 4494, 'course': 1020, 'their': 4430, 'must': 2948, 'have': 2051, 'including': 2263, 'subjects': 4251, 'in': 2256, 'instance': 2303, 'record': 3571, 'leaving': 2556, 'factory': 1623, 'some': 4058, 'whom': 4874, 'struggle': 4230, 'to': 4506, 'hide': 2096, 'camera': 659, 'attempt': 340, 'make': 2712, 'more': 2902, 'entertaining': 1499, 'by': 642, 'animals': 240, 'and': 227, 'la': 2500, 'doesnt': 1308, 'nearly': 2979, 'match': 2761, 'later': 2524, 'films': 1720, 'most': 2907, 'interesting': 2324, 'aspect': 321, 'short': 3943, 'familiar': 1643, 'working': 4944, 'class': 833, 'as': 311, 'subject': 4250, 'choice': 797, 'initial': 2289, 'evidence': 1546, 'curiosity': 1083, 'about': 67, 'all': 188, 'worlds': 4947, 'people': 3220, 'quality': 3483, 'makes': 2715, 'viewing': 4739, 'experiments': 1584, 'immensely': 2242, 'fascinating': 1658, 'today': 4507, 'rating': 3527, 'remember': 3614, 'seeing': 3854, 'shown': 3956, 'several': 3902, 'years': 4979, 'ago': 155, 'on': 3103, 'lifetime': 2593, 'tv': 4608, 'network': 2998, 'thought': 4461, 'it': 2366, 'was': 4804, 'an': 224, 'story': 4203, 'see': 3852, 'again': 147, 'fall': 1637, 'head': 2056, 'over': 3147, 'love': 2668, 'with': 4911, 'behind': 447, 'itself': 2371, 'cast': 710, 'just': 2437, 'much': 2932, 'appealing': 272, 'streep': 4211, 'definitely': 1162, 'top': 4524, 'her': 2084, 'game': 1863, 'picture': 3268, 'she': 3920, 'mrs': 2928, 'accent': 79, 'even': 1533, 'look': 2645, 'shows': 3957, 'pain': 3169, 'hurt': 2201, 'surprise': 4310, 'anger': 235, 'endure': 1475, 'process': 3411, 'its': 2370, 'hard': 2032, 'isnt': 2361, 'my': 2949, 'opinion': 3116, 'performance': 3227, 'better': 472, 'than': 4419, 'oscar': 3131, 'winning': 4898, 'turn': 4603, 'should': 3948, 'third': 4454, 'sam': 3774, 'perfect': 3223, 'michael': 2828, 'for': 1783, 'surprising': 4313, 'reason': 3555, 'wasnt': 4806, 'recognized': 3568, 'academy': 78, 'least': 2553, 'nomination': 3024, 'only': 3108, 'receive': 3561, 'best': 469, 'actress': 106, 'however': 2182, 'did': 1240, 'australian': 357, 'oscars': 3132, 'rate': 3524, 'tells': 4396, 'great': 1963, 'you': 4986, 'get': 1898, 'performances': 3228, 'from': 1839, 'entire': 1502, 'green': 1970, 'disturbing': 1299, 'science': 3813, 'fiction': 1701, 'movies': 2925, '70s': 56, 'still': 4184, 'very': 4722, 'todays': 4508, 'standards': 4141, 'although': 202, 'flawed': 1749, 'little': 2623, 'dated': 1120, 'touch': 4532, 'premise': 3369, 'typical': 4621, 'feel': 1683, 'unsettling': 4677, 'provoking': 3451, 'level': 2583, 'majority': 2711, 'contemporary': 966, 'flicks': 1754, 'because': 432, 'strong': 4225, 'intense': 2315, 'sequences': 3885, 'personally': 3242, 'consider': 950, 'classic': 835, 'new': 3001, 'york': 4985, 'depressing': 1187, 'place': 3281, 'be': 418, 'alive': 187, 'population': 3334, 'total': 4530, 'every': 1539, 'food': 1777, 'product': 3417, 'form': 1797, 'available': 361, 'company': 910, 'heston': 2093, 'shape': 3916, 'plays': 3300, 'cop': 992, 'murder': 2937, 'he': 2055, 'upon': 4682, 'dark': 1116, 'secrets': 3849, 'script': 3831, 'sentimental': 3879, 'times': 4496, 'climax': 849, 'really': 3554, 'come': 886, 'big': 478, 'atmosphere': 333, 'tense': 4402, 'sequence': 3884, 'truly': 4595, 'easily': 1406, 'moments': 2886, 'cinema': 816, 'edward': 1426, 'robinson': 3714, 'ultimately': 4626, 'impressive': 2252, 'his': 2117, 'last': 2520, 'role': 3724, 'theres': 4439, 'too': 4521, 'joseph': 2419, 'blood': 512, 'dr': 1339, 'book': 535, 'inevitable': 2281, 'humanity': 2188, 'no': 3018, 'fancy': 1649, 'space': 4087, 'ships': 3932, 'monsters': 2891, 'our': 3138, 'planet': 3288, 'except': 1556, 'apparently': 270, 'buy': 640, 'into': 2331, 'garbage': 1869, 'moral': 2900, 'if': 2221, 'tried': 4582, 'outrageous': 3144, 'parody': 3191, 'could': 1008, 'possibly': 3350, 'think': 4451, 'wouldnt': 4958, 'close': 853, 'show': 3950, 'tell': 4394, 'whats': 4859, 'going': 1930, 'when': 4861, 'youre': 4992, 'watching': 4814, 'news': 3003, 'talk': 4356, 'who': 4870, 'knows': 2493, 'they': 4441, 'start': 4152, 'out': 3140, 'various': 4713, 'international': 2325, 'stories': 4201, 'seemingly': 3860, 'random': 3512, 'points': 3318, 'odd': 3078, 'man': 2720, 'bigger': 479, 'face': 1616, 'laughing': 2532, 'generally': 1880, 'being': 448, 'creepy': 1053, 'pat': 3207, 'seem': 3858, 'such': 4265, 'bad': 382, 'guy': 1999, 'seems': 3861, 'yet': 4984, 'old': 3098, 'stuck': 4233, 'beliefs': 452, 'has': 2042, 'called': 652, 'offered': 3086, 'aid': 161, 'not': 3038, 'two': 4618, 'murderous': 2940, 'used': 4691, 'money': 2887, 'run': 3752, 'diamond': 1235, 'supported': 4301, 'forced': 1786, 'china': 795, 'straight': 4206, 'american': 214, 'male': 2718, 'particular': 3193, 'are': 285, 'superior': 4297, 'would': 4957, 'funny': 1851, 'large': 2516, 'enough': 1491, 'fan': 1648, 'base': 402, 'keep': 2449, 'air': 165, '40': 48, 'either': 1438, 'or': 3122, 'dont': 1323, 'give': 1911, 'damn': 1101, 'what': 4857, 'becomes': 434, 'realize': 3550, 'somewhere': 4066, 'hanging': 2022, 'onto': 3109, 'word': 4937, 'repeatedly': 3630, 'how': 2180, 'corrupt': 1002, 'listen': 2618, 'him': 2109, 'know': 2489, 'scary': 3804, 'guess': 1988, 'mixture': 2877, 'both': 547, 'brings': 587, 'stylish': 4248, 'direction': 1260, 'manages': 2724, 'create': 1037, '1950s': 13, 'richard': 3684, 'widmark': 4881, 'petty': 3248, 'thief': 4447, 'tough': 4536, 'many': 2731, 'young': 4989, 'jean': 2389, 'peters': 3247, 'piece': 3271, 'wanted': 4788, 'so': 4043, 'property': 3437, 'will': 4885, 'stop': 4197, 'nothing': 3045, 'back': 378, 'girl': 1908, 'up': 4681, 'sent': 3877, 'abusive': 76, 'boyfriend': 558, 'opportunity': 3119, 'shake': 3911, 'down': 1334, 'plot': 3308, 'dying': 1393, 'sense': 3874, 'writing': 4971, 'included': 2261, 'under': 4637, 'intentionally': 2319, 'unbelievable': 4632, 'frequently': 1831, 'were': 4847, 'hollywood': 2136, 'gives': 1913, 'remarkable': 3611, 'part': 3192, 'gangster': 1867, 'violence': 4746, 'occurs': 3076, 'against': 148, 'we': 4822, 'genuinely': 1891, 'care': 684, 'well': 4842, 'ahead': 160, 'style': 4246, 'happy': 2031, 'ending': 1471, 'necessarily': 2981, 'conclusion': 936, 'ultimate': 4625, 'success': 4262, 'south': 4084, 'street': 4212, 'world': 4946, 'ritter': 3703, 'lady': 2507, 'any': 256, 'way': 4819, 'can': 665, 'whether': 4865, 'selling': 3870, 'acting': 100, 'police': 3321, 'career': 686, 'breathtaking': 574, 'without': 4913, 'directly': 1262, 'sad': 3764, 'characters': 760, 'life': 2591, 'feels': 1686, 'morning': 2904, 'crime': 1056, 'character': 758, 'played': 3296, 'brief': 579, 'instant': 2304, 'emotions': 1461, 'werent': 4848, 'given': 1912, 'chance': 747, 'those': 4459, 'scene': 3806, 'highlight': 2102, '50s': 52, 'period': 3235, 'grade': 1950, 'british': 589, 'comedy': 890, 'simon': 3979, 'laura': 2535, 'peter': 3246, 'brilliant': 583, 'kay': 2447, 'day': 1130, 'stands': 4143, 'finest': 1729, 'examples': 1554, 'particularly': 3194, 'television': 4393, 'become': 433, 'popular': 3332, 'excellent': 1555, 'example': 1553, 'also': 200, 'self': 3866, 'id': 2211, 'never': 2999, 'heard': 2061, 'until': 4678, 'few': 1699, 'nights': 3014, 'caught': 722, 'late': 2522, 'bit': 488, 'simply': 3983, 'difficult': 1248, 'do': 1301, 'pleasantly': 3302, 'surprised': 4311, 'watch': 4810, 'clever': 841, 'satire': 3785, 'fact': 1621, 'been': 438, 'while': 4867, 'since': 3987, 'laughed': 2531, 'recommend': 3569, 'main': 2706, 'actors': 105, 'sally': 3773, 'field': 1703, 'kevin': 2457, 'robert': 3711, 'quite': 3494, 'job': 2405, 'revealing': 3670, 'shallow': 3914, 'business': 633, 'watched': 4812, 'kept': 2456, 'thinking': 4452, 'myself': 2951, 'carries': 699, 'real': 3545, 'probably': 3406, 'sellers': 3869, 'notorious': 3049, 'hiding': 2098, 'true': 4594, 'persona': 3238, 'nobody': 3020, 'knew': 2486, 'person': 3237, 'playing': 3299, 'maggie': 2701, 'earlier': 1399, 'sitcom': 4001, 'opposite': 3121, 'wonder': 4926, 'nervous': 2997, 'feeling': 1684, 'finally': 1723, 'daughter': 1122, 'elizabeth': 1445, 'emotional': 1459, 'moment': 2885, 'fictional': 1702, 'lines': 2611, 'shed': 3921, 'prior': 3399, 'episode': 1507, 'soap': 4044, 'confused': 942, 'dialog': 1231, 'stunning': 4241, 'originality': 3128, 'there': 4437, 'which': 4866, 'together': 4510, 'end': 1468, 'okay': 3097, 'them': 4431, 'anyway': 261, 'right': 3694, 'pace': 3160, 'almost': 194, 'carefully': 689, 'catch': 714, 'sight': 3966, 'gags': 1861, 'subtle': 4257, 'jokes': 2415, 'spend': 4101, 'minutes': 2858, 'your': 4991, 'wont': 4932, 'regret': 3589, 'rest': 3655, 'perform': 3226, 'ive': 2372, 'taken': 4348, 'goldberg': 1932, 'perhaps': 3234, 'funniest': 1850, 'between': 475, 'latter': 2527, 'steals': 4168, 'scenes': 3808, 'others': 3135, 'gets': 1899, 'vote': 4765, 'outstanding': 3146, 'player': 3297, 'kid': 2464, 'term': 4404, 'entirely': 1503, 'death': 1142, 'government': 1947, 'greater': 1964, 'degree': 1164, 'agree': 156, 'chooses': 800, 'placed': 3282, 'cell': 730, 'ass': 323, 'criminal': 1058, 'survived': 4320, 'whatever': 4858, 'want': 4787, 'room': 3733, 'within': 4912, 'cant': 671, 'leave': 2554, 'after': 144, 'days': 1131, 'cut': 1090, 'per': 3222, 'set': 3895, '100': 1, 'sounded': 4079, 'sleep': 4021, 'witch': 4909, 'albeit': 174, 'off': 3082, 'portion': 3337, 'happens': 2028, 'next': 3005, 'ill': 2227, 'let': 2578, 'find': 1725, 'may': 2774, 'here': 2085, 'liked': 2599, 'build': 614, 'intriguing': 2334, 'me': 2777, 'now': 3052, 'half': 2006, 'good': 1936, 'rated': 3525, 'higher': 2100, 'media': 2788, 'dvd': 1391, 'extras': 1608, 'disc': 1277, 'directors': 1265, 'trailers': 4553, 'versus': 4721, 'attack': 337, 'gas': 1873, 'station': 4160, 'deadly': 1134, 'theatrical': 4429, 'commentary': 899, 'crew': 1054, 'interview': 2328, 'making': 2717, 'original': 3127, 'trailer': 4552, 'mike': 2837, 'hammer': 2013, 'harry': 2038, 'contains': 965, 'mickey': 2830, 'novel': 3050, 'imaginative': 2236, 'fine': 1728, 'use': 4690, 'light': 2594, 'shadow': 3909, 'work': 4940, 'john': 2409, 'notch': 3041, 'score': 3819, 'includes': 2262, 'veteran': 4723, 'players': 3298, 'castle': 712, 'memorable': 2801, 'charlotte': 766, 'private': 3403, 'eye': 1611, 'received': 3562, 'opportunities': 3118, 'always': 204, 'title': 4503, 'suggests': 4279, 'effect': 1428, 'war': 4791, 'cusack': 1089, 'traveling': 4566, 'country': 1015, 'help': 2078, 'message': 2818, 'across': 97, 'meets': 2794, 'reporter': 3634, 'lonely': 2642, 'hot': 2173, 'mix': 2875, 'pop': 3329, 'star': 4146, 'named': 2959, 'thrown': 4480, 'important': 2246, 'son': 4067, 'president': 3377, 'subplot': 4252, 'created': 1038, 'where': 4863, 'somewhat': 4065, 'starts': 4155, 'bar': 396, 'fifteen': 1705, 'seconds': 3845, 'amusing': 222, 'insight': 2297, 'politics': 3325, 'running': 3753, 'blows': 517, 'lot': 2660, 'action': 101, 'expected': 1577, 'occasional': 3072, 'choreographed': 801, 'fights': 1709, 'though': 4460, 'deep': 1154, 'simplicity': 3981, 'common': 906, 'critics': 1065, 'alike': 186, 'final': 1721, 'act': 98, 'turns': 4607, 'executed': 1565, 'disagree': 1268, 'understand': 4641, 'why': 4877, 'twist': 4615, 'hit': 2121, 'miss': 2865, 'situation': 4005, 'regardless': 3588, 'three': 4468, 'writers': 4969, 'mark': 2738, 'jeremy': 2394, 'fantastic': 1651, 'creating': 1040, 'realistic': 3548, 'does': 1307, 'integrity': 2310, 'material': 2765, 'afraid': 141, 'happen': 2025, 'crafted': 1030, 'perfectly': 3225, 'harsh': 2039, 'reality': 3549, 'involved': 2345, 'pays': 3217, 'completely': 922, 'hopefully': 2156, 'takes': 4349, 'directorial': 1264, 'jobs': 2406, 'director': 1263, 'rented': 3626, 'promises': 3431, 'william': 4886, 'assumed': 329, 'name': 2958, 'cover': 1023, 'actor': 104, 'sounds': 4081, 'hes': 2092, 'wrong': 4973, 'far': 1653, 'worst': 4952, 'editing': 1421, 'hands': 2019, 'fate': 1665, 'edited': 1420, 'impossible': 2248, 'follow': 1771, '30': 42, 'try': 4598, 'anymore': 258, 'idea': 2212, 'got': 1943, 'maybe': 2775, 'somebody': 4059, 'besides': 468, 'couple': 1017, 'didnt': 1241, 'wanna': 4785, 'poor': 3327, 'confusing': 943, 'storyline': 4204, 'guest': 1991, 'say': 3796, 'warned': 4797, 'melodrama': 2796, 'starring': 4150, 'bergman': 466, 'seen': 3862, 'screen': 3826, 'presence': 3372, 'save': 3791, 'slow': 4028, 'thats': 4424, 'sit': 4000, 'through': 4476, 'fast': 1661, 'die': 1242, 'fans': 1650, 'likely': 2600, 'asleep': 320, 'suggest': 4277, 'bell': 458, 'instead': 2306, 'stays': 4165, 'own': 3157, 'play': 3295, 'laugh': 2528, 'superb': 4293, 'cult': 1078, 'mystery': 2954, 'men': 2804, 'evil': 1548, 'villain': 4743, 'frankenstein': 1821, 'rush': 3756, 'released': 3601, 'mental': 2807, 'captures': 678, 'local': 2633, 'superhero': 4296, 'captain': 674, 'amazing': 210, 'take': 4347, 'city': 825, 'mr': 2927, 'ben': 463, 'stiller': 4185, 'macy': 2694, 'blue': 518, 'hank': 2023, 'rescue': 3641, 'joined': 2413, 'trio': 4585, 'needed': 2986, 'decide': 1148, 'less': 2574, 'unforgettable': 4650, 'team': 4376, 'history': 2120, 'rage': 3504, 'mainly': 2707, 'knife': 2487, 'invisible': 2343, 'boy': 557, 'mitchell': 2874, 'long': 2643, 'wes': 4850, 'heavy': 2069, 'mysterious': 2953, 'break': 569, 'guns': 1997, 'mind': 2848, 'ball': 388, 'paul': 3213, 'ensemble': 1492, 'delivers': 1172, 'laughs': 2533, 'becoming': 435, 'audience': 352, 'dialogue': 1233, 'witty': 4917, 'number': 3058, 'hilarious': 2105, 'especially': 1520, 'throw': 4478, 'pool': 3326, 'party': 3199, 'interviews': 2329, 'another': 250, 'conversation': 981, 'dead': 1133, 'father': 1666, 'whose': 4876, 'actually': 110, 'attempts': 343, 'these': 4440, 'composed': 926, 'humor': 2191, 'secret': 3846, 'keeps': 2451, 'relationships': 3596, 'whole': 4872, 'concept': 930, 'reasonable': 3556, 'somehow': 4060, 'credibility': 1048, 'proceedings': 3409, 'coming': 896, 'slapstick': 4016, 'mere': 2813, 'solid': 4054, 'supporting': 4302, 'lena': 2567, 'eddie': 1416, 'tony': 4520, 'tom': 4513, 'doc': 1302, 'claire': 831, 'louise': 2665, 'mother': 2909, 'lewis': 2585, 'inspired': 2300, 'words': 4938, 'lower': 2676, 'worthy': 4956, 'hardly': 2035, 'treat': 4570, 'yourself': 4993, 'deal': 1136, '10': 0, 'same': 3775, 'god': 1925, 'awful': 372, 'directing': 1259, 'ok': 3096, 'copy': 995, 'youll': 4988, 'spoiled': 4118, 'enjoy': 1484, 'youve': 4995, 'things': 4450, 'different': 1247, 'once': 3104, 'worse': 4951, 'parts': 3198, 'fit': 1739, 'bill': 481, 'believe': 454, 'then': 4435, 'brave': 567, 'demons': 1178, '60s': 54, 'early': 1400, 'baby': 376, 'omen': 3102, 'addition': 119, 'overlooked': 3153, 'elements': 1443, 'came': 656, 'year': 4978, 'measure': 2785, 'model': 2879, 'unable': 4629, 'commit': 904, 'lawyer': 2540, 'initially': 2290, 'neighbor': 2990, 'plus': 3310, 'center': 732, 'awake': 365, 'loud': 2663, 'above': 68, 'apartment': 265, 'soon': 4071, 'discovers': 1280, 'priest': 3391, 'herself': 2091, 'otherwise': 3136, 'building': 615, 'winner': 4897, 'wish': 4904, 'kicks': 2463, 'supernatural': 4299, 'thriller': 4471, 'heroine': 2090, 'makeup': 2716, 'fx': 1857, 'dick': 1238, 'smith': 4035, 'horror': 2167, 'flick': 1753, 'tradition': 4547, 'artist': 307, 'pass': 3200, 'skills': 4011, 'magic': 2702, 'aging': 154, 'proud': 3443, 'performer': 3230, 'known': 2492, 'king': 2479, 'desperate': 1207, 'warmth': 4795, 'paying': 3216, 'dollars': 1314, 'natural': 2971, 'case': 707, 'massive': 2755, '1930s': 11, 'companion': 909, 'live': 2624, 'beautiful': 428, 'monkey': 2888, 'general': 1879, 'discover': 1278, 'child': 789, 'instantly': 2305, 'slave': 4019, 'requires': 3640, 'art': 304, 'inside': 2296, 'touched': 4533, 'culture': 1080, 'opens': 3113, 'western': 4852, 'thousands': 4465, 'drama': 1345, 'dry': 1377, 'technical': 4380, 'transfer': 4557, 'found': 1810, 'sound': 4078, 'levels': 2584, 'video': 4732, 'highly': 2104, 'recommended': 3570, 'stars': 4151, 'single': 3993, 'keaton': 2448, 'finds': 1727, 'minimum': 2855, 'fired': 1734, 'support': 4300, 'roberts': 3712, 'goes': 1929, 'friend': 1834, 'drugs': 1374, 'comes': 891, 'kids': 2467, 'namely': 2960, 'truth': 4597, 'struggles': 4231, 'protect': 3442, 'family': 1645, 'drug': 1373, 'worked': 4941, 'wow': 4962, 'diane': 1237, 'crazy': 1036, 'extremely': 1610, 'convincing': 986, 'suited': 4283, 'responsible': 3654, 'trying': 4599, 'adult': 126, 'mom': 2884, 'younger': 4990, 'worth': 4953, 'swedish': 4333, 'obvious': 3069, 'genre': 1887, 'failed': 1626, 'works': 4945, 'military': 2843, 'computer': 927, 'foreign': 1789, 'criminals': 1059, 'anything': 260, 'ups': 4684, 'usually': 4698, 'something': 4063, 'showed': 3953, 'begin': 442, 'positive': 3345, 'remarks': 3613, 'mention': 2809, 'technically': 4381, 'footage': 1781, 'flying': 1763, 'shot': 3946, 'nice': 3006, 'decent': 1147, 'maria': 2735, 'stiff': 4183, 'usual': 4697, 'using': 4696, 'wooden': 4934, 'laughable': 2529, 'cool': 990, 'special': 4093, 'forces': 1787, 'investigate': 2341, 'said': 3771, 'aside': 315, 'problem': 3407, 'budget': 609, 'experience': 1580, 'frankly': 1822, 'effort': 1432, 'canadian': 667, 'photographer': 3258, 'everyday': 1541, 'metal': 2822, 'etc': 1527, 'us': 4688, 'utterly': 4700, 'merit': 2815, 'glorious': 1920, 'result': 3658, 'focusing': 1768, 'colors': 879, 'present': 3373, 'spot': 4127, 'trash': 4563, 'beauty': 430, 'already': 198, 'wall': 4780, 'interested': 2323, 'areas': 287, 'nature': 2973, 'explain': 1586, 'pictures': 3269, 'ie': 2220, 'workers': 4943, 'places': 3283, 'clothing': 861, 'movements': 2922, 'landscape': 2512, 'landscapes': 2513, 'documentary': 1306, 'images': 2234, 'indeed': 2270, 'jennifer': 2392, 'cinematographer': 819, 'capture': 676, 'essence': 1521, 'photos': 3260, 'purely': 3471, 'cinematic': 818, 'terms': 4405, 'assistant': 326, 'photo': 3256, 'shoots': 3941, 'construction': 961, 'site': 4002, 'project': 3426, 'filmmakers': 1719, 'point': 3315, 'eight': 1436, 'chinese': 796, 'hundreds': 2195, 'similarly': 3977, 'dressed': 1358, 'away': 369, 'color': 877, 'around': 297, 'themes': 4433, 'sounding': 4080, 'image': 2232, 'thousand': 4464, 'charles': 764, 'detective': 1219, 'duke': 1383, 'japanese': 2382, 'businessman': 634, 'sexually': 3907, 'amy': 223, 'sleazy': 4020, 'revenge': 3673, 'everyone': 1542, 'disneys': 1289, 'based': 404, 'jim': 2402, 'morris': 2906, 'former': 1799, 'minor': 2856, 'league': 2548, 'sports': 4126, 'major': 2710, 'debut': 1144, '1999': 27, 'age': 149, '35': 45, 'synopsis': 4342, 'childhood': 790, 'series': 3887, 're': 3533, 'locations': 2635, 'football': 1782, 'texas': 4417, 'passion': 3204, 'baseball': 403, 'segment': 3864, 'jumps': 2432, 'dennis': 1179, 'coach': 868, 'chemistry': 782, 'teacher': 4373, 'lake': 2509, 'high': 2099, 'school': 3810, 'mentioned': 2810, 'attempted': 341, 'struggling': 4232, 'giving': 1914, 'dreams': 1354, 'table': 4344, 'telling': 4395, 'practice': 3362, 'express': 1600, 'speed': 4099, 'throws': 4481, 'agrees': 158, 'win': 4892, 'bay': 416, 'devil': 1227, 'miles': 2842, 'hour': 2175, 'faster': 1662, 'threw': 4469, 'during': 1387, 'contract': 974, 'leaves': 2555, 'decision': 1151, 'stay': 4162, 'comfortable': 892, 'dream': 1353, 'spending': 4102, 'months': 2895, 'home': 2141, 'wife': 4883, 'children': 792, 'signs': 3970, 'begins': 444, 'moves': 2923, 'quickly': 3490, 'below': 462, 'season': 3840, 'winds': 4895, 'chances': 748, 'getting': 1900, 'grow': 1981, 'increasingly': 2267, 'lots': 2661, 'likable': 2597, 'easy': 1410, 'pulling': 3462, 'portraying': 3342, 'professional': 3420, 'timeless': 4495, 'holding': 2129, 'tight': 4491, 'distant': 1294, 'achieve': 93, 'flaws': 1751, 'accurate': 91, 'check': 777, 'closer': 856, 'christian': 808, 'faith': 1633, 'considering': 953, 'left': 2560, 'wing': 4896, 'presumably': 3379, 'done': 1321, 'dramatic': 1347, '20': 29, 'features': 1680, 'information': 2287, 'birth': 486, '12': 3, '14': 6, 'ended': 1470, 'four': 1811, 'lost': 2659, 'thus': 4485, 'throwing': 4479, 'fully': 1846, 'appreciate': 279, 'dvds': 1392, 'aforementioned': 140, 'link': 2612, 'read': 3541, 'titled': 4504, 'havent': 2052, 'hope': 2154, 'overall': 3149, 'portrayal': 3340, 'powerful': 3359, 'testament': 4416, 'power': 3358, 'triumph': 4588, 'ralph': 3509, 'forgotten': 1796, 'masterpiece': 2758, 'fire': 1733, 'ice': 2209, 'rental': 3625, 'thing': 4449, 'sure': 4306, 'cheesy': 781, 'cares': 690, 'stood': 4195, 'test': 4415, 'started': 4153, 'modern': 2881, 'fantasy': 1652, 'battle': 414, 'kings': 2481, 'kidnapped': 2466, 'creatures': 1047, 'sole': 4052, 'survivor': 4322, 'village': 4742, 'yeah': 4977, 'nurse': 3061, 'betty': 474, 'bring': 585, 'enemies': 1476, 'succeeds': 4261, 'handled': 2018, 'terrific': 4408, 'plenty': 3306, 'competent': 917, 'arent': 288, 'gonna': 1935, 'nominated': 3023, 'animation': 242, '3d': 46, 'looks': 2648, 'pretty': 3383, 'backgrounds': 381, 'detailed': 1217, 'drawn': 1350, 'designs': 1203, 'gem': 1876, 'entertain': 1497, 'entertainment': 1500, 'casting': 711, 'unknown': 4666, 'michelle': 2829, 'diana': 1236, 'genius': 1886, 'shes': 3927, 'favor': 1670, 'weve': 4855, 'before': 440, 'genuine': 1890, 'doubt': 1331, 'fighter': 1707, 'beat': 423, 'boxing': 556, 'fails': 1628, 'wants': 4790, 'indie': 2275, 'near': 2977, 'doing': 1311, 'poorly': 3328, 'beats': 426, 'girls': 1910, 'brother': 598, 'tiny': 4499, 'learn': 2549, 'box': 555, 'defend': 1158, 'himself': 2110, 'need': 2985, 'nor': 3030, 'worthwhile': 4955, 'go': 1923, 'cliche': 843, 'complicated': 925, 'falls': 1640, 'douglas': 1333, 'whos': 4875, 'looking': 2647, 'pro': 3405, 'toward': 4538, 'meet': 2792, 'amateur': 207, 'fight': 1706, 'cold': 872, 'believable': 453, 'lives': 2627, 'growing': 1982, 'rough': 3738, 'urban': 4686, 'circumstances': 822, 'physical': 3261, 'position': 3344, 'womens': 4924, 'replaced': 3632, 'peoples': 3221, 'feelings': 1685, 'fighting': 1708, 'paint': 3172, 'larger': 2518, 'respect': 3650, 'discovery': 1281, 'spirit': 4109, 'opera': 3114, 'changed': 750, 'view': 4735, 'yes': 4982, 'exist': 1569, 'line': 2609, 'remembered': 3615, 'suspects': 4326, 'relation': 3593, 'mean': 2778, 'trick': 4580, 'pulled': 3461, 'convince': 984, 'pieces': 3272, 'cinematography': 820, 'smart': 4032, 'alas': 173, 'destruction': 1215, 'blow': 514, 'cuts': 1092, 'pay': 3215, 'attention': 345, 'comments': 901, 'brain': 562, 'capable': 672, 'explaining': 1588, 'existence': 1571, 'plausible': 3294, 'dozen': 1337, 'totally': 4531, 'ways': 4821, 'explained': 1587, 'someones': 4062, 'chess': 783, 'means': 2782, 'painful': 3170, 'terribly': 4407, 'apart': 264, 'blunt': 520, 'rip': 3698, 'books': 536, 'club': 863, 'kill': 2468, 'dealing': 1137, 'kind': 2476, 'blatant': 502, 'robbery': 3709, 'drunk': 1375, 'ride': 3690, 'youd': 4987, 'attraction': 350, 'twists': 4617, 'drinking': 1362, 'grasp': 1959, 'anywhere': 263, 'paper': 3182, 'awesome': 371, 'david': 1125, 'lynch': 2690, 'ones': 3106, 'seek': 3855, 'contrived': 977, 'pseudo': 3453, 'spare': 4089, 'soul': 4076, 'stomach': 4192, 'avoid': 363, 'cost': 1004, 'gave': 1874, 'low': 2675, 'bloody': 513, 'killer': 2470, 'sometimes': 4064, 'felt': 1691, 'someone': 4061, 'move': 2919, 'law': 2537, 'fbi': 1675, 'gripping': 1975, 'slightly': 4026, 'small': 4030, 'eyes': 1613, 'agents': 152, 'james': 2378, 'stewart': 4180, 'puts': 3480, 'everything': 1544, 'else': 1448, 'occasionally': 3073, 'tracks': 4544, 'agent': 151, 'personal': 3239, 'spectacular': 4097, 'showing': 3955, 'cases': 708, 'handle': 2017, 'solve': 4057, 'indian': 2273, 'estate': 1525, 'helped': 2079, 'wwii': 4975, 'communist': 907, 'justice': 2438, 'vaguely': 4704, 'complex': 923, 'stellar': 4170, 'loves': 2673, 'witness': 4914, 'suffer': 4272, 'having': 2053, 'marriage': 2742, 'rocky': 3721, 'problems': 3408, 'caused': 724, 'none': 3026, 'attractive': 351, 'sadly': 3766, 'mentioning': 2811, 'managed': 2722, 'greatest': 1965, 'fabulous': 1615, 'rolled': 3727, 'full': 1845, 'shots': 3947, 'hours': 2176, 'viewers': 4738, 'might': 2834, 'jumping': 2431, 'enjoyed': 1486, 'jimmy': 2403, 'captivating': 675, 'kirk': 2482, 'land': 2511, 'sun': 4289, 'sort': 4074, 'tech': 4379, 'library': 2588, 'despite': 1210, 'answer': 251, 'everyones': 1543, 'questions': 3488, 'talking': 4358, 'hand': 2014, 'mirror': 2860, 'past': 3206, 'viewer': 4737, 'runs': 3754, 'earth': 1403, 'louis': 2664, 'hell': 2076, 'travel': 4565, 'machine': 2692, 'visit': 4754, 'exciting': 1563, 'punishment': 3466, 'exceptionally': 1559, 'normally': 3032, 'logical': 2638, 'inventive': 2340, 'exceptional': 1558, 'ian': 2208, 'am': 205, 'huge': 2184, 'older': 3099, 'countless': 1013, '30s': 44, '40s': 49, 'looked': 2646, 'exactly': 1551, 'ancient': 226, 'lived': 2625, 'promise': 3429, 'excited': 1561, 'styles': 4247, 'ran': 3511, 'flat': 1747, 'angels': 234, 'animated': 241, 'each': 1395, 'regarding': 3587, 'insult': 2308, 'audiences': 353, 'ability': 65, 'figure': 1710, 'defense': 1159, 'biggest': 480, 'spent': 4104, 'exotic': 1574, 'anybody': 257, 'stock': 4189, 'note': 3042, 'sets': 3896, 'graphics': 1958, 'displayed': 1291, 'factor': 1622, 'greatly': 1966, 'christmas': 810, 'beloved': 461, 'able': 66, 'rare': 3521, 'sequel': 3882, 'failure': 1629, 'missed': 2866, 'cash': 709, 'flow': 1761, 'formula': 1801, 'lazy': 2542, 'narrator': 2965, 'americas': 216, 'false': 1641, 'warm': 4793, 'wit': 4908, 'annoying': 249, 'treasure': 4569, 'call': 651, 'helping': 2080, 'white': 4869, 'house': 2177, 'rock': 3718, 'removed': 3622, 'gorgeous': 1941, 'front': 1840, 'trees': 4575, 'system': 4343, 'ripped': 3699, 'disaster': 1275, 'area': 286, 'town': 4540, 'weekend': 4837, 'saw': 3795, 'hear': 2060, 'episodes': 1508, '15': 7, '16': 8, 'scooby': 3817, 'doo': 1324, 'productions': 3419, 'change': 749, 'voice': 4760, 'became': 431, 'frank': 1820, 'fred': 1824, 'changes': 751, 'studio': 4236, 'shorts': 3945, 'ratings': 3528, 'mysteries': 2952, 'wasting': 4809, 'spoilers': 4120, 'gray': 1962, 'matters': 2769, 'centers': 734, 'sister': 3998, 'living': 2628, 'sex': 3904, 'theme': 4432, 'absurd': 74, 'guessed': 1989, 'reactions': 3540, 'decided': 1149, 'dog': 1309, 'park': 3189, 'borrowed': 545, 'rather': 3526, 'push': 3476, 'woman': 4921, 'gritty': 1976, 'date': 1119, 'charlie': 765, 'hits': 2124, 'week': 4836, 'vegas': 4715, 'wedding': 4835, 'tries': 4583, 'picks': 3267, 'continues': 972, 'swear': 4332, 'feed': 1682, 'bag': 384, 'resident': 3645, 'hall': 2008, 'drink': 1361, 'kiss': 2483, 'whatsoever': 4860, 'union': 4659, 'repeat': 3628, 'dating': 1121, 'literally': 2621, 'gay': 1875, 'jerk': 2395, 'taxi': 4369, 'driver': 1366, 'alan': 172, 'returned': 3664, 'friends': 1836, 'clean': 838, 'office': 3089, 'ad': 111, 'middle': 2832, 'twilight': 4612, 'zone': 4999, 'cameras': 660, 'rooms': 3734, 'broadcast': 591, 'ends': 1474, 'lesbian': 2572, 'sorry': 4073, 'says': 3798, 'return': 3663, 'drag': 1341, 'black': 493, 'string': 4223, 'church': 813, 'hat': 2044, 'dress': 1357, 'queen': 3484, 'mans': 2729, 'models': 2880, 'womans': 4922, 'account': 90, 'horrible': 2162, '1st': 28, 'paid': 3168, 'rent': 3624, 'waste': 4807, 'evening': 1534, 'outer': 3142, 'sitting': 4004, 'flop': 1759, 'snow': 4042, 'artistic': 308, 'stereotypes': 4175, 'exaggerated': 1552, 'commercial': 902, 'french': 1829, 'leader': 2545, 'band': 391, 'bands': 392, 'german': 1895, 'sold': 4049, 'vice': 4726, 'clips': 852, 'topic': 4525, 'taking': 4350, 'wide': 4879, 'spread': 4129, 'therefore': 4438, 'order': 3124, 'pulls': 3463, 'opening': 3112, 'cliché': 844, 'funeral': 1848, 'reunion': 3667, 'famous': 1647, 'pick': 3264, 'please': 3303, 'army': 295, 'theatre': 4428, 'group': 1979, 'singers': 3991, 'cheap': 774, 'members': 2800, 'clichés': 846, 'jail': 2376, 'religion': 3605, 'de': 1132, 'interest': 2322, 'along': 196, 'overlook': 3152, 'simplistic': 3982, 'talent': 4352, 'leslie': 2573, 'notes': 3044, 'joan': 2404, 'cute': 1091, 'button': 639, 'closing': 859, 'standard': 4140, 'fare': 1655, 'fun': 1847, 'loving': 2674, 'lovers': 2672, 'music': 2944, 'simple': 3980, 'cage': 645, 'heroes': 2088, 'billy': 482, 'scott': 3821, 'vietnam': 4734, 'references': 3581, 'night': 3011, 'among': 218, 'wonderful': 4928, 'shut': 3958, 'native': 2970, 'guys': 2000, 'supposed': 4304, 'mexican': 2825, 'gang': 1866, 'forever': 1791, 'went': 4846, 'bought': 552, 'beginning': 443, 'poster': 3352, 'immediately': 2241, 'september': 3881, 'element': 1442, 'beautifully': 429, 'often': 3093, 'racial': 3500, 'deliver': 1169, 'joke': 2414, 'remains': 3609, 'sweet': 4334, 'throughout': 4477, 'succeed': 4259, 'relationship': 3595, 'laid': 2508, 'brutal': 603, 'ladies': 2506, 'themselves': 4434, 'brought': 600, 'chest': 784, 'theater': 4426, 'mid': 2831, 'women': 4923, 'filled': 1714, 'laughter': 2534, 'type': 4619, 'steve': 4177, 'remind': 3616, 'boys': 559, 'aged': 150, 'offended': 3083, 'theyre': 4444, 'oh': 3094, 'side': 3962, 'bet': 470, 'dollar': 1313, 'unhappy': 4654, 'finale': 1722, 'european': 1530, 'noir': 3021, 'female': 1692, 'alone': 195, 'gods': 1927, 'producers': 3415, 'depressed': 1186, 'category': 718, 'couples': 1018, 'matter': 2768, 'writes': 4970, 'impression': 2251, 'lifestyle': 2592, 'proves': 3446, 'political': 3323, 'pacino': 3163, 'manage': 2721, 'skip': 4013, 'corruption': 1003, 'amazingly': 211, 'fonda': 1776, 'equally': 1510, 'press': 3378, 'creates': 1039, 'human': 2187, 'wonderfully': 4929, 'written': 4972, 'acted': 99, 'absolutely': 73, 'super': 4292, 'scare': 3800, 'pretending': 3381, 'reminded': 3617, 'afternoon': 145, 'im': 2231, 'presented': 3375, 'manhattan': 2725, 'grew': 1971, 'drive': 1363, 'types': 4620, 'stopped': 4198, 'driving': 1368, 'decades': 1146, '2002': 32, 'pan': 3179, 'trap': 4561, 'indians': 2274, 'portrayed': 3341, 'manner': 2728, 'cause': 723, 'dad': 1096, 'killed': 2469, 'ordinary': 3126, 'wait': 4769, 'seemed': 3859, 'mad': 2695, 'boring': 543, 'nonsensical': 3029, 'promising': 3432, 'develop': 1221, 'tedious': 4386, 'happened': 2026, 'social': 4046, 'co': 867, 'finish': 1731, 'wearing': 4830, 'fairly': 1631, 'dimensional': 1252, 'developing': 1223, 'extent': 1605, 'ego': 1435, 'mtv': 2931, 'awards': 367, 'barely': 399, 'sucked': 4267, 'menace': 2805, 'constant': 958, 'strangely': 4208, 'double': 1330, 'walk': 4774, 'serves': 3892, 'purpose': 3473, 'provide': 3447, 'surprisingly': 4314, 'quick': 3489, 'gory': 1942, 'unbearable': 4631, 'killings': 2473, 'apparent': 269, 'bizarre': 492, 'lack': 2502, 'add': 116, 'lead': 2544, 'willing': 4889, 'irrelevant': 2357, 'nude': 3056, 'shower': 3954, 'nasty': 2966, 'following': 1773, 'banned': 395, 'uk': 4624, '80s': 59, 'mostly': 2908, 'extended': 1604, 'offers': 3088, 'value': 4707, 'worry': 4950, 'ten': 4398, 'woods': 4935, 'victim': 4728, 'obviously': 3070, 'halfway': 2007, 'stand': 4139, 'weapon': 4827, 'scared': 3802, 'gore': 1940, 'possible': 3349, 'non': 3025, 'sci': 3812, 'fi': 1700, 'collection': 874, 'religious': 3606, 'thrillers': 4472, 'dreck': 1356, 'parents': 3187, 'bear': 420, 'predictable': 3366, 'responsibility': 3653, 'embarrassed': 1453, 'discovered': 1279, 'won': 4925, 'search': 3838, 'ashamed': 312, 'trade': 4546, 'crap': 1032, 'zero': 4996, 'sunday': 4290, 'stuff': 4239, 'introduced': 2336, 'naked': 2957, 'babe': 375, 'mail': 2705, 'sisters': 3999, 'dogs': 1310, 'lit': 2620, 'dumb': 1385, 'chick': 786, 'talked': 4357, '2nd': 41, 'moronic': 2905, 'pit': 3277, 'sum': 4286, 'pure': 3470, 'nudity': 3057, 'porn': 3335, 'bat': 410, 'deserved': 1199, 'mst3k': 2930, 'treatment': 4572, 'terror': 4411, 'chases': 771, '1970s': 16, 'hey': 2094, '3000': 43, 'avoided': 364, 'plague': 3284, 'unless': 4667, 'lol': 2639, 'hbo': 2054, 'alfred': 182, 'magazine': 2700, 'seriously': 3889, 'ron': 3732, 'names': 2961, 'credits': 1051, 'surely': 4307, 'associated': 327, 'restored': 3657, 'kick': 2460, 'detail': 1216, 'bugs': 613, 'covered': 1024, 'jaw': 2384, 'dropping': 1371, 'basically': 407, 'seven': 3900, 'samurai': 3776, 'interaction': 2321, 'disney': 1288, 'menacing': 2806, 'hopper': 2160, 'creation': 1041, 'silly': 3973, 'expecting': 1578, 'intellectual': 2311, 'comic': 893, 'jay': 2386, 'moving': 2926, 'certainly': 738, 'jet': 2400, 'li': 2586, 'stephen': 4172, 'produce': 3412, 'thoroughly': 4458, 'surface': 4308, 'candy': 668, 'basketball': 409, 'unreal': 4674, 'dude': 1381, 'wacky': 4768, 'formulaic': 1802, 'suspend': 4327, 'disbelief': 1276, 'kung': 2498, 'fu': 1843, 'signed': 3968, 'subtitles': 4256, 'wise': 4903, 'appear': 273, 'numbers': 3059, 'cried': 1055, 'slick': 4023, 'dig': 1249, 'loved': 2669, 'outcome': 3141, 'knowing': 2490, 'connected': 946, 'rolling': 3728, 'insane': 2295, 'imagine': 2237, 'second': 3843, 'tricks': 4581, 'master': 2756, 'horse': 2169, 'race': 3498, 'filming': 1717, 'controversial': 979, 'colour': 880, 'floor': 1758, 'hadnt': 2003, 'car': 680, 'oil': 3095, 'broke': 593, 'tragic': 4550, 'consequences': 948, 'possessed': 3346, 'effective': 1429, 'issues': 2365, 'moody': 2897, 'potential': 3354, 'previous': 3386, 'insulting': 2309, 'lets': 2579, 'effects': 1431, 'sympathy': 4341, 'recently': 3565, 'appalling': 268, 'drivel': 1364, '2005': 35, 'fest': 1695, 'lame': 2510, 'knock': 2488, 'entertained': 1498, 'settings': 3898, 'followed': 1772, 'involving': 2348, 'foot': 1780, 'put': 3479, 'hero': 2087, 'saving': 3794, 'mediocre': 2790, 'obnoxious': 3065, 'porno': 3336, 'mafia': 2699, 'torture': 4528, 'unfortunately': 4652, 'scenario': 3805, 'redeeming': 3575, 'gratuitous': 1960, 'bother': 548, 'gag': 1860, 'online': 3107, 'literature': 2622, 'ridiculous': 3691, 'movement': 2921, 'development': 1224, 'added': 117, 'holes': 2132, 'honest': 2145, 'write': 4967, 'expect': 1575, 'pathetic': 3209, 'thank': 4420, 'forget': 1792, 'load': 2630, 'imagination': 2235, 'sentence': 3878, 'sell': 3868, 'blame': 499, 'batman': 413, 'rachel': 3499, 'lacks': 2505, 'suspense': 4328, 'water': 4815, 'rotten': 3737, 'tomatoes': 4514, 'criticism': 1064, 'minimal': 2854, 'enthusiasm': 1501, 'storm': 4202, 'jackson': 2375, 'succeeded': 4260, 'taste': 4367, 'blair': 497, 'todd': 4509, 'relative': 3597, 'zombie': 4997, 'lesson': 2576, 'miserable': 2862, 'flesh': 1752, 'eating': 1413, 'zombies': 4998, 'whilst': 4868, 'access': 84, 'shouldnt': 3949, 'length': 2568, 'hasnt': 2043, 'nicely': 3007, 'angles': 237, 'lousy': 2666, 'realise': 3546, 'amateurish': 208, 'extreme': 1609, 'unlikely': 4669, 'anyone': 259, 'aimed': 163, 'currently': 1086, 'incredible': 2268, 'titles': 4505, 'firstly': 1736, 'jerry': 2396, 'larry': 2519, 'secondly': 3844, 'lie': 2589, 'unfortunate': 4651, 'victims': 4729, 'escape': 1517, 'door': 1327, 'waiting': 4771, 'open': 3110, 'walls': 4782, 'raise': 3506, 'rap': 3518, 'tap': 4362, 'screening': 3827, 'reasons': 3558, 'concerned': 932, 'noise': 3022, 'credit': 1050, 'racism': 3501, 'essentially': 1523, 'review': 3674, 'costs': 1005, 'cameos': 658, 'jack': 2373, 'bed': 436, 'chase': 769, 'cameo': 657, 'beach': 419, 'wild': 4884, 'generation': 1882, 'sexual': 3905, 'revolution': 3678, 'quest': 3485, 'conflict': 940, 'seeking': 3856, 'paced': 3161, 'enjoyable': 1485, 'sin': 3985, 'glory': 1921, 'romance': 3730, 'bedroom': 437, 'youth': 4994, 'accepted': 83, 'worthless': 4954, 'peace': 3218, 'rape': 3519, 'beating': 425, 'gone': 1934, 'kicked': 2461, 'beaten': 424, 'fathers': 1667, 'took': 4522, 'stupid': 4244, 'raped': 3520, 'satisfied': 3786, 'pushing': 3478, 'don': 1319, '11': 2, 'fell': 1689, 'vhs': 4724, 'till': 4492, 'raising': 3508, 'victor': 4730, 'heart': 2063, 'teenagers': 4390, 'teen': 4387, 'deals': 1138, 'learns': 2552, 'meaning': 2779, 'fashioned': 1660, 'grandmother': 1954, 'couldnt': 1009, 'stanley': 4144, 'admire': 122, 'jane': 2380, 'niro': 3017, 'portrays': 3343, 'gold': 1931, 'elderly': 1440, 'bette': 471, 'told': 4512, 'disease': 1284, 'extra': 1606, 'interpretation': 2327, 'page': 3166, 'madness': 2697, 'silent': 3972, 'university': 4665, '25': 40, 'reveals': 3671, 'frightening': 1838, 'aspects': 322, 'punk': 3467, 'handful': 2016, 'visually': 4757, 'exception': 1557, 'species': 4094, 'control': 978, 'bodies': 526, 'causes': 725, 'enjoyment': 1488, 'revolves': 3680, 'shy': 3959, 'affair': 136, 'vs': 4766, 'compared': 912, 'creature': 1046, 'elaborate': 1439, 'splatter': 4114, 'obsessed': 3067, 'victoria': 4731, 'brand': 565, 'clear': 839, 'united': 4662, 'buck': 605, 'gain': 1862, 'england': 1482, 'america': 213, 'rule': 3750, 'cringe': 1060, 'red': 3574, 'desperately': 1208, 'arm': 292, 'million': 2846, 'stunt': 4242, 'husband': 2203, 'mistake': 2870, 'importance': 2245, 'grace': 1949, 'learning': 2551, 'complain': 919, 'constantly': 959, 'hint': 2111, 'luck': 2680, 'fay': 1674, 'ann': 244, 'lee': 2558, 'terrible': 4406, 'unconvincing': 4636, 'reviewer': 3675, 'thin': 4448, 'scenery': 3807, 'hold': 2128, 'whenever': 4862, 'eat': 1411, 'facing': 1620, 'needless': 2987, 'emily': 1456, 'wears': 4831, 'impressed': 2250, 'transition': 4559, 'sides': 3964, 'vulnerable': 4767, 'mistakes': 2872, 'prince': 3395, 'albert': 175, 'share': 3917, 'happening': 2027, 'lord': 2651, 'richardson': 3686, 'sir': 3997, 'focused': 1766, 'impact': 2243, 'tend': 4399, 'princess': 3396, 'rose': 3736, 'costumes': 1007, 'adds': 120, 'unlike': 4668, 'lose': 2653, 'saying': 3797, 'turning': 4606, 'appreciation': 281, 'significant': 3969, 'crisis': 1061, 'twenty': 4610, 'emphasis': 1463, 'gordon': 1939, 'gotten': 1946, 'woody': 4936, 'starred': 4149, 'portrait': 3338, 'conflicts': 941, 'award': 366, 'berlin': 467, 'festival': 1696, 'inferior': 2284, 'influence': 2285, 'comparison': 914, 'mentally': 2808, 'disturbed': 1298, 'background': 380, 'artists': 309, 'haunted': 2049, 'ghost': 1901, 'alcoholic': 178, 'stage': 4135, 'manager': 2723, 'alcohol': 177, 'chain': 741, 'smoking': 4037, 'merely': 2814, 'compelling': 916, 'resolution': 3647, 'daring': 1115, 'recent': 3564, 'hurts': 2202, 'fever': 1698, 'universe': 4664, 'choices': 798, 'bargain': 400, 'bin': 483, 'makers': 2714, 'creative': 1042, 'fake': 1635, 'body': 527, 'thrill': 4470, 'props': 3438, 'dubbed': 1379, 'allowing': 192, 'guts': 1998, 'island': 2360, 'captured': 677, 'combat': 882, 'inane': 2257, 'mindless': 2850, 'likes': 2601, 'ex': 1549, 'girlfriend': 1909, 'grand': 1952, 'luke': 2686, 'wilson': 4891, 'unique': 4660, 'strip': 4224, 'expectations': 1576, 'negative': 2989, 'version': 4719, 'ask': 316, 'drew': 1360, 'necessary': 2982, 'sport': 4125, 'comment': 898, 'heres': 2086, 'current': 1085, 'release': 3600, 'revolutionary': 3679, 'visuals': 4758, 'badly': 383, 'summer': 4288, 'established': 1524, 'advertising': 133, 'technology': 4384, 'display': 1290, 'dull': 1384, 'blowing': 515, 'visual': 4756, 'importantly': 2247, 'logic': 2637, 'van': 4711, 'brilliantly': 584, 'wealthy': 4826, 'member': 2799, 'vivid': 4759, 'asian': 314, 'cannot': 670, 'recall': 3560, 'shall': 3913, 'al': 171, 'environment': 1505, 'folks': 1770, 'hook': 2151, 'state': 4156, '70': 55, 'lincoln': 2607, 'buddies': 607, 'continue': 970, 'attend': 344, 'huh': 2186, 'flaw': 1748, 'scientists': 3816, 'global': 1919, 'warming': 4794, 'scientist': 3815, 'hundred': 2194, 'toilet': 4511, 'june': 2433, '50': 51, '60': 53, 'questionable': 3487, 'thirty': 4455, 'decides': 1150, 'according': 89, 'suit': 4281, 'usa': 4689, 'produced': 3413, 'aka': 169, 'india': 2272, 'situations': 4006, 'warning': 4799, 'pet': 3245, 'leads': 2547, 'nowhere': 3054, 'loses': 2656, 'corny': 998, 'cat': 713, 'thinks': 4453, 'wanting': 4789, 'road': 3707, 'truck': 4593, 'screenwriter': 3830, 'pointless': 3317, 'unfunny': 4653, 'carry': 700, 'ground': 1978, 'deserve': 1198, 'falling': 1639, 'actual': 109, 'kills': 2474, '90': 60, 'six': 4007, 'favorite': 1671, 'comedies': 889, 'admit': 123, 'difference': 1245, 'attached': 336, 'affect': 137, 'list': 2616, 'kidding': 2465, 'thanks': 4422, 'channel': 753, 'disappointment': 1274, 'advice': 134, 'bunch': 623, 'unoriginal': 4671, 'carradine': 695, '1984': 23, 'wasted': 4808, 'cheated': 775, 'eventually': 1537, 'soldier': 4050, 'receives': 3563, 'cards': 683, 'troops': 4589, 'card': 681, 'ray': 3531, 'happiness': 2030, 'motivation': 2912, 'familys': 1646, 'serious': 3888, 'distance': 1293, 'france': 1815, 'spoiler': 4119, 'alert': 179, 'gradually': 1951, 'attracted': 349, 'marry': 2744, 'fond': 1775, 'plans': 3291, 'thrilling': 4473, 'eve': 1532, 'service': 3893, 'speak': 4090, 'outside': 3145, 'broken': 594, 'hearted': 2064, 'breaks': 571, 'slowly': 4029, 'practically': 3361, 'behavior': 446, 'language': 2515, 'disappointed': 1272, 'weak': 4823, 'hill': 2107, 'abandoned': 62, 'dragged': 1342, 'satisfying': 3788, 'mess': 2817, 'strange': 4207, 'doll': 1312, 'wicked': 4878, 'edge': 1418, 'steps': 4173, 'fits': 1740, 'weird': 4840, 'sake': 3772, 'bore': 540, 'golden': 1933, 'critic': 1062, 'reviews': 3677, 'murphy': 2942, 'shines': 3929, 'everybody': 1540, 'mountains': 2916, 'jake': 2377, 'sullivan': 4285, 'remote': 3620, 'winter': 4900, 'accidentally': 86, 'scares': 3803, 'figures': 1712, 'eerie': 1427, 'explicit': 1591, 'unexpected': 4648, 'annoyed': 248, 'pushed': 3477, 'ignore': 2223, 'society': 4047, 'african': 143, 'americans': 215, 'aware': 368, 'skin': 4012, 'married': 2743, 'pity': 3280, 'plight': 3307, 'depression': 1188, 'providing': 3450, 'fascinated': 1657, 'complete': 921, 'sub': 4249, 'propaganda': 3434, 'surprises': 4312, 'acts': 108, 'convincingly': 987, 'wood': 4933, 'steven': 4178, 'seagal': 3836, 'singer': 3990, 'wolf': 4920, 'par': 3183, 'relate': 3591, 'focus': 1765, 'obsession': 3068, 'exercise': 1568, 'suffering': 4274, 'device': 1226, 'gruesome': 1985, 'bonus': 534, 'incredibly': 2269, 'illogical': 2230, 'river': 3705, 'fly': 1762, 'norman': 3033, 'brad': 560, 'pitt': 3279, 'craig': 1031, 'sons': 4070, 'describes': 1195, 'separate': 3880, 'touching': 4535, 'certain': 737, 'memory': 2803, 'charming': 768, 'fatal': 1664, 'memories': 2802, 'count': 1011, 'fish': 1737, 'rise': 3700, 'rocks': 3720, 'basement': 405, 'waters': 4816, 'holmes': 2138, 'argument': 291, 'closed': 854, 'rogers': 3723, 'london': 2640, 'bank': 394, 'tracy': 4545, 'parker': 3190, 'entry': 1504, 'subsequent': 4254, 'relatives': 3599, 'sorts': 4075, 'murders': 2941, 'plain': 3285, 'dialogs': 1232, 'humorous': 2192, 'ed': 1415, 'uwe': 4701, 'boll': 529, 'hong': 2148, 'kong': 2494, 'fill': 1713, 'empty': 1465, 'prevent': 3384, 'dragon': 1343, 'awfully': 373, 'strength': 4215, 'routine': 3740, 'europe': 1529, 'san': 3777, 'francisco': 1818, 'martial': 2746, 'arts': 310, 'stunts': 4243, 'killing': 2472, 'matrix': 2766, 'rangers': 3515, 'pants': 3181, 'jackie': 2374, 'chan': 746, 'anime': 243, 'godzilla': 1928, 'crappy': 1033, 'sudden': 4269, 'boom': 537, 'downhill': 1335, 'dinosaurs': 1255, 'english': 1483, 'dub': 1378, 'viewed': 4736, 'horrid': 2164, 'tape': 4363, 'surviving': 4321, 'robots': 3716, 'honestly': 2146, 'survive': 4319, 'heck': 2070, 'planning': 3290, 'fellow': 1690, 'pal': 3176, 'mine': 2852, 'halloween': 2009, 'unintentionally': 4657, 'improvement': 2255, 'originally': 3129, 'scale': 3799, 'ready': 3544, 'evident': 1547, 'turned': 4604, 'slasher': 4017, 'comedic': 888, 'handed': 2015, 'un': 4628, 'hills': 2108, 'analysis': 225, 'bottle': 550, 'opened': 3111, 'limited': 2605, 'range': 3514, 'facial': 1619, 'expressions': 1603, 'offensive': 3084, 'deeply': 1156, 'abuse': 75, 'draw': 1348, 'ninja': 3016, 'mission': 2869, 'enter': 1494, 'shell': 3924, 'existent': 1572, 'profound': 3422, 'similar': 3975, '2000': 30, 'marvelous': 2749, 'students': 4235, 'principal': 3397, 'mary': 2750, 'musical': 2945, 'leading': 2546, 'charge': 761, 'songs': 4069, 'resist': 3646, 'soundtrack': 4082, 'alice': 183, 'cooper': 991, 'underground': 4638, 'teenage': 4388, 'ideal': 2213, 'delight': 1167, 'vincent': 4745, 'kate': 2446, 'clint': 850, 'howard': 2181, 'miller': 2845, 'energy': 1478, 'author': 359, 'bringing': 586, 'airplane': 167, 'giant': 1904, 'future': 1855, 'notable': 3039, 'rob': 3708, 'authority': 360, 'roll': 3726, 'divorce': 1300, 'stated': 4157, 'glimpse': 1918, 'court': 1021, 'iran': 2349, 'theyve': 4445, 'africa': 142, 'unusual': 4679, 'anyways': 262, 'appears': 278, 'legal': 2562, 'rights': 3695, 'prime': 3394, 'focuses': 1767, 'aunt': 355, 'fury': 1854, 'served': 3891, 'ya': 4976, 'twice': 4611, 'fail': 1625, 'impress': 2249, 'attitude': 346, 'depiction': 1184, 'sticks': 4182, 'closely': 855, 'southern': 4085, 'question': 3486, 'passed': 3201, 'nowadays': 3053, 'mainstream': 2708, 'spirited': 4110, 'emotion': 1458, 'intelligence': 2312, 'widow': 4882, 'normal': 3031, 'stronger': 4226, 'century': 736, 'causing': 726, 'intelligent': 2313, 'mood': 2896, 'renting': 3627, 'friday': 1833, 'asking': 318, 'writer': 4968, 'needs': 2988, 'educational': 1425, 'foster': 1808, 'sarah': 3782, 'pilot': 3275, 'beyond': 476, 'delivery': 1173, 'jesus': 2399, 'pleased': 3304, 'happily': 2029, 'korean': 2495, 'provides': 3449, 'contrast': 976, 'philosophy': 3253, 'thoughts': 4463, 'vague': 4703, 'department': 1182, 'tremendous': 4577, 'amount': 220, 'villains': 4744, 'incident': 2259, 'helicopter': 2075, 'orders': 3125, 'camp': 662, 'escapes': 1519, 'eg': 1434, 'shocked': 3936, 'summary': 4287, 'theory': 4436, 'innovative': 2294, 'average': 362, 'expert': 1585, 'uncomfortable': 4635, 'reaches': 3536, 'naive': 2956, 'passes': 3202, 'phantom': 3250, 'historical': 2118, 'teeth': 4392, '13': 4, 'fairy': 1632, 'tales': 4355, 'hidden': 2095, 'virginia': 4749, 'basic': 406, 'hair': 2004, 'wishes': 4906, 'sucks': 4268, 'college': 875, 'magical': 2703, 'pretend': 3380, 'preview': 3385, 'improve': 2253, '3rd': 47, 'andy': 231, 'saturday': 3789, 'teenager': 4389, 'fisher': 1738, 'mature': 2772, 'join': 2412, 'snl': 4041, 'marie': 2736, 'powell': 3357, 'enjoys': 1489, 'determined': 1220, 'prove': 3444, 'mountain': 2915, 'seed': 3853, 'childrens': 793, 'birthday': 487, 'saves': 3793, 'jump': 2429, 'phone': 3254, 'outfit': 3143, 'tunes': 4601, 'round': 3739, 'dramas': 1346, 'meant': 2783, 'boredom': 542, 'racist': 3502, 'pre': 3364, 'thomas': 4457, 'gene': 1878, 'kelly': 2452, 'georges': 1893, 'dickens': 1239, 'ambitious': 212, 'paris': 3188, 'content': 967, 'painting': 3174, 'streets': 4213, 'rain': 3505, 'cousin': 1022, 'tommy': 4515, 'miscast': 2861, 'loose': 2649, 'innocent': 2293, 'sees': 3863, 'dirty': 1267, 'dance': 1104, 'sits': 4003, 'calls': 654, 'drop': 1369, 'shop': 3942, 'boot': 538, 'admittedly': 124, 'partly': 3196, 'judy': 2426, 'creep': 1052, 'choose': 799, 'theyd': 4442, 'changing': 752, 'rich': 3683, 'improved': 2254, 'relief': 3603, 'dancer': 1105, 'bobby': 525, 'chased': 770, 'appeared': 276, 'hole': 2131, 'ballet': 389, 'provided': 3448, 'sing': 3989, 'britain': 588, 'allowed': 191, 'month': 2894, 'forth': 1803, 'jungle': 2434, 'held': 2073, 'partner': 3197, 'angel': 232, 'boat': 523, 'danger': 1110, 'burt': 629, 'cannibal': 669, 'daniel': 1112, 'covers': 1025, 'events': 1536, 'ruin': 3747, 'sidney': 3965, 'caine': 647, 'student': 4234, 'anderson': 228, 'christopher': 811, 'bored': 541, 'force': 1785, 'wonders': 4931, 'psychic': 3455, 'lumet': 2687, 'complaint': 920, 'mild': 2838, 'hate': 2045, 'disappeared': 1270, 'deserves': 1200, 'protagonist': 3440, 'tooth': 4523, 'individual': 2276, 'wandering': 4784, 'riding': 3693, 'born': 544, 'suddenly': 4270, 'household': 2178, 'powers': 3360, 'fitting': 1741, 'spite': 4113, 'root': 3735, 'goal': 1924, 'walks': 4779, 'solution': 4056, 'brilliance': 582, 'adding': 118, 'further': 1852, 'tension': 4403, 'lowest': 2677, 'rank': 3516, 'imdb': 2239, 'justify': 2439, 'grey': 1972, 'clip': 851, 'flashback': 1745, 'romantic': 3731, 'conspiracy': 957, 'courage': 1019, 'snake': 4039, 'died': 1243, 'psychological': 3457, 'wondering': 4930, 'adventures': 132, 'waited': 4770, 'spoil': 4117, 'spoken': 4122, 'claim': 828, 'setting': 3897, 'deeper': 1155, 'explanation': 1590, 'potentially': 3355, 'belief': 451, 'doubts': 1332, 'forward': 1807, 'remake': 3610, 'occurred': 3075, 'novels': 3051, 'orson': 3130, 'answers': 252, 'demon': 1177, 'remaining': 3608, 'introduce': 2335, 'wannabe': 4786, 'wizard': 4919, 'equivalent': 1512, 'step': 4171, 'appeal': 271, 'realized': 3551, 'engaging': 1481, 'uneven': 4647, 'spin': 4108, 'punch': 3465, 'hopes': 2158, 'track': 4543, 'voices': 4762, 'lisa': 2615, 'anti': 254, 'returns': 3666, 'anthony': 253, 'five': 1742, 'oliver': 3100, 'karen': 2444, 'freeman': 1828, 'continuity': 973, 'include': 2260, 'awkward': 374, 'advance': 128, 'segments': 3865, 'resulting': 3659, 'listening': 2619, 'heroic': 2089, 'spots': 4128, 'counter': 1012, 'disappointing': 1273, 'displays': 1292, 'blues': 519, 'introduction': 2338, 'neither': 2994, 'sleeping': 4022, 'suicide': 4280, 'humour': 2193, 'lies': 2590, 'minds': 2851, 'keeping': 2450, 'talents': 4354, 'wounded': 4961, 'lion': 2613, 'speaking': 4091, 'chaplin': 756, 'relies': 3604, 'mechanical': 2787, 'sign': 3967, 'cgi': 740, 'fetched': 1697, 'convoluted': 988, 'path': 3208, 'spy': 4131, 'extraordinary': 1607, 'ii': 2225, 'details': 1218, 'nazi': 2975, 'germany': 1897, 'production': 3418, 'dangerous': 1111, 'adequate': 121, 'pointed': 3316, 'pages': 3167, 'claims': 830, 'singing': 3992, 'gross': 1977, 'pie': 3270, 'trip': 4586, 'miserably': 2863, 'cameron': 661, 'dave': 1124, 'sexy': 3908, 'hippie': 2114, 'disjointed': 1286, 'song': 4068, 'cinderella': 815, 'definition': 1163, 'definite': 1161, 'context': 969, 'senseless': 3875, 'bite': 489, 'shooting': 3940, 'described': 1194, 'violent': 4747, 'journey': 2421, 'expensive': 1579, 'restaurant': 3656, 'implausible': 2244, 'chasing': 772, 'smoke': 4036, 'legendary': 2564, 'letting': 2582, 'offer': 3085, 'suspect': 4325, 'uses': 4695, 'ruthless': 3761, 'narrative': 2964, 'rarely': 3522, 'poignant': 3314, 'stick': 4181, 'repetitive': 3631, 'hence': 2082, 'basis': 408, 'tone': 4516, 'narration': 2963, 'north': 3034, 'humans': 2189, 'traditional': 4548, 'location': 2634, 'cleverly': 842, 'faces': 1618, 'carrey': 696, 'childish': 791, 'adults': 127, 'train': 4554, 'stealing': 4167, 'raw': 3530, 'bright': 581, 'carrying': 701, 'trail': 4551, 'realism': 3547, 'fox': 1813, 'tender': 4400, 'lover': 2671, 'surreal': 4315, 'reflect': 3582, 'loss': 2658, 'surrounding': 4317, 'calm': 655, 'deaths': 1143, 'elegant': 1441, 'broad': 590, 'critical': 1063, 'appreciated': 280, 'distinct': 1295, 'paranoia': 3185, 'unseen': 4676, 'wisdom': 4902, 'issue': 2364, 'clue': 864, 'perfection': 3224, 'storytelling': 4205, 'hopeless': 2157, 'existed': 1570, 'robot': 3715, 'destroy': 1212, 'blonde': 511, 'led': 2557, 'involves': 2347, 'frame': 1814, 'tons': 4519, 'explosions': 1597, 'mildly': 2839, 'standing': 4142, 'charisma': 762, 'comparing': 913, 'protagonists': 3441, 'efforts': 1433, 'jeff': 2390, 'directed': 1258, 'universal': 4663, 'iii': 2226, 'identity': 2216, 'ideas': 2214, 'burton': 630, 'bland': 500, 'cars': 702, 'expressed': 1601, 'trouble': 4590, 'harris': 2037, 'closet': 858, 'combined': 885, 'vacation': 4702, 'cup': 1081, 'tea': 4371, 'suspenseful': 4329, 'catching': 716, 'supposedly': 4305, 'sympathetic': 4340, 'quiet': 3491, 'deaf': 1135, 'secretary': 3847, 'portray': 3339, 'owner': 3158, 'missing': 2868, 'locked': 2636, 'remotely': 3621, 'isolated': 2362, 'monster': 2890, 'walking': 4778, 'mario': 2737, 'absence': 70, 'horrors': 2168, 'giallo': 1903, 'sinister': 3995, 'cutting': 1093, 'lips': 2614, 'shocking': 3937, 'clumsy': 866, 'hitting': 2125, 'target': 4364, 'fooled': 1779, 'husbands': 2204, 'response': 3652, 'gotta': 1945, 'ms': 2929, 'experienced': 1581, 'lloyd': 2629, 'danny': 1113, 'glover': 1922, 'pleasant': 3301, 'hollywoods': 2137, 'sequels': 3883, 'godfather': 1926, 'dozens': 1338, 'adaptation': 114, 'broadway': 592, '1960s': 14, 'choreography': 802, 'began': 441, 'blockbuster': 509, 'fortunately': 1804, 'learned': 2550, 'scripts': 3833, 'embarrassment': 1455, 'skill': 4010, 'ludicrous': 2684, 'stevens': 4179, 'sid': 3961, 'reviewers': 3676, 'lacking': 2504, 'resemblance': 3643, 'nostalgia': 3036, 'brooks': 596, 'inept': 2280, 'holds': 2130, 'wreck': 4965, 'lights': 2596, '20th': 38, 'chaos': 755, 'gun': 1995, 'travesty': 4568, 'west': 4851, 'westerns': 4853, 'edgar': 1417, 'allen': 189, 'psycho': 3456, 'twisted': 4616, 'hatred': 2048, 'silence': 3971, 'classics': 837, 'darkness': 1118, 'tale': 4351, 'drawing': 1349, 'bible': 477, 'substance': 4255, 'independent': 2271, 'vehicle': 4716, 'appearance': 274, 'morality': 2901, 'alexander': 181, 'relations': 3594, 'russian': 3759, 'study': 4238, 'burning': 627, 'dialogues': 1234, 'dreadful': 1352, 'chris': 806, 'lighting': 2595, 'jessica': 2398, 'persons': 3243, 'feature': 1678, 'hunter': 2198, 'meeting': 2793, 'due': 1382, 'blah': 496, 'progress': 3424, 'clark': 832, 'forgot': 1795, 'noticed': 3047, 'glenn': 1917, 'jason': 2383, 'twelve': 4609, 'understated': 4644, 'rural': 3755, 'psychiatrist': 3454, 'stone': 4193, 'plan': 3286, '2007': 37, 'roles': 3725, 'reputation': 3638, 'ticket': 4486, 'gabriel': 1858, 'da': 1095, 'countryside': 1016, 'psychotic': 3458, 'staying': 4164, 'experiences': 1582, 'cliff': 847, 'believed': 455, 'piano': 3263, 'suppose': 4303, 'farm': 1656, 'describe': 1193, 'fat': 1663, 'directions': 1261, 'method': 2823, 'cheese': 780, 'producer': 3414, 'virtually': 4750, 'losers': 2655, 'identify': 2215, 'achieved': 94, 'proper': 3435, 'appropriate': 283, 'parties': 3195, 'reaction': 3539, 'upper': 4683, 'newspaper': 3004, 'notice': 3046, 'hugh': 2185, 'kim': 2475, 'secretly': 3848, 'spell': 4100, 'react': 3538, 'lemmon': 2566, 'approach': 282, 'cuba': 1076, 'cruise': 1072, 'hated': 2046, 'direct': 1257, 'pretentious': 3382, 'soldiers': 4051, 'countries': 1014, 'featuring': 1681, 'views': 4741, 'tragedy': 4549, '2003': 33, '2004': 34, 'judge': 2424, 'reading': 3542, 'turner': 4605, 'granted': 1956, 'rules': 3751, 'repeated': 3629, 'couldve': 1010, 'host': 2172, 'attitudes': 347, 'talks': 4359, 'grows': 1984, 'towards': 4539, 'performed': 3229, 'uncle': 4634, 'hamlet': 2012, 'foul': 1809, 'branagh': 564, 'subtlety': 4258, 'robin': 3713, 'williams': 4887, 'gerard': 1894, 'vision': 4753, 'bullet': 620, 'blob': 507, 'convinced': 985, 'ingredients': 2288, 'topless': 4526, 'kicking': 2462, 'germans': 1896, 'sword': 4338, 'breasts': 572, 'feminist': 1694, 'exploitation': 1592, 'grave': 1961, 'dancers': 1106, 'strikes': 4221, 'destroyed': 1213, 'sacrifice': 3763, 'dinner': 1253, 'atrocious': 335, 'heads': 2058, 'dolls': 1315, 'generated': 1881, 'downright': 1336, 'alien': 184, 'clichéd': 845, 'frequent': 1830, 'julia': 2427, 'gothic': 1944, 'lengthy': 2569, 'poverty': 3356, 'row': 3741, 'east': 1407, 'bela': 450, 'lugosi': 2685, 'talented': 4353, 'scope': 3818, 'structure': 4229, 'continued': 971, 'key': 2458, 'resources': 3649, 'bound': 553, 'conventional': 980, 'arrival': 299, 'utter': 4699, 'george': 1892, 'murdered': 2938, 'scheme': 3809, 'touches': 4534, 'joe': 2407, 'tag': 4346, 'public': 3459, 'properly': 3436, 'officer': 3090, 'report': 3633, 'designed': 1202, 'program': 3423, 'heights': 2072, 'popularity': 3333, 'cary': 706, 'builds': 617, 'judging': 2425, 'size': 4009, 'mansion': 2730, 'ham': 2010, 'post': 3351, 'returning': 3665, 'houses': 2179, 'satisfy': 3787, 'demand': 1174, 'eric': 1514, 'moved': 2920, 'grant': 1955, 'daughters': 1123, 'inner': 2291, 'rochester': 3717, 'threatening': 4467, 'send': 3872, 'dedicated': 1153, 'walter': 4783, 'asked': 317, 'horses': 2170, 'afterwards': 146, 'reminds': 3618, 'dances': 1107, 'stereotypical': 4176, 'farce': 1654, 'acceptable': 82, 'kapoor': 2443, 'stupidity': 4245, 'eccentric': 1414, 'suits': 4284, 'colorful': 878, 'stretched': 4218, 'fear': 1676, 'arrogant': 303, 'presents': 3376, 'represents': 3637, 'tim': 4493, 'nightmare': 3012, 'filmmaker': 1718, 'dignity': 1251, 'honesty': 2147, 'intended': 2314, 'amanda': 206, 'results': 3660, 'shock': 3935, 'letter': 2580, 'pack': 3164, 'curse': 1087, 'ha': 2001, 'format': 1798, 'screens': 3829, 'tree': 4574, 'cartoon': 704, 'forest': 1790, 'pull': 3460, 'kinda': 2477, 'tour': 4537, 'haunting': 2050, 'scream': 3823, '90s': 61, 'soft': 4048, 'core': 996, 'mistress': 2873, 'doctor': 1303, 'descent': 1192, 'tired': 4500, 'hearing': 2062, 'infamous': 2283, 'terrorists': 4413, 'steel': 4169, 'unintentional': 4656, 'lucky': 2682, 'inducing': 2278, 'melodramatic': 2797, 'witnesses': 4916, 'guide': 1992, 'reach': 3534, 'clothes': 860, 'gangsters': 1868, 'trust': 4596, 'nevertheless': 3000, 'mass': 2752, 'execution': 1566, 'flies': 1755, 'idiotic': 2218, 'wrote': 4974, 'reads': 3543, 'citizen': 824, 'kane': 2442, 'pile': 3274, 'seat': 3842, 'longer': 2644, 'arthur': 305, 'juvenile': 2441, 'engage': 1479, 'folk': 1769, 'regular': 3590, 'board': 522, 'carol': 693, 'steal': 4166, 'liberal': 2587, 'conservative': 949, 'bush': 632, 'kinds': 2478, 'incoherent': 2264, 'depth': 1189, 'bull': 619, 'breaking': 570, 'australia': 356, 'sick': 3960, 'reynolds': 3682, 'starting': 4154, 'davis': 1127, 'dancing': 1108, 'henry': 2083, 'crash': 1034, 'explored': 1595, 'contained': 964, 'stress': 4216, 'abysmal': 77, 'desert': 1197, 'decade': 1145, 'heavily': 2068, 'emma': 1457, 'costume': 1006, 'built': 618, 'epic': 1506, 'faithful': 1634, 'superman': 4298, 'inspiration': 2299, 'versions': 4720, 'japan': 2381, 'arrives': 302, 'intimate': 2330, 'brutally': 604, 'ted': 4385, 'holiday': 2133, 'susan': 4324, 'alex': 180, 'curtis': 1088, 'helps': 2081, 'finding': 1726, 'ghosts': 1902, 'spirits': 4111, 'doomed': 1326, 'remain': 3607, 'witches': 4910, 'strictly': 4219, 'plastic': 3293, 'aint': 164, 'saved': 3792, 'turkey': 4602, 'ties': 4489, 'experiment': 1583, 'beast': 422, 'curious': 1084, 'rubber': 3744, 'crying': 1075, 'website': 4833, '1980s': 21, 'wished': 4905, 'stayed': 4163, 'maker': 2713, 'contrary': 975, 'ironic': 2354, 'enormous': 1490, 'toy': 4541, 'industry': 2279, 'patient': 3210, 'pregnant': 3368, 'tall': 4360, 'bollywood': 530, 'flawless': 1750, 'advise': 135, 'moon': 2898, 'figured': 1711, 'prepared': 3370, 'wholly': 4873, 'homosexual': 2144, 'nonetheless': 3027, 'frustration': 1842, 'dislike': 1287, 'idiots': 2219, 'pleasure': 3305, 'favourite': 1673, 'iron': 2353, 'liking': 2603, 'danes': 1109, 'arrested': 298, 'guessing': 1990, 'attorney': 348, 'prison': 3400, 'suggested': 4278, 'wins': 4899, 'accept': 81, 'killers': 2471, 'carpenter': 694, 'legend': 2563, 'pamela': 3178, 'ah': 159, 'andrews': 230, 'boss': 546, 'morgan': 2903, 'taylor': 4370, 'fashion': 1659, 'hitchcock': 2122, 'welles': 4843, 'explains': 1589, 'notion': 3048, 'likewise': 2602, 'meaningless': 2781, 'trapped': 4562, 'enters': 1496, 'chief': 788, 'design': 1201, 'possibilities': 3347, 'johnny': 2410, 'eager': 1396, 'tongue': 4517, 'nonsense': 3028, 'disappoint': 1271, 'retarded': 3661, 'monkeys': 2889, 'committed': 905, 'warner': 4798, 'producing': 3416, 'store': 4200, 'guilty': 1994, 'celluloid': 731, 'loaded': 2631, 'unnecessary': 4670, 'imagined': 2238, 'accents': 80, 'amounts': 221, 'kenneth': 2455, 'rick': 3687, 'waitress': 4772, 'everywhere': 1545, 'blind': 506, 'bob': 524, 'jr': 2423, 'serving': 3894, 'thick': 4446, 'celebrity': 729, 'spanish': 4088, 'wave': 4817, 'games': 1864, 'warrior': 4801, 'jazz': 2387, 'smile': 4033, 'tear': 4377, 'central': 735, 'consistently': 955, 'timothy': 4498, 'dalton': 1099, 'combination': 883, 'eyre': 1614, 'ward': 4792, 'respected': 3651, 'contain': 963, 'individuals': 2277, 'popcorn': 3330, 'ryan': 3762, 'brian': 576, 'buff': 610, 'price': 3388, 'alternate': 201, 'breath': 573, 'hoped': 2155, 'wake': 4773, 'escaped': 1518, 'heaven': 2067, 'free': 1826, 'transformation': 4558, 'passing': 3203, 'connection': 947, 'grab': 1948, 'allow': 190, 'minded': 2849, 'failing': 1627, 'glad': 1915, 'discussion': 1283, 'spike': 4107, 'status': 4161, 'neighborhood': 2991, 'activities': 103, 'cable': 644, 'credible': 1049, 'waves': 4818, 'liners': 2610, 'centered': 733, 'neil': 2993, '17': 9, 'lovely': 2670, 'dawson': 1129, 'lay': 2541, 'rising': 3701, 'task': 4366, 'commented': 900, 'fame': 1642, 'shoot': 3939, 'angle': 236, 'confusion': 944, 'screenplay': 3828, 'executive': 1567, 'dreary': 1355, 'videos': 4733, 'imagery': 2233, 'angry': 238, 'intent': 2317, 'bitter': 491, 'actresses': 107, 'headed': 2057, 'tied': 4488, 'treated': 4571, 'warriors': 4802, 'code': 869, 'grown': 1983, 'em': 1452, 'fair': 1630, 'hype': 2206, 'radio': 3503, 'refreshing': 3584, 'adam': 112, 'sandler': 3778, 'aliens': 185, 'bridge': 578, 'charm': 767, 'nine': 3015, 'mask': 2751, 'mob': 2878, 'futuristic': 1856, 'seasons': 3841, 'alright': 199, 'hearts': 2065, 'bruce': 602, 'wayne': 4820, 'barbara': 397, 'hints': 2112, 'fourth': 1812, 'reaching': 3537, 'hardcore': 2033, 'hoping': 2159, 'confess': 938, 'discuss': 1282, 'mouth': 2918, 'possibility': 3348, 'specific': 4095, 'perspective': 3244, 'speaks': 4092, 'pitch': 3278, 'clearly': 840, 'understandable': 4642, 'nation': 2967, 'tribute': 4579, 'cities': 823, 'highlights': 2103, 'ages': 153, 'calling': 653, 'backdrop': 379, 'comedian': 887, 'selfish': 3867, 'hello': 2077, 'roman': 3729, 'sat': 3783, 'shelf': 3923, 'putting': 3481, 'horrendous': 2161, 'dubbing': 1380, 'twins': 4614, 'ashley': 313, 'reel': 3579, 'twin': 4613, 'relevant': 3602, 'challenge': 743, 'valley': 4705, 'california': 650, 'inspiring': 2301, 'marketing': 2740, 'superficial': 4295, 'driven': 1365, 'wouldve': 4959, 'shame': 3915, 'redemption': 3576, 'met': 2821, 'misery': 2864, '1972': 18, 'quote': 3495, 'patrick': 3212, 'reached': 3535, 'relatively': 3598, 'miracle': 2859, 'fix': 1743, 'quit': 3493, 'max': 2773, 'challenging': 744, 'reed': 3578, 'corner': 997, 'thankfully': 4421, 'safe': 3768, 'simpson': 3984, 'adventure': 131, 'ensues': 1493, 'charismatic': 763, 'destiny': 1211, 'lying': 2689, 'proved': 3445, 'multi': 2933, 'alongside': 197, 'masterpieces': 2759, 'kudos': 2497, 'sincere': 3988, 'feet': 1687, 'wars': 4803, 'trilogy': 4584, 'prequel': 3371, 'overly': 3154, 'elsewhere': 1449, 'concern': 931, 'web': 4832, 'forms': 1800, 'spiritual': 4112, 'allows': 193, 'showcase': 3951, 'blade': 495, 'mixed': 2876, 'orange': 3123, 'wrapped': 4964, 'intrigue': 2332, 'authentic': 358, 'atlantis': 332, 'empire': 1464, 'source': 4083, 'wear': 4829, 'sea': 3835, 'stargate': 4147, 'resembles': 3644, 'required': 3639, 'beneath': 464, 'personalities': 3240, 'confidence': 939, 'draws': 1351, 'primary': 3393, 'successful': 4263, 'fresh': 1832, 'surfing': 4309, 'furthermore': 1853, 'bottom': 551, 'pacing': 3162, 'command': 897, 'serve': 3890, 'caliber': 649, 'stereotype': 4174, 'instinct': 2307, 'packed': 3165, 'franchise': 1816, '2001': 31, 'dropped': 1370, 'adapted': 115, 'friendly': 1835, 'enjoying': 1487, 'thrills': 4474, 'accident': 85, 'glass': 1916, 'erotic': 1515, 'mentions': 2812, 'briefly': 580, 'chosen': 805, 'prize': 3404, 'explosion': 1596, 'strike': 4220, 'naturally': 2972, 'effectively': 1430, 'cake': 648, 'searching': 3839, 'sends': 3873, 'canada': 666, 'guilt': 1993, 'technique': 4382, 'prefer': 3367, 'crocodile': 1066, 'witnessed': 4915, 'attempting': 342, 'assault': 324, 'laws': 2539, 'honor': 2149, 'shine': 3928, 'drags': 1344, 'catchy': 717, 'generous': 1885, 'shirt': 3934, 'blew': 505, 'spends': 4103, 'garden': 1871, 'encounter': 1466, 'suffered': 4273, 'masterful': 2757, 'pearl': 3219, 'troubles': 4592, 'appearances': 275, 'ned': 2984, 'viewings': 4740, 'underlying': 4639, 'millions': 2847, 'variety': 4712, 'largely': 2517, 'training': 4556, 'square': 4132, 'neighbors': 2992, 'advantage': 130, 'shadows': 3910, 'rushed': 3757, 'colonel': 876, 'unit': 4661, 'scores': 3820, 'object': 3064, 'arms': 294, 'studios': 4237, 'delivered': 1170, '1968': 15, '1980': 20, 'sharp': 3919, 'vampire': 4709, 'desire': 1204, 'absolute': 72, 'atmospheric': 334, 'excuse': 1564, 'ruins': 3749, 'santa': 3780, 'jones': 2418, 'ugly': 4623, 'washington': 4805, 'considerable': 951, 'achievement': 95, 'settle': 3899, 'caring': 691, 'understood': 4645, 'plots': 3309, 'trite': 4587, 'nostalgic': 3037, 'theyll': 4443, 'reduced': 3577, 'physically': 3262, 'accused': 92, 'wallace': 4781, 'suck': 4266, 'lasted': 2521, 'commercials': 903, 'follows': 1774, 'connect': 945, 'sean': 3837, 'photographed': 3257, 'internet': 2326, 'invasion': 2339, 'hospital': 2171, 'recognize': 3567, 'compare': 911, 'kubrick': 2496, 'ps': 3452, 'bucks': 606, 'spooky': 4124, 'wore': 4939, 'capturing': 679, 'defeat': 1157, 'kingdom': 2480, 'duty': 1390, 'performers': 3231, 'retired': 3662, 'guard': 1987, 'believing': 457, 'thugs': 4483, 'ignorant': 2222, 'knowledge': 2491, 'successfully': 4264, 'highest': 2101, 'tears': 4378, 'rambo': 3510, 'watchable': 4811, 'grinch': 1974, 'stole': 4190, 'hire': 2115, 'molly': 2883, 'lou': 2662, 'jeffrey': 2391, 'mayor': 2776, 'lone': 2641, 'subplots': 4253, 'uninteresting': 4658, 'gifted': 1906, 'comical': 894, 'specifically': 4096, 'icon': 2210, 'weakest': 4824, 'werewolf': 4849, 'edition': 1422, 'print': 3398, 'animal': 239, 'pig': 3273, 'tame': 4361, 'battles': 415, 'del': 1165, 'females': 1693, 'philosophical': 3252, 'considered': 952, 'essential': 1522, 'chicks': 787, 'uninspired': 4655, 'willis': 4890, 'virus': 4751, 'facts': 1624, 'picked': 3265, 'gary': 1872, 'cole': 873, 'aired': 166, 'block': 508, 'research': 3642, 'worker': 4942, 'melting': 2798, 'staff': 4134, 'event': 1535, 'nuclear': 3055, 'weapons': 4828, 'carl': 692, 'randomly': 3513, 'chose': 804, 'warn': 4796, 'accomplished': 88, 'goofy': 1938, 'recorded': 3572, 'incomprehensible': 2266, 'assume': 328, 'fears': 1677, 'symbolism': 4339, 'condition': 937, 'endearing': 1469, 'national': 2968, 'hunt': 2197, 'soviet': 4086, 'cross': 1067, 'nyc': 3063, 'asks': 319, 'unpleasant': 4672, 'fallen': 1638, 'conceived': 929, 'accompanied': 87, 'intensity': 2316, 'bothered': 549, 'faced': 1617, 'hed': 2071, 'states': 4159, 'compelled': 915, 'innocence': 2292, 'strongly': 4227, 'bits': 490, 'inspector': 2298, 'timing': 4497, 'priceless': 3389, 'era': 1513, 'shark': 3918, 'struck': 4228, 'expression': 1602, '1996': 26, 'tie': 4487, 'stan': 4138, 'professor': 3421, 'lab': 2501, 'loads': 2632, 'italian': 2367, 'develops': 1225, 'hitler': 2123, 'reveal': 3668, 'bird': 484, 'intentions': 2320, 'hunting': 2200, 'bath': 411, 'matthew': 2771, 'junior': 2435, 'paulie': 3214, 'buying': 641, 'inevitably': 2282, 'constructed': 960, 'pride': 3390, 'parallel': 3184, 'royal': 3743, 'chorus': 803, 'drops': 1372, 'treats': 4573, 'raised': 3507, 'valuable': 4706, 'anne': 246, 'loyal': 2678, 'teens': 4391, 'purposes': 3474, 'manipulative': 2726, 'regard': 3586, 'mighty': 2835, 'joy': 2422, 'balance': 387, 'phony': 3255, 'emotionally': 1460, 'mexico': 2826, 'exists': 1573, 'burns': 628, 'sexuality': 3906, 'birds': 485, 'solely': 4053, 'seventies': 3901, 'altogether': 203, 'overdone': 3151, 'featured': 1679, 'flashbacks': 1746, '1990': 24, 'brosnan': 597, 'buddy': 608, 'friendship': 1837, 'bond': 532, 'dan': 1103, 'matt': 2767, 'stooges': 4196, 'polished': 3322, 'frustrated': 1841, 'embarrassing': 1454, 'nick': 3010, 'dies': 1244, 'trained': 4555, 'whoever': 4871, 'stops': 4199, 'itll': 2369, 'leg': 2561, 'flight': 1756, 'obscure': 3066, 'barry': 401, 'contact': 962, 'favorites': 1672, 'coherent': 871, 'motivations': 2913, 'matched': 2762, 'shortly': 3944, 'ultra': 4627, 'stinker': 4187, 'sophisticated': 4072, 'quotes': 3496, 'territory': 4410, 'pursuit': 3475, 'catherine': 719, 'junk': 2436, 'ship': 3931, 'unwatchable': 4680, 'correct': 1001, 'jonathan': 2417, 'ethan': 1528, 'hal': 2005, 'beatty': 427, 'elvira': 1450, 'opposed': 3120, 'elephant': 1444, 'rings': 3697, 'involve': 2344, 'cruel': 1071, 'prostitute': 3439, 'painfully': 3171, 'stretch': 4217, 'represent': 3635, 'thoughtful': 4462, 'understanding': 4643, 'notably': 3040, 'stinks': 4188, 'doors': 1328, 'paltrow': 3177, 'cared': 685, 'tiresome': 4501, 'forgettable': 1793, 'mouse': 2917, 'delightful': 1168, 'realizes': 3552, 'visible': 4752, 'bold': 528, 'campy': 664, 'personality': 3241, 'hang': 2021, 'graphic': 1957, 'sunshine': 4291, 'wendy': 4845, 'circle': 821, 'wed': 4834, 'official': 3092, 'claimed': 829, 'con': 928, 'superbly': 4294, 'techniques': 4383, 'fortune': 1805, 'enemy': 1477, 'kennedy': 2454, 'roy': 3742, 'loser': 2654, 'wound': 4960, 'visits': 4755, 'freedom': 1827, 'mate': 2764, 'irritating': 2358, 'drives': 1367, 'refuses': 3585, 'neat': 2980, 'revealed': 3669, 'warren': 4800, 'harvey': 2041, 'tends': 4401, 'funnier': 1849, 'domino': 1318, 'carter': 703, 'operation': 3115, 'shoes': 3938, 'voiced': 4761, 'bbc': 417, 'titanic': 4502, 'mgm': 2827, 'wrestling': 4966, 'staged': 4136, 'crude': 1070, 'surrounded': 4316, 'wind': 4893, 'duo': 1386, 'chilling': 794, 'journalist': 2420, 'vampires': 4710, 'spider': 4105, 'neck': 2983, 'felix': 1688, '1990s': 25, '1973': 19, 'willie': 4888, 'semi': 3871, 'matthau': 2770, 'finger': 1730, 'finished': 1732, 'reminiscent': 3619, 'behave': 445, 'realizing': 3553, 'health': 2059, 'involvement': 2346, 'weeks': 4838, 'argue': 290, 'convey': 983, 'presentation': 3374, 'carrie': 697, 'dawn': 1128, 'safety': 3769, 'smaller': 4031, 'text': 4418, 'bacall': 377, 'spring': 4130, 'brains': 563, 'robbins': 3710, 'kurt': 2499, 'rocket': 3719, 'overrated': 3155, 'luckily': 2681, 'meanwhile': 2784, 'busy': 635, 'cops': 994, 'welcome': 4841, 'statement': 4158, 'intention': 2318, 'risk': 3702, 'eva': 1531, 'riveting': 3706, 'amazed': 209, 'values': 4708, 'greek': 1969, 'splendid': 4115, 'blend': 504, 'teaching': 4375, 'sutherland': 4331, 'troubled': 4591, 'idiot': 2217, 'unbelievably': 4633, 'widely': 4880, 'offering': 3087, 'plane': 3287, 'seeks': 3857, 'destroying': 1214, 'odds': 3080, 'ease': 1404, 'sink': 3996, 'cynical': 1094, 'unaware': 4630, 'distracting': 1296, 'generic': 1884, 'endless': 1473, 'stones': 4194, 'purple': 3472, 'attacked': 338, 'qualities': 3482, 'vengeance': 4717, 'affected': 138, 'museum': 2943, 'ape': 266, 'split': 4116, 'primarily': 3392, 'spoof': 4123, 'homage': 2140, 'silver': 3974, '1940s': 12, 'bride': 577, 'crack': 1028, 'butt': 638, 'muslim': 2947, 'terrorist': 4412, 'beer': 439, 'dynamic': 1394, 'fool': 1778, 'creators': 1045, 'artificial': 306, 'listed': 2617, 'buildings': 616, 'proof': 3433, 'der': 1190, 'jon': 2416, 'amongst': 219, 'misses': 2867, 'mile': 2841, 'hardy': 2036, 'rubbish': 3745, 'incompetent': 2265, 'yesterday': 4983, 'buried': 624, 'resort': 3648, 'cd': 728, 'pg': 3249, 'weight': 4839, 'empathy': 1462, 'urge': 4687, 'civilization': 827, 'afford': 139, 'serial': 3886, 'suffers': 4275, 'donald': 1320, 'bears': 421, 'passionate': 3205, 'vicious': 4727, 'investigation': 2342, 'von': 4764, 'damage': 1100, 'newly': 3002, 'forgive': 1794, 'bleak': 503, 'overwhelming': 3156, 'depicted': 1183, 'methods': 2824, 'guarantee': 1986, 'prisoner': 3401, 'rex': 3681, 'rid': 3688, 'motives': 2914, 'cardboard': 682, 'decisions': 1152, 'eaten': 1412, 'ruined': 3748, 'dinosaur': 1254, 'balls': 390, 'mothers': 2910, 'community': 908, 'numerous': 3060, 'aids': 162, 'homer': 2143, 'watches': 4813, 'deliberately': 1166, 'believes': 456, 'overcome': 3150, 'smooth': 4038, 'humble': 2190, 'overacting': 3148, 'walken': 4776, 'jumped': 2430, 'tune': 4600, 'clues': 865, 'excessive': 1560, 'eighties': 1437, 'sixties': 4008, 'cox': 1027, 'montage': 2892, 'damon': 1102, 'combine': 884, 'user': 4694, 'devils': 1228, 'progresses': 3425, 'helen': 2074, 'magnificent': 2704, 'bang': 393, 'underrated': 4640, 'noted': 3043, 'sky': 4014, '18': 10, 'virgin': 4748, 'eastern': 1408, 'ear': 1397, 'nose': 3035, 'survival': 4318, 'latest': 2525, 'horrific': 2165, 'philip': 3251, 'throat': 4475, 'screams': 3825, 'wrap': 4963, 'buffs': 612, 'lees': 2559, 'dracula': 1340, 'homeless': 2142, 'sadness': 3767, 'reference': 3580, 'julie': 2428, 'mann': 2727, 'fulci': 1844, 'walker': 4777, 'financial': 1724, 'parent': 3186, 'blond': 510, 'fault': 1668, 'chapter': 757, 'mel': 2795, 'sheriff': 3926, 'torn': 4527, 'hollow': 2134, 'inappropriate': 2258, 'documentaries': 1305, 'bone': 533, 'medical': 2789, 'severe': 3903, 'illness': 2229, 'lucy': 2683, 'forbidden': 1784, 'striking': 4222, 'hood': 2150, 'legs': 2565, 'creator': 1044, 'bomb': 531, 'shirley': 3933, 'doom': 1325, 'nancy': 2962, 'pair': 3175, 'mars': 2745, 'brando': 566, 'civil': 826, 'appearing': 277, 'strangers': 4210, 'represented': 3636, 'taught': 4368, 'politically': 3324, 'teach': 4372, 'exact': 1550, 'hates': 2047, 'earl': 1398, 'dorothy': 1329, 'delivering': 1171, 'lesser': 2575, 'moore': 2899, 'bus': 631, 'holy': 2139, 'cave': 727, 'martin': 2747, 'consists': 956, 'ourselves': 3139, 'cultural': 1079, 'hideous': 2097, 'wondered': 4927, 'goodness': 1937, 'antics': 255, 'screaming': 3824, 'exposure': 1599, 'trek': 4576, 'daddy': 1097, 'differences': 1246, 'catholic': 720, 'unfolds': 4649, 'directs': 1266, 'trashy': 4564, 'horribly': 2163, 'disgusting': 1285, 'recording': 3573, 'whereas': 4864, 'ridden': 3689, '80': 58, 'jamie': 2379, 'ireland': 2351, 'reasonably': 3557, 'catches': 715, 'grim': 1973, 'scottish': 3822, 'tarzan': 4365, 'picking': 3266, 'map': 2732, 'stolen': 4191, 'swim': 4335, 'apes': 267, 'capital': 673, 'blake': 498, 'ring': 3696, 'navy': 2974, 'flash': 1744, 'richards': 3685, 'tiger': 4490, 'yellow': 4981, 'faults': 1669, 'scarecrow': 3801, 'laurel': 2536, 'careers': 687, 'gentle': 1889, 'promised': 3430, 'handsome': 2020, 'devoted': 1230, 'maintain': 2709, 'theaters': 4427, 'championship': 745, 'kissing': 2484, 'upset': 4685, 'toys': 4542, 'polanski': 3320, 'le': 2543, 'sheer': 3922, 'lovable': 2667, 'meat': 2786, 'hired': 2116, 'endings': 1472, 'temple': 4397, 'unrealistic': 4675, 'stilted': 4186, 'dire': 1256, 'bullets': 621, 'cabin': 643, 'corpse': 1000, 'shining': 3930, '24': 39, 'thumbs': 4484, '2006': 36, 'trial': 4578, 'mundane': 2936, 'daily': 1098, 'dare': 1114, 'reflection': 3583, 'window': 4894, 'terry': 4414, 'miike': 2836, 'via': 4725, 'cg': 739, 'dealt': 1139, 'threat': 4466, 'generations': 1883, 'cagney': 646, 'leonard': 2571, 'crowd': 1068, 'nations': 2969, 'rival': 3704, 'midnight': 2833, 'christ': 807, 'purchased': 3469, 'slaughter': 4018, 'linda': 2608, 'massacre': 2753, 'ridiculously': 3692, 'hotel': 2174, 'meaningful': 2780, 'brady': 561, 'eastwood': 1409, 'matches': 2763, '1983': 22, 'demented': 1176, 'darker': 1117, 'blank': 501, 'madonna': 2698, 'sings': 3994, 'comics': 895, 'hoffman': 2127, 'copies': 993, 'section': 3850, 'losing': 2657, 'concerning': 933, 'nuts': 3062, 'cia': 814, 'poetry': 3313, 'remarkably': 3612, 'dutch': 1389, 'cheek': 779, 'raymond': 3532, 'cartoons': 705, 'arrived': 301, 'modesty': 2882, 'akshay': 170, 'walked': 4775, 'belong': 459, 'dressing': 1359, 'masses': 2754, 'sensitive': 3876, 'vast': 4714, 'astaire': 330, 'ginger': 1907, 'baker': 385, 'solo': 4055, 'cry': 1074, 'cats': 721, 'checking': 778, 'ford': 1788, 'russell': 3758, 'consistent': 954, 'florida': 1760, 'nail': 2955, 'dean': 1140, 'et': 1526, 'annie': 247, 'lawrence': 2538, 'chair': 742, 'historically': 2119, 'coffee': 870, 'sidekick': 3963, 'freak': 1823, 'conversations': 982, 'description': 1196, 'drunken': 1376, 'mini': 2853, 'mill': 2844, 'bakshi': 386, 'saga': 3770, 'switch': 4337, 'classical': 836, 'messed': 2820, 'dear': 1141, 'translation': 4560, 'cure': 1082, 'demands': 1175, 'scientific': 3814, 'bare': 398, 'hung': 2196, 'crimes': 1057, 'worried': 4949, 'masters': 2760, 'terrifying': 4409, 'beings': 449, 'influenced': 2286, 'praise': 3363, 'merits': 2816, 'spielberg': 4106, 'souls': 4077, 'blown': 516, 'climactic': 848, 'spoke': 4121, 'audio': 354, 'teachers': 4374, 'hip': 2113, 'limits': 2606, 'lyrics': 2691, 'slap': 4015, 'explore': 1594, 'complexity': 924, 'hunters': 2199, 'floating': 1757, 'lily': 2604, 'messages': 2819, 'projects': 3427, 'irish': 2352, 'concerns': 934, 'lucas': 2679, 'perry': 3236, 'enterprise': 1495, 'ironically': 2355, 'belongs': 460, 'encounters': 1467, 'performing': 3232, 'lacked': 2503, 'awe': 370, 'recognition': 3566, 'stanwyck': 4145, '75': 57, 'cook': 989, 'brazil': 568, 'jewish': 2401, 'ought': 3137, 'useful': 4692, 'murderer': 2939, 'ears': 1402, 'pulp': 3464, 'illegal': 2228, 'cube': 1077, 'letters': 2581, 'disappear': 1269, 'donna': 1322, 'nightmares': 3013, 'stranger': 4209, 'security': 3851, 'shelley': 3925, 'winters': 4901, 'chicago': 785, 'harder': 2034, 'doctors': 1304, 'brooklyn': 595, 'lessons': 2577, 'tonight': 4518, 'loosely': 2650, 'savage': 3790, 'streisand': 4214, 'irony': 2356, 'heat': 2066, 'elvis': 1451, 'satan': 3784, 'equal': 1509, 'stale': 4137, 'hart': 2040, 'verhoeven': 4718, 'opinions': 3117, 'swimming': 4336, 'exposed': 1598, 'attacks': 339, 'nearby': 2978, 'los': 2652, 'angeles': 233, 'adorable': 125, 'suitable': 4282, 'excitement': 1562, 'related': 3592, 'anna': 245, 'fields': 1704, 'wives': 4918, 'andrew': 229, 'davies': 1126, 'yelling': 4980, 'sappy': 3781, 'margaret': 2734, 'contest': 968, 'worn': 4948, 'gift': 1905, 'adams': 113, 'brown': 601, 'rebel': 3559, 'sinatra': 3986, 'musicals': 2946, 'iraq': 2350, 'corporate': 999, 'intrigued': 2333, 'hilariously': 2106, 'education': 1424, '13th': 5, 'craven': 1035, 'noble': 3019, 'despair': 1206, 'schools': 3811, 'blacks': 494, 'amitabh': 217, 'painted': 3173, 'suspicious': 4330, 'quirky': 3492, 'families': 1644, 'devoid': 1229, 'jaws': 2385, 'horrifying': 2166, 'mall': 2719, 'prisoners': 3402, 'april': 284, 'scripted': 3832, 'whale': 4856, 'jealous': 2388, 'benefit': 465, 'oz': 3159, 'occasion': 3071, 'cowboy': 1026, 'ruby': 3746, 'engaged': 1480, 'arrive': 300, 'slightest': 4025, 'march': 2733, 'suffice': 4276, 'hudson': 2183, 'ignored': 2224, 'hop': 2153, 'occur': 3074, 'dentist': 1180, 'patients': 3211, 'sadistic': 3765, 'soccer': 4045, 'denzel': 1181, 'rat': 3523, 'hanks': 2024, 'absent': 71, 'sloppy': 4027, 'kitchen': 2485, 'flynn': 1764, 'hysterical': 2207, 'marty': 2748, 'holly': 2135, 'errors': 1516, 'abilities': 64, 'nicholas': 3008, 'tortured': 4529, 'useless': 4693, 'pot': 3353, '45': 50, 'leo': 2570, 'mistaken': 2871, 'characterization': 759, 'bumbling': 622, 'ken': 2453, 'desired': 1205, 'installment': 2302, 'crucial': 1069, 'channels': 754, 'marks': 2741, 'joey': 2408, 'gender': 1877, 'abraham': 69, 'sandra': 3779, 'planned': 3289, 'classes': 834, '1971': 17, 'pink': 3276, 'nicholson': 3009, 'competition': 918, 'burn': 625, 'roger': 3722, 'introduces': 2337, 'jesse': 2397, 'sneak': 4040, 'hamilton': 2011, 'myers': 2950, 'italy': 2368, 'che': 773, 'franco': 1819, 'creativity': 1043, 'undoubtedly': 4646, 'rats': 3529, 'latin': 2526, 'sue': 4271, 'careful': 688, 'poetic': 3312, 'lively': 2626, 'prom': 3428, 'border': 539, 'market': 2739, 'pokemon': 3319, 'montana': 2893, 'greed': 1967, 'genres': 1888, 'greedy': 1968, 'gandhi': 1865, 'defined': 1160, 'speech': 4098, 'staring': 4148, 'forty': 1806, 'precious': 3365, 'concert': 935, 'carried': 698, 'hooked': 2152, 'grandfather': 1953, 'eyed': 1612, 'burned': 626, 'armed': 293, 'bo': 521, 'lust': 2688, 'poem': 3311, 'scrooge': 3834, 'domestic': 1317, 'distribution': 1297, 'nelson': 2995, 'butler': 637, 'rendition': 3623, 'album': 176, 'multiple': 2934, 'lately': 2523, 'machines': 2693, 'typically': 4622, 'nazis': 2976, 'desperation': 1209, 'proceeds': 3410, 'wishing': 4907, 'mummy': 2935, 'similarities': 3976, 'acid': 96, 'revelation': 3672, 'karloff': 2445, 'travels': 4567, 'bathroom': 412, 'exploration': 1593, 'ranks': 3517, 'oddly': 3079, 'panic': 3180, 'campbell': 663, 'hyde': 2205, 'showdown': 3952, 'arnold': 296, 'freddy': 1825, 'smiling': 4034, 'imitation': 2240, 'craft': 1029, 'closest': 857, 'wet': 4854, 'cheating': 776, 'easier': 1405, 'crush': 1073, 'officers': 3091, 'st': 4133, 'assigned': 325, 'shakespeare': 3912, 'israel': 2363, 'unpredictable': 4673, 'francis': 1817, 'ellen': 1446, 'plant': 3292, 'khan': 2459, 'agreed': 157, 'rabbit': 3497, 'elm': 1447, 'abc': 63, 'dolph': 1316, 'johnson': 2411, 'voight': 4763, 'slight': 4024, 'clown': 862, 'ruth': 3760, 'pops': 3331, 'cinemas': 817, 'wells': 4844, 'gadget': 1859, 'columbo': 881, 'groups': 1980, 'tad': 4345, 'derek': 1191, 'depicts': 1185, 'survivors': 4323, 'mildred': 2840, 'thru': 4482, 'ho': 2126, 'olivier': 3101, 'brenda': 575, 'laughably': 2530, 'othello': 3133, 'bourne': 554, 'edie': 1419, 'purchase': 3468, 'stunned': 4240, 'earned': 1401, 'digital': 1250, 'garbo': 1870, 'bettie': 473, 'dust': 1388, 'ocean': 3077, 'neo': 2996, 'chuck': 812, 'simmons': 3978, 'wealth': 4825, 'justin': 2440, 'performs': 3233, 'gundam': 1996, 'lane': 2514, 'jenny': 2393, 'christians': 809, 'editor': 1423, 'falk': 1636, 'airport': 168, 'buffalo': 611}\n"
     ]
    }
   ],
   "source": [
    "print(str(vocabulary))"
   ]
  },
  {
   "cell_type": "markdown",
   "metadata": {},
   "source": [
    "Once you have added the endpoint name to the Lambda function, click on **Save**. Your Lambda function is now up and running. Next we need to create a way for our web app to execute the Lambda function."
   ]
  },
  {
   "cell_type": "markdown",
   "metadata": {},
   "source": [
    "### Setting up API Gateway\n",
    "\n",
    "Now that our Lambda function is set up, it is time to create a new API using API Gateway that will trigger the Lambda function we have just created.\n",
    "\n",
    "Using AWS Console, navigate to **Amazon API Gateway** and then click on **Get started**.\n",
    "\n",
    "On the next page, make sure that **New API** is selected and give the new api a name, for example, `sentiment_analysis_web_app`. Then, click on **Create API**.\n",
    "\n",
    "Now we have created an API, however it doesn't currently do anything. What we want it to do is to trigger the Lambda function that we created earlier.\n",
    "\n",
    "Select the **Actions** dropdown menu and click **Create Method**. A new blank method will be created, select its dropdown menu and select **POST**, then click on the check mark beside it.\n",
    "\n",
    "For the integration point, make sure that **Lambda Function** is selected and click on the **Use Lambda Proxy integration**. This option makes sure that the data that is sent to the API is then sent directly to the Lambda function with no processing. It also means that the return value must be a proper response object as it will also not be processed by API Gateway.\n",
    "\n",
    "Type the name of the Lambda function you created earlier into the **Lambda Function** text entry box and then click on **Save**. Click on **OK** in the pop-up box that then appears, giving permission to API Gateway to invoke the Lambda function you created.\n",
    "\n",
    "The last step in creating the API Gateway is to select the **Actions** dropdown and click on **Deploy API**. You will need to create a new Deployment stage and name it anything you like, for example `prod`.\n",
    "\n",
    "You have now successfully set up a public API to access your SageMaker model. Make sure to copy or write down the URL provided to invoke your newly created public API as this will be needed in the next step. This URL can be found at the top of the page, highlighted in blue next to the text **Invoke URL**."
   ]
  },
  {
   "cell_type": "markdown",
   "metadata": {},
   "source": [
    "## Step 7: Deploying our web app\n",
    "\n",
    "Now that we have a publicly available API, we can start using it in a web app. For our purposes, we have provided a simple static html file which can make use of the public api you created earlier.\n",
    "\n",
    "In the `website` folder there should be a file called `index.html`. Download the file to your computer and open that file up in a text editor of your choice. There should be a line which contains **\\*\\*REPLACE WITH PUBLIC API URL\\*\\***. Replace this string with the url that you wrote down in the last step and then save the file.\n",
    "\n",
    "Now, if you open `index.html` on your local computer, your browser will behave as a local web server and you can use the provided site to interact with your SageMaker model.\n",
    "\n",
    "If you'd like to go further, you can host this html file anywhere you'd like, for example using github or hosting a static site on Amazon's S3. Once you have done this you can share the link with anyone you'd like and have them play with it too!\n",
    "\n",
    "> **Important Note** In order for the web app to communicate with the SageMaker endpoint, the endpoint has to actually be deployed and running. This means that you are paying for it. Make sure that the endpoint is running when you want to use the web app but that you shut it down when you don't need it, otherwise you will end up with a surprisingly large AWS bill."
   ]
  },
  {
   "cell_type": "markdown",
   "metadata": {},
   "source": [
    "### Delete the endpoint\n",
    "\n",
    "Remember to always shut down your endpoint if you are no longer using it. You are charged for the length of time that the endpoint is running so if you forget and leave it on you could end up with an unexpectedly large bill."
   ]
  },
  {
   "cell_type": "code",
   "execution_count": 46,
   "metadata": {},
   "outputs": [],
   "source": [
    "xgb_predictor.delete_endpoint()"
   ]
  },
  {
   "cell_type": "markdown",
   "metadata": {},
   "source": [
    "## Optional: Clean up\n",
    "\n",
    "The default notebook instance on SageMaker doesn't have a lot of excess disk space available. As you continue to complete and execute notebooks you will eventually fill up this disk space, leading to errors which can be difficult to diagnose. Once you are completely finished using a notebook it is a good idea to remove the files that you created along the way. Of course, you can do this from the terminal or from the notebook hub if you would like. The cell below contains some commands to clean up the created files from within the notebook."
   ]
  },
  {
   "cell_type": "code",
   "execution_count": 47,
   "metadata": {},
   "outputs": [
    {
     "name": "stdout",
     "output_type": "stream",
     "text": [
      "rm: cannot remove ‘../data/sentiment_web_app/*’: No such file or directory\n",
      "rmdir: failed to remove ‘../data/sentiment_web_app’: No such file or directory\n",
      "rm: cannot remove ‘../cache/sentiment_web_app/*’: No such file or directory\n",
      "rmdir: failed to remove ‘../cache/sentiment_web_app’: No such file or directory\n"
     ]
    }
   ],
   "source": [
    "# First we will remove all of the files contained in the data_dir directory\n",
    "!rm $data_dir/*\n",
    "\n",
    "# And then we delete the directory itself\n",
    "!rmdir $data_dir\n",
    "\n",
    "# Similarly we remove the files in the cache_dir directory and the directory itself\n",
    "!rm $cache_dir/*\n",
    "!rmdir $cache_dir"
   ]
  },
  {
   "cell_type": "code",
   "execution_count": null,
   "metadata": {},
   "outputs": [],
   "source": []
  }
 ],
 "metadata": {
  "kernelspec": {
   "display_name": "conda_python3",
   "language": "python",
   "name": "conda_python3"
  },
  "language_info": {
   "codemirror_mode": {
    "name": "ipython",
    "version": 3
   },
   "file_extension": ".py",
   "mimetype": "text/x-python",
   "name": "python",
   "nbconvert_exporter": "python",
   "pygments_lexer": "ipython3",
   "version": "3.6.10"
  }
 },
 "nbformat": 4,
 "nbformat_minor": 4
}
